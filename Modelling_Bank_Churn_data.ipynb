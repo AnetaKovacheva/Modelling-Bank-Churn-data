{
  "nbformat": 4,
  "nbformat_minor": 5,
  "metadata": {
    "kernelspec": {
      "display_name": "Python 3",
      "language": "python",
      "name": "python3"
    },
    "language_info": {
      "codemirror_mode": {
        "name": "ipython",
        "version": 3
      },
      "file_extension": ".py",
      "mimetype": "text/x-python",
      "name": "python",
      "nbconvert_exporter": "python",
      "pygments_lexer": "ipython3",
      "version": "3.7.9"
    },
    "colab": {
      "name": "Modelling Bank Churn data.ipynb",
      "provenance": [],
      "collapsed_sections": [],
      "toc_visible": true
    }
  },
  "cells": [
    {
      "cell_type": "markdown",
      "metadata": {
        "id": "ogX6ZXCUheRj"
      },
      "source": [
        "# Modelling Bank Churn data"
      ],
      "id": "ogX6ZXCUheRj"
    },
    {
      "cell_type": "code",
      "metadata": {
        "colab": {
          "base_uri": "https://localhost:8080/"
        },
        "id": "MYph_7b-DjhZ",
        "outputId": "ea32c208-ead5-408e-faa3-e7b5c15acd94"
      },
      "source": [
        "from google.colab import drive\n",
        "drive.mount('/content/drive')"
      ],
      "id": "MYph_7b-DjhZ",
      "execution_count": 1,
      "outputs": [
        {
          "output_type": "stream",
          "name": "stdout",
          "text": [
            "Drive already mounted at /content/drive; to attempt to forcibly remount, call drive.mount(\"/content/drive\", force_remount=True).\n"
          ]
        }
      ]
    },
    {
      "cell_type": "markdown",
      "metadata": {
        "id": "GFUL6ttyhnZV"
      },
      "source": [
        "This Notebook explores and models the Bank Churn dataset. It is available in [Kaggle](https://www.kaggle.com/shrutimechlearn/churn-modelling) and was studied by [Amit Chauhan](https://pub.towardsai.net/bank-churn-modeling-with-neural-networks-31881eee6112). He employs `KerasClassifier` to find the best Neural Net, capable to predict if a client is going to close his/her bank account or not. \n",
        "\n",
        "The work below follows the same approach but extends it to improve predictions. Bank Churn data contains details of a bank's customers (e.g., age, gender, issued credit card, balance, etc.); the target (\"Exited\") is a binary variable reflecting the fact whether the customer left the bank (closed his account) or he continues to be a customer. The dataset has only 10000 entries and for this reason predictions were made with ensemble algorithms instead with a Neural Network, which would be suitable for a much larger dataset. "
      ],
      "id": "GFUL6ttyhnZV"
    },
    {
      "cell_type": "markdown",
      "metadata": {
        "id": "FixIi7YjkZqp"
      },
      "source": [
        "### Imports"
      ],
      "id": "FixIi7YjkZqp"
    },
    {
      "cell_type": "code",
      "metadata": {
        "id": "91eb8f50"
      },
      "source": [
        "%matplotlib inline"
      ],
      "id": "91eb8f50",
      "execution_count": 2,
      "outputs": []
    },
    {
      "cell_type": "code",
      "metadata": {
        "id": "24c2f935"
      },
      "source": [
        "import numpy as np\n",
        "import pandas as pd\n",
        "import matplotlib.pyplot as plt\n",
        "import seaborn as sns\n",
        "from collections import Counter"
      ],
      "id": "24c2f935",
      "execution_count": 3,
      "outputs": []
    },
    {
      "cell_type": "code",
      "metadata": {
        "id": "34054517"
      },
      "source": [
        "from sklearn.model_selection import train_test_split\n",
        "from sklearn.model_selection import GridSearchCV\n",
        "from sklearn.ensemble import RandomForestClassifier, AdaBoostClassifier\n",
        "from sklearn.metrics import make_scorer, accuracy_score, f1_score, confusion_matrix, classification_report"
      ],
      "id": "34054517",
      "execution_count": 4,
      "outputs": []
    },
    {
      "cell_type": "code",
      "metadata": {
        "id": "9ade9be9"
      },
      "source": [
        "import tensorflow as tf"
      ],
      "id": "9ade9be9",
      "execution_count": 5,
      "outputs": []
    },
    {
      "cell_type": "code",
      "metadata": {
        "id": "0c682c26"
      },
      "source": [
        "from tensorflow.keras.wrappers.scikit_learn import KerasClassifier\n",
        "from tensorflow.keras.models import Sequential\n",
        "from tensorflow.keras.layers import Dense, Activation\n",
        "from tensorflow.keras.activations import relu, sigmoid"
      ],
      "id": "0c682c26",
      "execution_count": 6,
      "outputs": []
    },
    {
      "cell_type": "markdown",
      "metadata": {
        "id": "zC6dakl1lBy0"
      },
      "source": [
        "## I. Load Bank Churn Dataset"
      ],
      "id": "zC6dakl1lBy0"
    },
    {
      "cell_type": "markdown",
      "metadata": {
        "id": "ctZPgT53lJGz"
      },
      "source": [
        "The dataset was loaded and stored in `bank_data`. Its head rows are displayed below."
      ],
      "id": "ctZPgT53lJGz"
    },
    {
      "cell_type": "code",
      "metadata": {
        "id": "aa23c06e"
      },
      "source": [
        "bank_data = pd.read_csv(\"/content/drive/MyDrive/small_tasks/Churn_Modelling.csv\")"
      ],
      "id": "aa23c06e",
      "execution_count": 7,
      "outputs": []
    },
    {
      "cell_type": "code",
      "metadata": {
        "colab": {
          "base_uri": "https://localhost:8080/",
          "height": 226
        },
        "id": "8cd935fd",
        "outputId": "e44921e5-df28-4d63-8eee-76c37ffdd101"
      },
      "source": [
        "bank_data.head()"
      ],
      "id": "8cd935fd",
      "execution_count": 8,
      "outputs": [
        {
          "output_type": "execute_result",
          "data": {
            "text/html": [
              "<div>\n",
              "<style scoped>\n",
              "    .dataframe tbody tr th:only-of-type {\n",
              "        vertical-align: middle;\n",
              "    }\n",
              "\n",
              "    .dataframe tbody tr th {\n",
              "        vertical-align: top;\n",
              "    }\n",
              "\n",
              "    .dataframe thead th {\n",
              "        text-align: right;\n",
              "    }\n",
              "</style>\n",
              "<table border=\"1\" class=\"dataframe\">\n",
              "  <thead>\n",
              "    <tr style=\"text-align: right;\">\n",
              "      <th></th>\n",
              "      <th>RowNumber</th>\n",
              "      <th>CustomerId</th>\n",
              "      <th>Surname</th>\n",
              "      <th>CreditScore</th>\n",
              "      <th>Geography</th>\n",
              "      <th>Gender</th>\n",
              "      <th>Age</th>\n",
              "      <th>Tenure</th>\n",
              "      <th>Balance</th>\n",
              "      <th>NumOfProducts</th>\n",
              "      <th>HasCrCard</th>\n",
              "      <th>IsActiveMember</th>\n",
              "      <th>EstimatedSalary</th>\n",
              "      <th>Exited</th>\n",
              "    </tr>\n",
              "  </thead>\n",
              "  <tbody>\n",
              "    <tr>\n",
              "      <th>0</th>\n",
              "      <td>1</td>\n",
              "      <td>15634602</td>\n",
              "      <td>Hargrave</td>\n",
              "      <td>619</td>\n",
              "      <td>France</td>\n",
              "      <td>Female</td>\n",
              "      <td>42</td>\n",
              "      <td>2</td>\n",
              "      <td>0.00</td>\n",
              "      <td>1</td>\n",
              "      <td>1</td>\n",
              "      <td>1</td>\n",
              "      <td>101348.88</td>\n",
              "      <td>1</td>\n",
              "    </tr>\n",
              "    <tr>\n",
              "      <th>1</th>\n",
              "      <td>2</td>\n",
              "      <td>15647311</td>\n",
              "      <td>Hill</td>\n",
              "      <td>608</td>\n",
              "      <td>Spain</td>\n",
              "      <td>Female</td>\n",
              "      <td>41</td>\n",
              "      <td>1</td>\n",
              "      <td>83807.86</td>\n",
              "      <td>1</td>\n",
              "      <td>0</td>\n",
              "      <td>1</td>\n",
              "      <td>112542.58</td>\n",
              "      <td>0</td>\n",
              "    </tr>\n",
              "    <tr>\n",
              "      <th>2</th>\n",
              "      <td>3</td>\n",
              "      <td>15619304</td>\n",
              "      <td>Onio</td>\n",
              "      <td>502</td>\n",
              "      <td>France</td>\n",
              "      <td>Female</td>\n",
              "      <td>42</td>\n",
              "      <td>8</td>\n",
              "      <td>159660.80</td>\n",
              "      <td>3</td>\n",
              "      <td>1</td>\n",
              "      <td>0</td>\n",
              "      <td>113931.57</td>\n",
              "      <td>1</td>\n",
              "    </tr>\n",
              "    <tr>\n",
              "      <th>3</th>\n",
              "      <td>4</td>\n",
              "      <td>15701354</td>\n",
              "      <td>Boni</td>\n",
              "      <td>699</td>\n",
              "      <td>France</td>\n",
              "      <td>Female</td>\n",
              "      <td>39</td>\n",
              "      <td>1</td>\n",
              "      <td>0.00</td>\n",
              "      <td>2</td>\n",
              "      <td>0</td>\n",
              "      <td>0</td>\n",
              "      <td>93826.63</td>\n",
              "      <td>0</td>\n",
              "    </tr>\n",
              "    <tr>\n",
              "      <th>4</th>\n",
              "      <td>5</td>\n",
              "      <td>15737888</td>\n",
              "      <td>Mitchell</td>\n",
              "      <td>850</td>\n",
              "      <td>Spain</td>\n",
              "      <td>Female</td>\n",
              "      <td>43</td>\n",
              "      <td>2</td>\n",
              "      <td>125510.82</td>\n",
              "      <td>1</td>\n",
              "      <td>1</td>\n",
              "      <td>1</td>\n",
              "      <td>79084.10</td>\n",
              "      <td>0</td>\n",
              "    </tr>\n",
              "  </tbody>\n",
              "</table>\n",
              "</div>"
            ],
            "text/plain": [
              "   RowNumber  CustomerId   Surname  ...  IsActiveMember EstimatedSalary Exited\n",
              "0          1    15634602  Hargrave  ...               1       101348.88      1\n",
              "1          2    15647311      Hill  ...               1       112542.58      0\n",
              "2          3    15619304      Onio  ...               0       113931.57      1\n",
              "3          4    15701354      Boni  ...               0        93826.63      0\n",
              "4          5    15737888  Mitchell  ...               1        79084.10      0\n",
              "\n",
              "[5 rows x 14 columns]"
            ]
          },
          "metadata": {},
          "execution_count": 8
        }
      ]
    },
    {
      "cell_type": "markdown",
      "metadata": {
        "id": "rClX9JRlm4Kd"
      },
      "source": [
        "## II. Exploratory Data Analysis"
      ],
      "id": "rClX9JRlm4Kd"
    },
    {
      "cell_type": "code",
      "metadata": {
        "colab": {
          "base_uri": "https://localhost:8080/"
        },
        "id": "82c26dd1",
        "outputId": "42f9c94c-2c65-4416-8496-b03ad0c97051"
      },
      "source": [
        "bank_data.shape"
      ],
      "id": "82c26dd1",
      "execution_count": 9,
      "outputs": [
        {
          "output_type": "execute_result",
          "data": {
            "text/plain": [
              "(10000, 14)"
            ]
          },
          "metadata": {},
          "execution_count": 9
        }
      ]
    },
    {
      "cell_type": "markdown",
      "metadata": {
        "id": "jYCX0xiOlVV0"
      },
      "source": [
        "The dataset has 10000 rows (unique entries for each client) and 14 columns. The latter hold information about clients' ID in the bank, surname, credit score, place of residence, gender and age, type of tenure, account balance, number of products used, if the account is associated with a credit card or not, if the client is an active member, estimated salary, and if he or she has closed the account.\n",
        "\n",
        "The check below shows that there are not missing values. Some columns hold numeric (int64 or float64) values, whereas others - strings (e.g., place of residence, gender, etc.)"
      ],
      "id": "jYCX0xiOlVV0"
    },
    {
      "cell_type": "code",
      "metadata": {
        "colab": {
          "base_uri": "https://localhost:8080/"
        },
        "id": "50146163",
        "outputId": "6fb8bb95-9060-4e28-efba-379bcb3dbc9c"
      },
      "source": [
        "bank_data.info()"
      ],
      "id": "50146163",
      "execution_count": 10,
      "outputs": [
        {
          "output_type": "stream",
          "name": "stdout",
          "text": [
            "<class 'pandas.core.frame.DataFrame'>\n",
            "RangeIndex: 10000 entries, 0 to 9999\n",
            "Data columns (total 14 columns):\n",
            " #   Column           Non-Null Count  Dtype  \n",
            "---  ------           --------------  -----  \n",
            " 0   RowNumber        10000 non-null  int64  \n",
            " 1   CustomerId       10000 non-null  int64  \n",
            " 2   Surname          10000 non-null  object \n",
            " 3   CreditScore      10000 non-null  int64  \n",
            " 4   Geography        10000 non-null  object \n",
            " 5   Gender           10000 non-null  object \n",
            " 6   Age              10000 non-null  int64  \n",
            " 7   Tenure           10000 non-null  int64  \n",
            " 8   Balance          10000 non-null  float64\n",
            " 9   NumOfProducts    10000 non-null  int64  \n",
            " 10  HasCrCard        10000 non-null  int64  \n",
            " 11  IsActiveMember   10000 non-null  int64  \n",
            " 12  EstimatedSalary  10000 non-null  float64\n",
            " 13  Exited           10000 non-null  int64  \n",
            "dtypes: float64(2), int64(9), object(3)\n",
            "memory usage: 1.1+ MB\n"
          ]
        }
      ]
    },
    {
      "cell_type": "markdown",
      "metadata": {
        "id": "eTH38dd_m-OC"
      },
      "source": [
        "Bank's clients reside in only three countries - France, Spain, and Germany."
      ],
      "id": "eTH38dd_m-OC"
    },
    {
      "cell_type": "code",
      "metadata": {
        "colab": {
          "base_uri": "https://localhost:8080/"
        },
        "id": "e76f6eb0",
        "outputId": "0028905a-b956-4641-8789-1dfa4e0a0bbc"
      },
      "source": [
        "bank_data[\"Geography\"].unique()"
      ],
      "id": "e76f6eb0",
      "execution_count": 11,
      "outputs": [
        {
          "output_type": "execute_result",
          "data": {
            "text/plain": [
              "array(['France', 'Spain', 'Germany'], dtype=object)"
            ]
          },
          "metadata": {},
          "execution_count": 11
        }
      ]
    },
    {
      "cell_type": "markdown",
      "metadata": {
        "id": "gU9Ss0DFnXLB"
      },
      "source": [
        "The Bank offered to its clients only four products but there is not information as what these products were. "
      ],
      "id": "gU9Ss0DFnXLB"
    },
    {
      "cell_type": "code",
      "metadata": {
        "colab": {
          "base_uri": "https://localhost:8080/"
        },
        "id": "cf3efda9",
        "outputId": "ccd21b06-0f6d-4489-c9e5-0d64aa5abe6f"
      },
      "source": [
        "bank_data[\"NumOfProducts\"].unique()"
      ],
      "id": "cf3efda9",
      "execution_count": 12,
      "outputs": [
        {
          "output_type": "execute_result",
          "data": {
            "text/plain": [
              "array([1, 3, 2, 4])"
            ]
          },
          "metadata": {},
          "execution_count": 12
        }
      ]
    },
    {
      "cell_type": "markdown",
      "metadata": {
        "id": "NrumKaYVnt2_"
      },
      "source": [
        "It is important to get insight into the values and their range in each feature (column). Therefore, the next code lines plots distributions and counts for each variable. Computations were wrapped in a function to speed up and simplify the analysis."
      ],
      "id": "NrumKaYVnt2_"
    },
    {
      "cell_type": "code",
      "metadata": {
        "id": "c2de7361"
      },
      "source": [
        "def plot_distribution(column):\n",
        "    \"\"\"\n",
        "    Function: displays distribution of continuous variables; computes mean \n",
        "      and median values.\n",
        "    \n",
        "    Parameters: feature placed inside quotation marks.\n",
        "    \n",
        "    Returns: distribution plot.\n",
        "    \"\"\"\n",
        "    mean = bank_data[column].mean()\n",
        "    median = bank_data[column].median()\n",
        "\n",
        "    plt.hist(bank_data[column], bins = 15)\n",
        "    plt.axvline(mean, color = \"r\", linestyle = \"--\")\n",
        "    plt.axvline(median, color = \"y\", linestyle = \"-\")\n",
        "    \n",
        "    plt.xlabel(column)\n",
        "    plt.ylabel(\"Count\")\n",
        "    plt.title(f\"Distribution of {column}\")\n",
        "    plt.show()"
      ],
      "id": "c2de7361",
      "execution_count": 13,
      "outputs": []
    },
    {
      "cell_type": "markdown",
      "metadata": {
        "id": "roUlk-lfpB7f"
      },
      "source": [
        "Credit scores range between 350 and 850 poits. Most clients were scored around 650. Both the mean and the median are around this figure. Values are almost normally distributed."
      ],
      "id": "roUlk-lfpB7f"
    },
    {
      "cell_type": "code",
      "metadata": {
        "colab": {
          "base_uri": "https://localhost:8080/",
          "height": 295
        },
        "id": "e813a449",
        "outputId": "aff01396-a114-4cf9-8435-74ab51f450af"
      },
      "source": [
        "plot_distribution(\"CreditScore\")"
      ],
      "id": "e813a449",
      "execution_count": 14,
      "outputs": [
        {
          "output_type": "display_data",
          "data": {
            "image/png": "[encoded data removed]",
            "text/plain": [
              "<Figure size 432x288 with 1 Axes>"
            ]
          },
          "metadata": {
            "needs_background": "light"
          }
        }
      ]
    },
    {
      "cell_type": "markdown",
      "metadata": {
        "id": "vRFURdDcpilH"
      },
      "source": [
        "Most Bank customers are young people. Their mean age is slightly below 40 years of age. Data distribution is skewed on the right, i.e., the right tail is much longer than the left tail. This pushes the median to the left, away from the mean."
      ],
      "id": "vRFURdDcpilH"
    },
    {
      "cell_type": "code",
      "metadata": {
        "colab": {
          "base_uri": "https://localhost:8080/",
          "height": 295
        },
        "id": "fa83ebf2",
        "outputId": "58e831ec-586a-4369-800c-05800d1360c4"
      },
      "source": [
        "plot_distribution(\"Age\")"
      ],
      "id": "fa83ebf2",
      "execution_count": 15,
      "outputs": [
        {
          "output_type": "display_data",
          "data": {
            "image/png": "[encoded data removed]",
            "text/plain": [
              "<Figure size 432x288 with 1 Axes>"
            ]
          },
          "metadata": {
            "needs_background": "light"
          }
        }
      ]
    },
    {
      "cell_type": "markdown",
      "metadata": {
        "id": "SpzVbbCWrFa0"
      },
      "source": [
        "If there were not people with zero balance, the remaining values would have been normally distributed. However, as high as 36% of customers had no money in their account."
      ],
      "id": "SpzVbbCWrFa0"
    },
    {
      "cell_type": "code",
      "metadata": {
        "colab": {
          "base_uri": "https://localhost:8080/",
          "height": 444
        },
        "id": "tMKHMDCgrmH9",
        "outputId": "2b0ef707-6b15-4cff-ef4c-06e726cdafed"
      },
      "source": [
        "bank_data[bank_data[\"Balance\"] == 0]"
      ],
      "id": "tMKHMDCgrmH9",
      "execution_count": 16,
      "outputs": [
        {
          "output_type": "execute_result",
          "data": {
            "text/html": [
              "<div>\n",
              "<style scoped>\n",
              "    .dataframe tbody tr th:only-of-type {\n",
              "        vertical-align: middle;\n",
              "    }\n",
              "\n",
              "    .dataframe tbody tr th {\n",
              "        vertical-align: top;\n",
              "    }\n",
              "\n",
              "    .dataframe thead th {\n",
              "        text-align: right;\n",
              "    }\n",
              "</style>\n",
              "<table border=\"1\" class=\"dataframe\">\n",
              "  <thead>\n",
              "    <tr style=\"text-align: right;\">\n",
              "      <th></th>\n",
              "      <th>RowNumber</th>\n",
              "      <th>CustomerId</th>\n",
              "      <th>Surname</th>\n",
              "      <th>CreditScore</th>\n",
              "      <th>Geography</th>\n",
              "      <th>Gender</th>\n",
              "      <th>Age</th>\n",
              "      <th>Tenure</th>\n",
              "      <th>Balance</th>\n",
              "      <th>NumOfProducts</th>\n",
              "      <th>HasCrCard</th>\n",
              "      <th>IsActiveMember</th>\n",
              "      <th>EstimatedSalary</th>\n",
              "      <th>Exited</th>\n",
              "    </tr>\n",
              "  </thead>\n",
              "  <tbody>\n",
              "    <tr>\n",
              "      <th>0</th>\n",
              "      <td>1</td>\n",
              "      <td>15634602</td>\n",
              "      <td>Hargrave</td>\n",
              "      <td>619</td>\n",
              "      <td>France</td>\n",
              "      <td>Female</td>\n",
              "      <td>42</td>\n",
              "      <td>2</td>\n",
              "      <td>0.0</td>\n",
              "      <td>1</td>\n",
              "      <td>1</td>\n",
              "      <td>1</td>\n",
              "      <td>101348.88</td>\n",
              "      <td>1</td>\n",
              "    </tr>\n",
              "    <tr>\n",
              "      <th>3</th>\n",
              "      <td>4</td>\n",
              "      <td>15701354</td>\n",
              "      <td>Boni</td>\n",
              "      <td>699</td>\n",
              "      <td>France</td>\n",
              "      <td>Female</td>\n",
              "      <td>39</td>\n",
              "      <td>1</td>\n",
              "      <td>0.0</td>\n",
              "      <td>2</td>\n",
              "      <td>0</td>\n",
              "      <td>0</td>\n",
              "      <td>93826.63</td>\n",
              "      <td>0</td>\n",
              "    </tr>\n",
              "    <tr>\n",
              "      <th>6</th>\n",
              "      <td>7</td>\n",
              "      <td>15592531</td>\n",
              "      <td>Bartlett</td>\n",
              "      <td>822</td>\n",
              "      <td>France</td>\n",
              "      <td>Male</td>\n",
              "      <td>50</td>\n",
              "      <td>7</td>\n",
              "      <td>0.0</td>\n",
              "      <td>2</td>\n",
              "      <td>1</td>\n",
              "      <td>1</td>\n",
              "      <td>10062.80</td>\n",
              "      <td>0</td>\n",
              "    </tr>\n",
              "    <tr>\n",
              "      <th>11</th>\n",
              "      <td>12</td>\n",
              "      <td>15737173</td>\n",
              "      <td>Andrews</td>\n",
              "      <td>497</td>\n",
              "      <td>Spain</td>\n",
              "      <td>Male</td>\n",
              "      <td>24</td>\n",
              "      <td>3</td>\n",
              "      <td>0.0</td>\n",
              "      <td>2</td>\n",
              "      <td>1</td>\n",
              "      <td>0</td>\n",
              "      <td>76390.01</td>\n",
              "      <td>0</td>\n",
              "    </tr>\n",
              "    <tr>\n",
              "      <th>12</th>\n",
              "      <td>13</td>\n",
              "      <td>15632264</td>\n",
              "      <td>Kay</td>\n",
              "      <td>476</td>\n",
              "      <td>France</td>\n",
              "      <td>Female</td>\n",
              "      <td>34</td>\n",
              "      <td>10</td>\n",
              "      <td>0.0</td>\n",
              "      <td>2</td>\n",
              "      <td>1</td>\n",
              "      <td>0</td>\n",
              "      <td>26260.98</td>\n",
              "      <td>0</td>\n",
              "    </tr>\n",
              "    <tr>\n",
              "      <th>...</th>\n",
              "      <td>...</td>\n",
              "      <td>...</td>\n",
              "      <td>...</td>\n",
              "      <td>...</td>\n",
              "      <td>...</td>\n",
              "      <td>...</td>\n",
              "      <td>...</td>\n",
              "      <td>...</td>\n",
              "      <td>...</td>\n",
              "      <td>...</td>\n",
              "      <td>...</td>\n",
              "      <td>...</td>\n",
              "      <td>...</td>\n",
              "      <td>...</td>\n",
              "    </tr>\n",
              "    <tr>\n",
              "      <th>9989</th>\n",
              "      <td>9990</td>\n",
              "      <td>15605622</td>\n",
              "      <td>McMillan</td>\n",
              "      <td>841</td>\n",
              "      <td>Spain</td>\n",
              "      <td>Male</td>\n",
              "      <td>28</td>\n",
              "      <td>4</td>\n",
              "      <td>0.0</td>\n",
              "      <td>2</td>\n",
              "      <td>1</td>\n",
              "      <td>1</td>\n",
              "      <td>179436.60</td>\n",
              "      <td>0</td>\n",
              "    </tr>\n",
              "    <tr>\n",
              "      <th>9992</th>\n",
              "      <td>9993</td>\n",
              "      <td>15657105</td>\n",
              "      <td>Chukwualuka</td>\n",
              "      <td>726</td>\n",
              "      <td>Spain</td>\n",
              "      <td>Male</td>\n",
              "      <td>36</td>\n",
              "      <td>2</td>\n",
              "      <td>0.0</td>\n",
              "      <td>1</td>\n",
              "      <td>1</td>\n",
              "      <td>0</td>\n",
              "      <td>195192.40</td>\n",
              "      <td>0</td>\n",
              "    </tr>\n",
              "    <tr>\n",
              "      <th>9994</th>\n",
              "      <td>9995</td>\n",
              "      <td>15719294</td>\n",
              "      <td>Wood</td>\n",
              "      <td>800</td>\n",
              "      <td>France</td>\n",
              "      <td>Female</td>\n",
              "      <td>29</td>\n",
              "      <td>2</td>\n",
              "      <td>0.0</td>\n",
              "      <td>2</td>\n",
              "      <td>0</td>\n",
              "      <td>0</td>\n",
              "      <td>167773.55</td>\n",
              "      <td>0</td>\n",
              "    </tr>\n",
              "    <tr>\n",
              "      <th>9995</th>\n",
              "      <td>9996</td>\n",
              "      <td>15606229</td>\n",
              "      <td>Obijiaku</td>\n",
              "      <td>771</td>\n",
              "      <td>France</td>\n",
              "      <td>Male</td>\n",
              "      <td>39</td>\n",
              "      <td>5</td>\n",
              "      <td>0.0</td>\n",
              "      <td>2</td>\n",
              "      <td>1</td>\n",
              "      <td>0</td>\n",
              "      <td>96270.64</td>\n",
              "      <td>0</td>\n",
              "    </tr>\n",
              "    <tr>\n",
              "      <th>9997</th>\n",
              "      <td>9998</td>\n",
              "      <td>15584532</td>\n",
              "      <td>Liu</td>\n",
              "      <td>709</td>\n",
              "      <td>France</td>\n",
              "      <td>Female</td>\n",
              "      <td>36</td>\n",
              "      <td>7</td>\n",
              "      <td>0.0</td>\n",
              "      <td>1</td>\n",
              "      <td>0</td>\n",
              "      <td>1</td>\n",
              "      <td>42085.58</td>\n",
              "      <td>1</td>\n",
              "    </tr>\n",
              "  </tbody>\n",
              "</table>\n",
              "<p>3617 rows × 14 columns</p>\n",
              "</div>"
            ],
            "text/plain": [
              "      RowNumber  CustomerId  ... EstimatedSalary  Exited\n",
              "0             1    15634602  ...       101348.88       1\n",
              "3             4    15701354  ...        93826.63       0\n",
              "6             7    15592531  ...        10062.80       0\n",
              "11           12    15737173  ...        76390.01       0\n",
              "12           13    15632264  ...        26260.98       0\n",
              "...         ...         ...  ...             ...     ...\n",
              "9989       9990    15605622  ...       179436.60       0\n",
              "9992       9993    15657105  ...       195192.40       0\n",
              "9994       9995    15719294  ...       167773.55       0\n",
              "9995       9996    15606229  ...        96270.64       0\n",
              "9997       9998    15584532  ...        42085.58       1\n",
              "\n",
              "[3617 rows x 14 columns]"
            ]
          },
          "metadata": {},
          "execution_count": 16
        }
      ]
    },
    {
      "cell_type": "markdown",
      "metadata": {
        "id": "hhVtby0ZsF4w"
      },
      "source": [
        "For this reason, both the mean and the median are pulled to the left. Most clients with positive balance on their account had between 50000 and 200000 currency units (e.g., USD, Euros, etc.)."
      ],
      "id": "hhVtby0ZsF4w"
    },
    {
      "cell_type": "code",
      "metadata": {
        "colab": {
          "base_uri": "https://localhost:8080/",
          "height": 295
        },
        "id": "53ea3ab5",
        "outputId": "05a39b2b-00ec-439f-bc14-f740d9f61751"
      },
      "source": [
        "plot_distribution(\"Balance\")"
      ],
      "id": "53ea3ab5",
      "execution_count": 17,
      "outputs": [
        {
          "output_type": "display_data",
          "data": {
            "image/png": "[encoded data removed]",
            "text/plain": [
              "<Figure size 432x288 with 1 Axes>"
            ]
          },
          "metadata": {
            "needs_background": "light"
          }
        }
      ]
    },
    {
      "cell_type": "markdown",
      "metadata": {
        "id": "U6jc2Yn3EJON"
      },
      "source": [
        "In terms of income, there is not a prevailing amount in the data. Values in Estimated Salary are distributed uniformly between 0 and 200000 currency units. Both the mean and the median are around 100000."
      ],
      "id": "U6jc2Yn3EJON"
    },
    {
      "cell_type": "code",
      "metadata": {
        "colab": {
          "base_uri": "https://localhost:8080/",
          "height": 295
        },
        "id": "463fb8d8",
        "outputId": "d5f13eb1-f8cc-438a-ece2-b25593ea4f0f"
      },
      "source": [
        "plt.figure(figsize = (8, 4))\n",
        "plot_distribution(\"EstimatedSalary\")"
      ],
      "id": "463fb8d8",
      "execution_count": 18,
      "outputs": [
        {
          "output_type": "display_data",
          "data": {
            "image/png": "[encoded data removed]",
            "text/plain": [
              "<Figure size 576x288 with 1 Axes>"
            ]
          },
          "metadata": {
            "needs_background": "light"
          }
        }
      ]
    },
    {
      "cell_type": "code",
      "metadata": {
        "id": "e26ddb2f"
      },
      "source": [
        "def plot_counts(column):\n",
        "    \"\"\"\n",
        "    Function: displays counts of discrete variables (categories)\n",
        "    \n",
        "    Parameters: feature placed inside quotation marks.\n",
        "    \n",
        "    Returns: count plot.\n",
        "    \"\"\"\n",
        "    bank_data[column].value_counts().plot(kind = \"bar\")\n",
        "    plt.xticks(rotation = 0)\n",
        "    plt.ylabel(\"Count\")\n",
        "    plt.title(f\"Count of each category in {column}\")\n",
        "    plt.show()"
      ],
      "id": "e26ddb2f",
      "execution_count": 19,
      "outputs": []
    },
    {
      "cell_type": "markdown",
      "metadata": {
        "id": "bbOA4XuEE9Fu"
      },
      "source": [
        "Most Bank's customers reside in France. Almost equal number live either in Germany or in Spain."
      ],
      "id": "bbOA4XuEE9Fu"
    },
    {
      "cell_type": "code",
      "metadata": {
        "colab": {
          "base_uri": "https://localhost:8080/"
        },
        "id": "MBWvce_NFIUf",
        "outputId": "4c89c25f-82ac-46f4-bf43-efeab7c8f53a"
      },
      "source": [
        "Counter(bank_data[\"Geography\"])"
      ],
      "id": "MBWvce_NFIUf",
      "execution_count": 20,
      "outputs": [
        {
          "output_type": "execute_result",
          "data": {
            "text/plain": [
              "Counter({'France': 5014, 'Germany': 2509, 'Spain': 2477})"
            ]
          },
          "metadata": {},
          "execution_count": 20
        }
      ]
    },
    {
      "cell_type": "code",
      "metadata": {
        "colab": {
          "base_uri": "https://localhost:8080/",
          "height": 281
        },
        "id": "a70b8c8e",
        "outputId": "53640086-8586-451b-b38b-b0beb6fcee4f"
      },
      "source": [
        "plot_counts(\"Geography\")"
      ],
      "id": "a70b8c8e",
      "execution_count": 21,
      "outputs": [
        {
          "output_type": "display_data",
          "data": {
            "image/png": "[encoded data removed]",
            "text/plain": [
              "<Figure size 432x288 with 1 Axes>"
            ]
          },
          "metadata": {
            "needs_background": "light"
          }
        }
      ]
    },
    {
      "cell_type": "markdown",
      "metadata": {
        "id": "GSEdfpxPGTVc"
      },
      "source": [
        "It seems that slightly more men than women have a bank account in the analysed institution."
      ],
      "id": "GSEdfpxPGTVc"
    },
    {
      "cell_type": "code",
      "metadata": {
        "colab": {
          "base_uri": "https://localhost:8080/",
          "height": 281
        },
        "id": "9320f3bb",
        "outputId": "9a72c8eb-495f-455c-fa3f-6ffa4561ed0b"
      },
      "source": [
        "plot_counts(\"Gender\")"
      ],
      "id": "9320f3bb",
      "execution_count": 22,
      "outputs": [
        {
          "output_type": "display_data",
          "data": {
            "image/png": "[encoded data removed]",
            "text/plain": [
              "<Figure size 432x288 with 1 Axes>"
            ]
          },
          "metadata": {
            "needs_background": "light"
          }
        }
      ]
    },
    {
      "cell_type": "markdown",
      "metadata": {
        "id": "3jGZhvxiGslU"
      },
      "source": [
        "Tenure referes to the minimum time for keeping the money with the bank. It is not clear from the data source what exactly stands behind \"Tenure\" categories. Nonetheless, the plot below shows that each period had amlost equal number of clients save those that chose \"10\" or \"0\"."
      ],
      "id": "3jGZhvxiGslU"
    },
    {
      "cell_type": "code",
      "metadata": {
        "colab": {
          "base_uri": "https://localhost:8080/",
          "height": 281
        },
        "id": "1339932d",
        "outputId": "82b29a67-447e-49b1-edcb-3f37376e24d4"
      },
      "source": [
        "plot_counts(\"Tenure\")"
      ],
      "id": "1339932d",
      "execution_count": 23,
      "outputs": [
        {
          "output_type": "display_data",
          "data": {
            "image/png": "[encoded data removed]",
            "text/plain": [
              "<Figure size 432x288 with 1 Axes>"
            ]
          },
          "metadata": {
            "needs_background": "light"
          }
        }
      ]
    },
    {
      "cell_type": "markdown",
      "metadata": {
        "id": "gqnntPWRHR6j"
      },
      "source": [
        "There is not clarification as to the type of products used by the clients either. Most of them used products of type \"1\" or \"2\". Only a tiny number of customers chose products \"3\" and \"4\"."
      ],
      "id": "gqnntPWRHR6j"
    },
    {
      "cell_type": "code",
      "metadata": {
        "colab": {
          "base_uri": "https://localhost:8080/",
          "height": 281
        },
        "id": "23570134",
        "outputId": "6cdd6422-4172-487c-cf53-f0336fdf4643"
      },
      "source": [
        "plot_counts(\"NumOfProducts\")"
      ],
      "id": "23570134",
      "execution_count": 24,
      "outputs": [
        {
          "output_type": "display_data",
          "data": {
            "image/png": "[encoded data removed]",
            "text/plain": [
              "<Figure size 432x288 with 1 Axes>"
            ]
          },
          "metadata": {
            "needs_background": "light"
          }
        }
      ]
    },
    {
      "cell_type": "markdown",
      "metadata": {
        "id": "F7VpppFbHtHG"
      },
      "source": [
        "Some colums, including the target one (the one holding the labels), have only \"1\" and \"0\" values. Following the [Boolean data type convention](https://en.wikipedia.org/wiki/Boolean_data_type), it is assumed that \"1\" stands for \"Yes\" / \"True\", and \"0\" - for \"No\" / \"False\". Thus, it could be concluded that around 70% of account owners have a credit card associated with it."
      ],
      "id": "F7VpppFbHtHG"
    },
    {
      "cell_type": "code",
      "metadata": {
        "colab": {
          "base_uri": "https://localhost:8080/",
          "height": 281
        },
        "id": "b436beff",
        "outputId": "eeee2640-b919-4abf-db43-0166cc2e4c23"
      },
      "source": [
        "plot_counts(\"HasCrCard\")"
      ],
      "id": "b436beff",
      "execution_count": 25,
      "outputs": [
        {
          "output_type": "display_data",
          "data": {
            "image/png": "[encoded data removed]",
            "text/plain": [
              "<Figure size 432x288 with 1 Axes>"
            ]
          },
          "metadata": {
            "needs_background": "light"
          }
        }
      ]
    },
    {
      "cell_type": "markdown",
      "metadata": {
        "id": "kpc6eanUJEnO"
      },
      "source": [
        "It is not clear what \"an active member\" exactly means, too. It could be assumed that a client is an active member if he or she regularly (e.g., at least 2 - 3 time a month) makes transactions. Hence, the data show that half of the customers were active, and the remaining half were not."
      ],
      "id": "kpc6eanUJEnO"
    },
    {
      "cell_type": "code",
      "metadata": {
        "colab": {
          "base_uri": "https://localhost:8080/",
          "height": 281
        },
        "id": "3c488b2b",
        "outputId": "ecd46bef-2588-492f-9956-d036020aca27"
      },
      "source": [
        "plot_counts(\"IsActiveMember\")"
      ],
      "id": "3c488b2b",
      "execution_count": 26,
      "outputs": [
        {
          "output_type": "display_data",
          "data": {
            "image/png": "[encoded data removed]",
            "text/plain": [
              "<Figure size 432x288 with 1 Axes>"
            ]
          },
          "metadata": {
            "needs_background": "light"
          }
        }
      ]
    },
    {
      "cell_type": "markdown",
      "metadata": {
        "id": "FdLU3NJ0JnVJ"
      },
      "source": [
        "The target (label) column \"Exited\" shows if a customer has closed his or her account or not. The plot below suggests most people remained clients of the analysed bank."
      ],
      "id": "FdLU3NJ0JnVJ"
    },
    {
      "cell_type": "code",
      "metadata": {
        "colab": {
          "base_uri": "https://localhost:8080/"
        },
        "id": "x8xCi8y0UKeH",
        "outputId": "2f0e58db-5bdf-4546-ef7a-a506e8311e73"
      },
      "source": [
        "Counter(bank_data[\"Exited\"])"
      ],
      "id": "x8xCi8y0UKeH",
      "execution_count": 27,
      "outputs": [
        {
          "output_type": "execute_result",
          "data": {
            "text/plain": [
              "Counter({0: 7963, 1: 2037})"
            ]
          },
          "metadata": {},
          "execution_count": 27
        }
      ]
    },
    {
      "cell_type": "code",
      "metadata": {
        "colab": {
          "base_uri": "https://localhost:8080/",
          "height": 281
        },
        "id": "a8c67733",
        "outputId": "4274597b-25ef-4de2-c8c0-e2f544a5046f"
      },
      "source": [
        "plot_counts(\"Exited\")"
      ],
      "id": "a8c67733",
      "execution_count": 28,
      "outputs": [
        {
          "output_type": "display_data",
          "data": {
            "image/png": "[encoded data removed]",
            "text/plain": [
              "<Figure size 432x288 with 1 Axes>"
            ]
          },
          "metadata": {
            "needs_background": "light"
          }
        }
      ]
    },
    {
      "cell_type": "markdown",
      "metadata": {
        "id": "8pT1BFRGL_9X"
      },
      "source": [
        "The plot below shows that clients that closed their account reside predominantly in Germany and France."
      ],
      "id": "8pT1BFRGL_9X"
    },
    {
      "cell_type": "code",
      "metadata": {
        "colab": {
          "base_uri": "https://localhost:8080/",
          "height": 295
        },
        "id": "UVSaW1GrLESt",
        "outputId": "5fa9a2ed-7a57-4e8e-812e-94f86c36e0b7"
      },
      "source": [
        "fig, ax = plt.subplots(figsize = (6, 4)) \n",
        "sns.countplot(data = bank_data, x = \"Exited\", hue = \"Geography\", palette = \"Blues\")\n",
        "ax.set(title = \"Clients closed account by country\", ylabel = \"count\")\n",
        "plt.show()"
      ],
      "id": "UVSaW1GrLESt",
      "execution_count": 29,
      "outputs": [
        {
          "output_type": "display_data",
          "data": {
            "image/png": "[encoded data removed]",
            "text/plain": [
              "<Figure size 432x288 with 1 Axes>"
            ]
          },
          "metadata": {
            "needs_background": "light"
          }
        }
      ]
    },
    {
      "cell_type": "markdown",
      "metadata": {
        "id": "2GPXenZIMSRg"
      },
      "source": [
        "Being an active member could suggest the outcome: less transactions might indicate a client is likely to leave the bank."
      ],
      "id": "2GPXenZIMSRg"
    },
    {
      "cell_type": "code",
      "metadata": {
        "colab": {
          "base_uri": "https://localhost:8080/",
          "height": 295
        },
        "id": "fM0BFXKuLEbj",
        "outputId": "f8c6a169-f2e4-40e0-eb97-ab0e1042f3d0"
      },
      "source": [
        "fig, ax = plt.subplots(figsize = (6, 4)) \n",
        "sns.countplot(data = bank_data, x = \"Exited\", hue = \"IsActiveMember\", palette = \"Blues\")\n",
        "ax.set(title = \"Clients closed account by active member\", ylabel = \"count\")\n",
        "plt.show()"
      ],
      "id": "fM0BFXKuLEbj",
      "execution_count": 30,
      "outputs": [
        {
          "output_type": "display_data",
          "data": {
            "image/png": "[encoded data removed]",
            "text/plain": [
              "<Figure size 432x288 with 1 Axes>"
            ]
          },
          "metadata": {
            "needs_background": "light"
          }
        }
      ]
    },
    {
      "cell_type": "markdown",
      "metadata": {
        "id": "wCRiyeYTKHQ2"
      },
      "source": [
        "#### Clean the dataset"
      ],
      "id": "wCRiyeYTKHQ2"
    },
    {
      "cell_type": "markdown",
      "metadata": {
        "id": "dX8nUQlDNsqS"
      },
      "source": [
        "\"RowNumber\" column has 10000 unique values, i.e., for each entry. Thus, it does not hold useful information. Instead of dropping, it is set for index."
      ],
      "id": "dX8nUQlDNsqS"
    },
    {
      "cell_type": "code",
      "metadata": {
        "colab": {
          "base_uri": "https://localhost:8080/"
        },
        "id": "8bb12c3c",
        "outputId": "9b85bfff-1e21-443d-a0c7-60018870b4bb"
      },
      "source": [
        "len(bank_data[\"RowNumber\"].unique())"
      ],
      "id": "8bb12c3c",
      "execution_count": 31,
      "outputs": [
        {
          "output_type": "execute_result",
          "data": {
            "text/plain": [
              "10000"
            ]
          },
          "metadata": {},
          "execution_count": 31
        }
      ]
    },
    {
      "cell_type": "code",
      "metadata": {
        "id": "9f0e2526"
      },
      "source": [
        "bank_data.set_index(\"RowNumber\", inplace = True)"
      ],
      "id": "9f0e2526",
      "execution_count": 32,
      "outputs": []
    },
    {
      "cell_type": "code",
      "metadata": {
        "colab": {
          "base_uri": "https://localhost:8080/",
          "height": 237
        },
        "id": "6616635a",
        "outputId": "b574624c-0d24-4892-94c8-7e30ad30f1c2"
      },
      "source": [
        "bank_data.head()"
      ],
      "id": "6616635a",
      "execution_count": 33,
      "outputs": [
        {
          "output_type": "execute_result",
          "data": {
            "text/html": [
              "<div>\n",
              "<style scoped>\n",
              "    .dataframe tbody tr th:only-of-type {\n",
              "        vertical-align: middle;\n",
              "    }\n",
              "\n",
              "    .dataframe tbody tr th {\n",
              "        vertical-align: top;\n",
              "    }\n",
              "\n",
              "    .dataframe thead th {\n",
              "        text-align: right;\n",
              "    }\n",
              "</style>\n",
              "<table border=\"1\" class=\"dataframe\">\n",
              "  <thead>\n",
              "    <tr style=\"text-align: right;\">\n",
              "      <th></th>\n",
              "      <th>CustomerId</th>\n",
              "      <th>Surname</th>\n",
              "      <th>CreditScore</th>\n",
              "      <th>Geography</th>\n",
              "      <th>Gender</th>\n",
              "      <th>Age</th>\n",
              "      <th>Tenure</th>\n",
              "      <th>Balance</th>\n",
              "      <th>NumOfProducts</th>\n",
              "      <th>HasCrCard</th>\n",
              "      <th>IsActiveMember</th>\n",
              "      <th>EstimatedSalary</th>\n",
              "      <th>Exited</th>\n",
              "    </tr>\n",
              "    <tr>\n",
              "      <th>RowNumber</th>\n",
              "      <th></th>\n",
              "      <th></th>\n",
              "      <th></th>\n",
              "      <th></th>\n",
              "      <th></th>\n",
              "      <th></th>\n",
              "      <th></th>\n",
              "      <th></th>\n",
              "      <th></th>\n",
              "      <th></th>\n",
              "      <th></th>\n",
              "      <th></th>\n",
              "      <th></th>\n",
              "    </tr>\n",
              "  </thead>\n",
              "  <tbody>\n",
              "    <tr>\n",
              "      <th>1</th>\n",
              "      <td>15634602</td>\n",
              "      <td>Hargrave</td>\n",
              "      <td>619</td>\n",
              "      <td>France</td>\n",
              "      <td>Female</td>\n",
              "      <td>42</td>\n",
              "      <td>2</td>\n",
              "      <td>0.00</td>\n",
              "      <td>1</td>\n",
              "      <td>1</td>\n",
              "      <td>1</td>\n",
              "      <td>101348.88</td>\n",
              "      <td>1</td>\n",
              "    </tr>\n",
              "    <tr>\n",
              "      <th>2</th>\n",
              "      <td>15647311</td>\n",
              "      <td>Hill</td>\n",
              "      <td>608</td>\n",
              "      <td>Spain</td>\n",
              "      <td>Female</td>\n",
              "      <td>41</td>\n",
              "      <td>1</td>\n",
              "      <td>83807.86</td>\n",
              "      <td>1</td>\n",
              "      <td>0</td>\n",
              "      <td>1</td>\n",
              "      <td>112542.58</td>\n",
              "      <td>0</td>\n",
              "    </tr>\n",
              "    <tr>\n",
              "      <th>3</th>\n",
              "      <td>15619304</td>\n",
              "      <td>Onio</td>\n",
              "      <td>502</td>\n",
              "      <td>France</td>\n",
              "      <td>Female</td>\n",
              "      <td>42</td>\n",
              "      <td>8</td>\n",
              "      <td>159660.80</td>\n",
              "      <td>3</td>\n",
              "      <td>1</td>\n",
              "      <td>0</td>\n",
              "      <td>113931.57</td>\n",
              "      <td>1</td>\n",
              "    </tr>\n",
              "    <tr>\n",
              "      <th>4</th>\n",
              "      <td>15701354</td>\n",
              "      <td>Boni</td>\n",
              "      <td>699</td>\n",
              "      <td>France</td>\n",
              "      <td>Female</td>\n",
              "      <td>39</td>\n",
              "      <td>1</td>\n",
              "      <td>0.00</td>\n",
              "      <td>2</td>\n",
              "      <td>0</td>\n",
              "      <td>0</td>\n",
              "      <td>93826.63</td>\n",
              "      <td>0</td>\n",
              "    </tr>\n",
              "    <tr>\n",
              "      <th>5</th>\n",
              "      <td>15737888</td>\n",
              "      <td>Mitchell</td>\n",
              "      <td>850</td>\n",
              "      <td>Spain</td>\n",
              "      <td>Female</td>\n",
              "      <td>43</td>\n",
              "      <td>2</td>\n",
              "      <td>125510.82</td>\n",
              "      <td>1</td>\n",
              "      <td>1</td>\n",
              "      <td>1</td>\n",
              "      <td>79084.10</td>\n",
              "      <td>0</td>\n",
              "    </tr>\n",
              "  </tbody>\n",
              "</table>\n",
              "</div>"
            ],
            "text/plain": [
              "           CustomerId   Surname  ...  EstimatedSalary Exited\n",
              "RowNumber                        ...                        \n",
              "1            15634602  Hargrave  ...        101348.88      1\n",
              "2            15647311      Hill  ...        112542.58      0\n",
              "3            15619304      Onio  ...        113931.57      1\n",
              "4            15701354      Boni  ...         93826.63      0\n",
              "5            15737888  Mitchell  ...         79084.10      0\n",
              "\n",
              "[5 rows x 13 columns]"
            ]
          },
          "metadata": {},
          "execution_count": 33
        }
      ]
    },
    {
      "cell_type": "markdown",
      "metadata": {
        "id": "rhLupinJOR9V"
      },
      "source": [
        "\"CustomerId\" and \"Surname\" are not good predictors either due to their high entropy. For this reason, both are removed from the dataset."
      ],
      "id": "rhLupinJOR9V"
    },
    {
      "cell_type": "code",
      "metadata": {
        "colab": {
          "base_uri": "https://localhost:8080/"
        },
        "id": "soNlXdHFOWt4",
        "outputId": "543822a1-d647-419e-c5a1-d4acd487e271"
      },
      "source": [
        "len(bank_data[\"CustomerId\"].unique())"
      ],
      "id": "soNlXdHFOWt4",
      "execution_count": 34,
      "outputs": [
        {
          "output_type": "execute_result",
          "data": {
            "text/plain": [
              "10000"
            ]
          },
          "metadata": {},
          "execution_count": 34
        }
      ]
    },
    {
      "cell_type": "code",
      "metadata": {
        "id": "2359bb8b"
      },
      "source": [
        "bank_data = bank_data.drop([\"CustomerId\", \"Surname\"], axis = 1)"
      ],
      "id": "2359bb8b",
      "execution_count": 35,
      "outputs": []
    },
    {
      "cell_type": "code",
      "metadata": {
        "colab": {
          "base_uri": "https://localhost:8080/",
          "height": 237
        },
        "id": "2c283525",
        "outputId": "00f4403c-d248-499a-e1aa-05b4e0e35d1d"
      },
      "source": [
        "bank_data.head()"
      ],
      "id": "2c283525",
      "execution_count": 36,
      "outputs": [
        {
          "output_type": "execute_result",
          "data": {
            "text/html": [
              "<div>\n",
              "<style scoped>\n",
              "    .dataframe tbody tr th:only-of-type {\n",
              "        vertical-align: middle;\n",
              "    }\n",
              "\n",
              "    .dataframe tbody tr th {\n",
              "        vertical-align: top;\n",
              "    }\n",
              "\n",
              "    .dataframe thead th {\n",
              "        text-align: right;\n",
              "    }\n",
              "</style>\n",
              "<table border=\"1\" class=\"dataframe\">\n",
              "  <thead>\n",
              "    <tr style=\"text-align: right;\">\n",
              "      <th></th>\n",
              "      <th>CreditScore</th>\n",
              "      <th>Geography</th>\n",
              "      <th>Gender</th>\n",
              "      <th>Age</th>\n",
              "      <th>Tenure</th>\n",
              "      <th>Balance</th>\n",
              "      <th>NumOfProducts</th>\n",
              "      <th>HasCrCard</th>\n",
              "      <th>IsActiveMember</th>\n",
              "      <th>EstimatedSalary</th>\n",
              "      <th>Exited</th>\n",
              "    </tr>\n",
              "    <tr>\n",
              "      <th>RowNumber</th>\n",
              "      <th></th>\n",
              "      <th></th>\n",
              "      <th></th>\n",
              "      <th></th>\n",
              "      <th></th>\n",
              "      <th></th>\n",
              "      <th></th>\n",
              "      <th></th>\n",
              "      <th></th>\n",
              "      <th></th>\n",
              "      <th></th>\n",
              "    </tr>\n",
              "  </thead>\n",
              "  <tbody>\n",
              "    <tr>\n",
              "      <th>1</th>\n",
              "      <td>619</td>\n",
              "      <td>France</td>\n",
              "      <td>Female</td>\n",
              "      <td>42</td>\n",
              "      <td>2</td>\n",
              "      <td>0.00</td>\n",
              "      <td>1</td>\n",
              "      <td>1</td>\n",
              "      <td>1</td>\n",
              "      <td>101348.88</td>\n",
              "      <td>1</td>\n",
              "    </tr>\n",
              "    <tr>\n",
              "      <th>2</th>\n",
              "      <td>608</td>\n",
              "      <td>Spain</td>\n",
              "      <td>Female</td>\n",
              "      <td>41</td>\n",
              "      <td>1</td>\n",
              "      <td>83807.86</td>\n",
              "      <td>1</td>\n",
              "      <td>0</td>\n",
              "      <td>1</td>\n",
              "      <td>112542.58</td>\n",
              "      <td>0</td>\n",
              "    </tr>\n",
              "    <tr>\n",
              "      <th>3</th>\n",
              "      <td>502</td>\n",
              "      <td>France</td>\n",
              "      <td>Female</td>\n",
              "      <td>42</td>\n",
              "      <td>8</td>\n",
              "      <td>159660.80</td>\n",
              "      <td>3</td>\n",
              "      <td>1</td>\n",
              "      <td>0</td>\n",
              "      <td>113931.57</td>\n",
              "      <td>1</td>\n",
              "    </tr>\n",
              "    <tr>\n",
              "      <th>4</th>\n",
              "      <td>699</td>\n",
              "      <td>France</td>\n",
              "      <td>Female</td>\n",
              "      <td>39</td>\n",
              "      <td>1</td>\n",
              "      <td>0.00</td>\n",
              "      <td>2</td>\n",
              "      <td>0</td>\n",
              "      <td>0</td>\n",
              "      <td>93826.63</td>\n",
              "      <td>0</td>\n",
              "    </tr>\n",
              "    <tr>\n",
              "      <th>5</th>\n",
              "      <td>850</td>\n",
              "      <td>Spain</td>\n",
              "      <td>Female</td>\n",
              "      <td>43</td>\n",
              "      <td>2</td>\n",
              "      <td>125510.82</td>\n",
              "      <td>1</td>\n",
              "      <td>1</td>\n",
              "      <td>1</td>\n",
              "      <td>79084.10</td>\n",
              "      <td>0</td>\n",
              "    </tr>\n",
              "  </tbody>\n",
              "</table>\n",
              "</div>"
            ],
            "text/plain": [
              "           CreditScore Geography  ... EstimatedSalary  Exited\n",
              "RowNumber                         ...                        \n",
              "1                  619    France  ...       101348.88       1\n",
              "2                  608     Spain  ...       112542.58       0\n",
              "3                  502    France  ...       113931.57       1\n",
              "4                  699    France  ...        93826.63       0\n",
              "5                  850     Spain  ...        79084.10       0\n",
              "\n",
              "[5 rows x 11 columns]"
            ]
          },
          "metadata": {},
          "execution_count": 36
        }
      ]
    },
    {
      "cell_type": "markdown",
      "metadata": {
        "id": "1N-oj_8ZP5wS"
      },
      "source": [
        "#### Data statistics"
      ],
      "id": "1N-oj_8ZP5wS"
    },
    {
      "cell_type": "markdown",
      "metadata": {
        "id": "Q824keZpQBP4"
      },
      "source": [
        "The code line below displays the main statistics for all numeric fields."
      ],
      "id": "Q824keZpQBP4"
    },
    {
      "cell_type": "code",
      "metadata": {
        "colab": {
          "base_uri": "https://localhost:8080/",
          "height": 332
        },
        "id": "GGty8t0mS41h",
        "outputId": "3748f443-8816-4eb0-fcfe-45f29a800a46"
      },
      "source": [
        "bank_data.describe().T"
      ],
      "id": "GGty8t0mS41h",
      "execution_count": 37,
      "outputs": [
        {
          "output_type": "execute_result",
          "data": {
            "text/html": [
              "<div>\n",
              "<style scoped>\n",
              "    .dataframe tbody tr th:only-of-type {\n",
              "        vertical-align: middle;\n",
              "    }\n",
              "\n",
              "    .dataframe tbody tr th {\n",
              "        vertical-align: top;\n",
              "    }\n",
              "\n",
              "    .dataframe thead th {\n",
              "        text-align: right;\n",
              "    }\n",
              "</style>\n",
              "<table border=\"1\" class=\"dataframe\">\n",
              "  <thead>\n",
              "    <tr style=\"text-align: right;\">\n",
              "      <th></th>\n",
              "      <th>count</th>\n",
              "      <th>mean</th>\n",
              "      <th>std</th>\n",
              "      <th>min</th>\n",
              "      <th>25%</th>\n",
              "      <th>50%</th>\n",
              "      <th>75%</th>\n",
              "      <th>max</th>\n",
              "    </tr>\n",
              "  </thead>\n",
              "  <tbody>\n",
              "    <tr>\n",
              "      <th>CreditScore</th>\n",
              "      <td>10000.0</td>\n",
              "      <td>650.528800</td>\n",
              "      <td>96.653299</td>\n",
              "      <td>350.00</td>\n",
              "      <td>584.00</td>\n",
              "      <td>652.000</td>\n",
              "      <td>718.0000</td>\n",
              "      <td>850.00</td>\n",
              "    </tr>\n",
              "    <tr>\n",
              "      <th>Age</th>\n",
              "      <td>10000.0</td>\n",
              "      <td>38.921800</td>\n",
              "      <td>10.487806</td>\n",
              "      <td>18.00</td>\n",
              "      <td>32.00</td>\n",
              "      <td>37.000</td>\n",
              "      <td>44.0000</td>\n",
              "      <td>92.00</td>\n",
              "    </tr>\n",
              "    <tr>\n",
              "      <th>Tenure</th>\n",
              "      <td>10000.0</td>\n",
              "      <td>5.012800</td>\n",
              "      <td>2.892174</td>\n",
              "      <td>0.00</td>\n",
              "      <td>3.00</td>\n",
              "      <td>5.000</td>\n",
              "      <td>7.0000</td>\n",
              "      <td>10.00</td>\n",
              "    </tr>\n",
              "    <tr>\n",
              "      <th>Balance</th>\n",
              "      <td>10000.0</td>\n",
              "      <td>76485.889288</td>\n",
              "      <td>62397.405202</td>\n",
              "      <td>0.00</td>\n",
              "      <td>0.00</td>\n",
              "      <td>97198.540</td>\n",
              "      <td>127644.2400</td>\n",
              "      <td>250898.09</td>\n",
              "    </tr>\n",
              "    <tr>\n",
              "      <th>NumOfProducts</th>\n",
              "      <td>10000.0</td>\n",
              "      <td>1.530200</td>\n",
              "      <td>0.581654</td>\n",
              "      <td>1.00</td>\n",
              "      <td>1.00</td>\n",
              "      <td>1.000</td>\n",
              "      <td>2.0000</td>\n",
              "      <td>4.00</td>\n",
              "    </tr>\n",
              "    <tr>\n",
              "      <th>HasCrCard</th>\n",
              "      <td>10000.0</td>\n",
              "      <td>0.705500</td>\n",
              "      <td>0.455840</td>\n",
              "      <td>0.00</td>\n",
              "      <td>0.00</td>\n",
              "      <td>1.000</td>\n",
              "      <td>1.0000</td>\n",
              "      <td>1.00</td>\n",
              "    </tr>\n",
              "    <tr>\n",
              "      <th>IsActiveMember</th>\n",
              "      <td>10000.0</td>\n",
              "      <td>0.515100</td>\n",
              "      <td>0.499797</td>\n",
              "      <td>0.00</td>\n",
              "      <td>0.00</td>\n",
              "      <td>1.000</td>\n",
              "      <td>1.0000</td>\n",
              "      <td>1.00</td>\n",
              "    </tr>\n",
              "    <tr>\n",
              "      <th>EstimatedSalary</th>\n",
              "      <td>10000.0</td>\n",
              "      <td>100090.239881</td>\n",
              "      <td>57510.492818</td>\n",
              "      <td>11.58</td>\n",
              "      <td>51002.11</td>\n",
              "      <td>100193.915</td>\n",
              "      <td>149388.2475</td>\n",
              "      <td>199992.48</td>\n",
              "    </tr>\n",
              "    <tr>\n",
              "      <th>Exited</th>\n",
              "      <td>10000.0</td>\n",
              "      <td>0.203700</td>\n",
              "      <td>0.402769</td>\n",
              "      <td>0.00</td>\n",
              "      <td>0.00</td>\n",
              "      <td>0.000</td>\n",
              "      <td>0.0000</td>\n",
              "      <td>1.00</td>\n",
              "    </tr>\n",
              "  </tbody>\n",
              "</table>\n",
              "</div>"
            ],
            "text/plain": [
              "                   count           mean  ...          75%        max\n",
              "CreditScore      10000.0     650.528800  ...     718.0000     850.00\n",
              "Age              10000.0      38.921800  ...      44.0000      92.00\n",
              "Tenure           10000.0       5.012800  ...       7.0000      10.00\n",
              "Balance          10000.0   76485.889288  ...  127644.2400  250898.09\n",
              "NumOfProducts    10000.0       1.530200  ...       2.0000       4.00\n",
              "HasCrCard        10000.0       0.705500  ...       1.0000       1.00\n",
              "IsActiveMember   10000.0       0.515100  ...       1.0000       1.00\n",
              "EstimatedSalary  10000.0  100090.239881  ...  149388.2475  199992.48\n",
              "Exited           10000.0       0.203700  ...       0.0000       1.00\n",
              "\n",
              "[9 rows x 8 columns]"
            ]
          },
          "metadata": {},
          "execution_count": 37
        }
      ]
    },
    {
      "cell_type": "markdown",
      "metadata": {
        "id": "_pB9Su9wV0d_"
      },
      "source": [
        "Outliers and data groupings are best visible on box plots. To display them, all numeric columns are placed in another variable (`bank_data_numeric`)."
      ],
      "id": "_pB9Su9wV0d_"
    },
    {
      "cell_type": "code",
      "metadata": {
        "id": "TbwNxeroTB0n"
      },
      "source": [
        "bank_data_numeric = bank_data[[\"CreditScore\", \"Age\", \"Tenure\", \"Balance\",\n",
        "                               \"NumOfProducts\", \"HasCrCard\", \"IsActiveMember\",\n",
        "                               \"EstimatedSalary\", \"Exited\"]]"
      ],
      "id": "TbwNxeroTB0n",
      "execution_count": 38,
      "outputs": []
    },
    {
      "cell_type": "markdown",
      "metadata": {
        "id": "HZ9djfGhWS4N"
      },
      "source": [
        "It could be seen that clients with credit score below 400 are considered outliers. People aged over 60 years are also deemed outliers. Extreme values are not found in \"Tenure\", \"Balance\", \"HasCrCard\", \"IsActiveMember\", and \"EstimatedSalary\". Those who left the bank are categorised as outliers (perhaps because of their insignificant number)."
      ],
      "id": "HZ9djfGhWS4N"
    },
    {
      "cell_type": "code",
      "metadata": {
        "colab": {
          "base_uri": "https://localhost:8080/",
          "height": 599
        },
        "id": "GHNYABPFTB6Y",
        "outputId": "82faeed3-5a48-4b19-e2c2-82c00dbe79ff"
      },
      "source": [
        "fig, axs = plt.subplots(ncols = 3, nrows = 3, figsize = (14, 8))\n",
        "idx = 0\n",
        "axs = axs.flatten()\n",
        "for k, v in bank_data_numeric.items():\n",
        "    sns.boxplot(y = k, data = bank_data_numeric, ax = axs[idx])\n",
        "    idx += 1\n",
        "plt.tight_layout(pad = 0.4, w_pad = 0.5, h_pad = 5.0)"
      ],
      "id": "GHNYABPFTB6Y",
      "execution_count": 39,
      "outputs": [
        {
          "output_type": "display_data",
          "data": {
            "image/png": "[encoded data removed]",
            "text/plain": [
              "<Figure size 1008x576 with 9 Axes>"
            ]
          },
          "metadata": {
            "needs_background": "light"
          }
        }
      ]
    },
    {
      "cell_type": "markdown",
      "metadata": {
        "id": "yghRzNK3Xlfd"
      },
      "source": [
        "#### Correlation"
      ],
      "id": "yghRzNK3Xlfd"
    },
    {
      "cell_type": "markdown",
      "metadata": {
        "id": "5K6J5O92XpWp"
      },
      "source": [
        "It is nice to see that there is almost none correlation between data features. Thus, if there is any relationship between features and target variable, it most likely would be non-linear one. Only \"Age\" is more or less positively correlated with \"Exited\", which means getting older might impact a decision to stay or not with the bank."
      ],
      "id": "5K6J5O92XpWp"
    },
    {
      "cell_type": "code",
      "metadata": {
        "colab": {
          "base_uri": "https://localhost:8080/",
          "height": 571
        },
        "id": "3gjsDH0gUX4K",
        "outputId": "a8d528c6-57fa-42fe-a6b7-03d56195034e"
      },
      "source": [
        "plt.figure(figsize = (10, 8))\n",
        "sns.heatmap(bank_data_numeric.corr(),\n",
        "           annot = True,\n",
        "           cmap = \"Blues\",\n",
        "           fmt = \".2f\",\n",
        "           linewidths = 2, \n",
        "           linecolor = \"white\")\n",
        "plt.title(\"Correlation matrix of diamonds data\")\n",
        "plt.show()"
      ],
      "id": "3gjsDH0gUX4K",
      "execution_count": 40,
      "outputs": [
        {
          "output_type": "display_data",
          "data": {
            "image/png": "[encoded data removed]",
            "text/plain": [
              "<Figure size 720x576 with 2 Axes>"
            ]
          },
          "metadata": {
            "needs_background": "light"
          }
        }
      ]
    },
    {
      "cell_type": "markdown",
      "metadata": {
        "id": "ZUiJsEQxYlwU"
      },
      "source": [
        "## III. Data pre-processing"
      ],
      "id": "ZUiJsEQxYlwU"
    },
    {
      "cell_type": "markdown",
      "metadata": {
        "id": "N4bOtpQrOKvn"
      },
      "source": [
        "### 1. Make all values numeric"
      ],
      "id": "N4bOtpQrOKvn"
    },
    {
      "cell_type": "markdown",
      "metadata": {
        "id": "MmZlSiiPYxkA"
      },
      "source": [
        "Machine Learning algorithms expect matrices of numeric values. The `bank_data` contains both numeric and text values. The latter should be turned into numbers. Pandas `get_dummies()` will do the job - it converts (one hot encodes) the two columns (\"Geography\" and \"Gender\") and makes them numeric."
      ],
      "id": "MmZlSiiPYxkA"
    },
    {
      "cell_type": "code",
      "metadata": {
        "id": "9e07e677"
      },
      "source": [
        "bank_data = pd.get_dummies(bank_data)"
      ],
      "id": "9e07e677",
      "execution_count": 41,
      "outputs": []
    },
    {
      "cell_type": "code",
      "metadata": {
        "colab": {
          "base_uri": "https://localhost:8080/",
          "height": 257
        },
        "id": "ef95ad16",
        "outputId": "4aba8c4f-8b9e-4502-9f8b-8273a5d9c414"
      },
      "source": [
        "bank_data.head()"
      ],
      "id": "ef95ad16",
      "execution_count": 42,
      "outputs": [
        {
          "output_type": "execute_result",
          "data": {
            "text/html": [
              "<div>\n",
              "<style scoped>\n",
              "    .dataframe tbody tr th:only-of-type {\n",
              "        vertical-align: middle;\n",
              "    }\n",
              "\n",
              "    .dataframe tbody tr th {\n",
              "        vertical-align: top;\n",
              "    }\n",
              "\n",
              "    .dataframe thead th {\n",
              "        text-align: right;\n",
              "    }\n",
              "</style>\n",
              "<table border=\"1\" class=\"dataframe\">\n",
              "  <thead>\n",
              "    <tr style=\"text-align: right;\">\n",
              "      <th></th>\n",
              "      <th>CreditScore</th>\n",
              "      <th>Age</th>\n",
              "      <th>Tenure</th>\n",
              "      <th>Balance</th>\n",
              "      <th>NumOfProducts</th>\n",
              "      <th>HasCrCard</th>\n",
              "      <th>IsActiveMember</th>\n",
              "      <th>EstimatedSalary</th>\n",
              "      <th>Exited</th>\n",
              "      <th>Geography_France</th>\n",
              "      <th>Geography_Germany</th>\n",
              "      <th>Geography_Spain</th>\n",
              "      <th>Gender_Female</th>\n",
              "      <th>Gender_Male</th>\n",
              "    </tr>\n",
              "    <tr>\n",
              "      <th>RowNumber</th>\n",
              "      <th></th>\n",
              "      <th></th>\n",
              "      <th></th>\n",
              "      <th></th>\n",
              "      <th></th>\n",
              "      <th></th>\n",
              "      <th></th>\n",
              "      <th></th>\n",
              "      <th></th>\n",
              "      <th></th>\n",
              "      <th></th>\n",
              "      <th></th>\n",
              "      <th></th>\n",
              "      <th></th>\n",
              "    </tr>\n",
              "  </thead>\n",
              "  <tbody>\n",
              "    <tr>\n",
              "      <th>1</th>\n",
              "      <td>619</td>\n",
              "      <td>42</td>\n",
              "      <td>2</td>\n",
              "      <td>0.00</td>\n",
              "      <td>1</td>\n",
              "      <td>1</td>\n",
              "      <td>1</td>\n",
              "      <td>101348.88</td>\n",
              "      <td>1</td>\n",
              "      <td>1</td>\n",
              "      <td>0</td>\n",
              "      <td>0</td>\n",
              "      <td>1</td>\n",
              "      <td>0</td>\n",
              "    </tr>\n",
              "    <tr>\n",
              "      <th>2</th>\n",
              "      <td>608</td>\n",
              "      <td>41</td>\n",
              "      <td>1</td>\n",
              "      <td>83807.86</td>\n",
              "      <td>1</td>\n",
              "      <td>0</td>\n",
              "      <td>1</td>\n",
              "      <td>112542.58</td>\n",
              "      <td>0</td>\n",
              "      <td>0</td>\n",
              "      <td>0</td>\n",
              "      <td>1</td>\n",
              "      <td>1</td>\n",
              "      <td>0</td>\n",
              "    </tr>\n",
              "    <tr>\n",
              "      <th>3</th>\n",
              "      <td>502</td>\n",
              "      <td>42</td>\n",
              "      <td>8</td>\n",
              "      <td>159660.80</td>\n",
              "      <td>3</td>\n",
              "      <td>1</td>\n",
              "      <td>0</td>\n",
              "      <td>113931.57</td>\n",
              "      <td>1</td>\n",
              "      <td>1</td>\n",
              "      <td>0</td>\n",
              "      <td>0</td>\n",
              "      <td>1</td>\n",
              "      <td>0</td>\n",
              "    </tr>\n",
              "    <tr>\n",
              "      <th>4</th>\n",
              "      <td>699</td>\n",
              "      <td>39</td>\n",
              "      <td>1</td>\n",
              "      <td>0.00</td>\n",
              "      <td>2</td>\n",
              "      <td>0</td>\n",
              "      <td>0</td>\n",
              "      <td>93826.63</td>\n",
              "      <td>0</td>\n",
              "      <td>1</td>\n",
              "      <td>0</td>\n",
              "      <td>0</td>\n",
              "      <td>1</td>\n",
              "      <td>0</td>\n",
              "    </tr>\n",
              "    <tr>\n",
              "      <th>5</th>\n",
              "      <td>850</td>\n",
              "      <td>43</td>\n",
              "      <td>2</td>\n",
              "      <td>125510.82</td>\n",
              "      <td>1</td>\n",
              "      <td>1</td>\n",
              "      <td>1</td>\n",
              "      <td>79084.10</td>\n",
              "      <td>0</td>\n",
              "      <td>0</td>\n",
              "      <td>0</td>\n",
              "      <td>1</td>\n",
              "      <td>1</td>\n",
              "      <td>0</td>\n",
              "    </tr>\n",
              "  </tbody>\n",
              "</table>\n",
              "</div>"
            ],
            "text/plain": [
              "           CreditScore  Age  ...  Gender_Female  Gender_Male\n",
              "RowNumber                    ...                            \n",
              "1                  619   42  ...              1            0\n",
              "2                  608   41  ...              1            0\n",
              "3                  502   42  ...              1            0\n",
              "4                  699   39  ...              1            0\n",
              "5                  850   43  ...              1            0\n",
              "\n",
              "[5 rows x 14 columns]"
            ]
          },
          "metadata": {},
          "execution_count": 42
        }
      ]
    },
    {
      "cell_type": "markdown",
      "metadata": {
        "id": "3ygga_BRZj6c"
      },
      "source": [
        "All data are of numeric type now. Later, all will be converted into floating point numbers."
      ],
      "id": "3ygga_BRZj6c"
    },
    {
      "cell_type": "code",
      "metadata": {
        "colab": {
          "base_uri": "https://localhost:8080/"
        },
        "id": "3a66bc37",
        "outputId": "47b4f7c4-8343-4bbc-b051-3df85a3c1791"
      },
      "source": [
        "bank_data.dtypes"
      ],
      "id": "3a66bc37",
      "execution_count": 43,
      "outputs": [
        {
          "output_type": "execute_result",
          "data": {
            "text/plain": [
              "CreditScore            int64\n",
              "Age                    int64\n",
              "Tenure                 int64\n",
              "Balance              float64\n",
              "NumOfProducts          int64\n",
              "HasCrCard              int64\n",
              "IsActiveMember         int64\n",
              "EstimatedSalary      float64\n",
              "Exited                 int64\n",
              "Geography_France       uint8\n",
              "Geography_Germany      uint8\n",
              "Geography_Spain        uint8\n",
              "Gender_Female          uint8\n",
              "Gender_Male            uint8\n",
              "dtype: object"
            ]
          },
          "metadata": {},
          "execution_count": 43
        }
      ]
    },
    {
      "cell_type": "markdown",
      "metadata": {
        "id": "W4KzmF1UZvMZ"
      },
      "source": [
        "### 2. Separate features and labels"
      ],
      "id": "W4KzmF1UZvMZ"
    },
    {
      "cell_type": "markdown",
      "metadata": {
        "id": "txsCPKhfanEj"
      },
      "source": [
        "Features are separated from labels for further pre-processing. "
      ],
      "id": "txsCPKhfanEj"
    },
    {
      "cell_type": "code",
      "metadata": {
        "id": "97703090"
      },
      "source": [
        "bank_features = bank_data.drop(\"Exited\", axis = 1)\n",
        "bank_labels = bank_data[\"Exited\"]"
      ],
      "id": "97703090",
      "execution_count": 44,
      "outputs": []
    },
    {
      "cell_type": "markdown",
      "metadata": {
        "id": "DkCr4gtFa21s"
      },
      "source": [
        "Features' titles are printed since will be needed later."
      ],
      "id": "DkCr4gtFa21s"
    },
    {
      "cell_type": "code",
      "metadata": {
        "colab": {
          "base_uri": "https://localhost:8080/"
        },
        "id": "26a9d0d0",
        "outputId": "de0a2420-27d1-4908-ee12-39ec791e8b52"
      },
      "source": [
        "bank_features.columns"
      ],
      "id": "26a9d0d0",
      "execution_count": 45,
      "outputs": [
        {
          "output_type": "execute_result",
          "data": {
            "text/plain": [
              "Index(['CreditScore', 'Age', 'Tenure', 'Balance', 'NumOfProducts', 'HasCrCard',\n",
              "       'IsActiveMember', 'EstimatedSalary', 'Geography_France',\n",
              "       'Geography_Germany', 'Geography_Spain', 'Gender_Female', 'Gender_Male'],\n",
              "      dtype='object')"
            ]
          },
          "metadata": {},
          "execution_count": 45
        }
      ]
    },
    {
      "cell_type": "markdown",
      "metadata": {
        "id": "N_2otk81bDDF"
      },
      "source": [
        "### 3. Scale feature values"
      ],
      "id": "N_2otk81bDDF"
    },
    {
      "cell_type": "markdown",
      "metadata": {
        "id": "titoCna9bGtw"
      },
      "source": [
        "Feature values are normalized, i.e., they are constrained within a given range, and turned into \"float32\" type (which is prefered for data fed to Machine Learning algorithms). In this particular case, all values are made between 0 and 1. The function below performs \"min-max-scaling\" (to avoid using sklearn's `MinMaxScaler()`)."
      ],
      "id": "titoCna9bGtw"
    },
    {
      "cell_type": "code",
      "metadata": {
        "id": "daecf473"
      },
      "source": [
        "def min_max_scaler(features):\n",
        "    \"\"\"\n",
        "    Function: scales values between 0 and 1.\n",
        "    \n",
        "    Parameters: dataset as an NumPy array.\n",
        "    \n",
        "    Returns: scaled NumPy array in float32 dtype.\n",
        "    \"\"\"\n",
        "    max_n = np.max(features)\n",
        "    min_n = np.min(features)\n",
        "    scaled_features = np.array([(x - min_n) / (max_n - min_n) for x in features])\n",
        "    return scaled_features.astype(\"float32\")"
      ],
      "id": "daecf473",
      "execution_count": 46,
      "outputs": []
    },
    {
      "cell_type": "code",
      "metadata": {
        "id": "171db723"
      },
      "source": [
        "bank_features_scaled = min_max_scaler(bank_features.values)"
      ],
      "id": "171db723",
      "execution_count": 47,
      "outputs": []
    },
    {
      "cell_type": "code",
      "metadata": {
        "colab": {
          "base_uri": "https://localhost:8080/"
        },
        "id": "oT370cW2cG52",
        "outputId": "e148ec11-6c4b-4975-aaf1-6fbdeb977a31"
      },
      "source": [
        "bank_features_scaled.min(), bank_features_scaled.max()"
      ],
      "id": "oT370cW2cG52",
      "execution_count": 48,
      "outputs": [
        {
          "output_type": "execute_result",
          "data": {
            "text/plain": [
              "(0.0, 1.0)"
            ]
          },
          "metadata": {},
          "execution_count": 48
        }
      ]
    },
    {
      "cell_type": "markdown",
      "metadata": {
        "id": "slDTgEVTcQSk"
      },
      "source": [
        "Scaled data are placed in Pandas `DataFrame` for easier visualization. Features' titles should be specified again."
      ],
      "id": "slDTgEVTcQSk"
    },
    {
      "cell_type": "code",
      "metadata": {
        "id": "d2a72f79"
      },
      "source": [
        "bank_features_scaled = pd.DataFrame(bank_features_scaled)"
      ],
      "id": "d2a72f79",
      "execution_count": 49,
      "outputs": []
    },
    {
      "cell_type": "code",
      "metadata": {
        "id": "980b5cd7"
      },
      "source": [
        "bank_features_scaled.columns = ['CreditScore', 'Age', 'Tenure', 'Balance', \n",
        "                                'NumOfProducts', 'HasCrCard', 'IsActiveMember', \n",
        "                                'EstimatedSalary', 'Geography_France', \n",
        "                                'Geography_Germany', 'Geography_Spain', \n",
        "                                'Gender_Female', 'Gender_Male']"
      ],
      "id": "980b5cd7",
      "execution_count": 50,
      "outputs": []
    },
    {
      "cell_type": "markdown",
      "metadata": {
        "id": "FJit72TZiFMI"
      },
      "source": [
        "The first five rows with scaled values are displayed below."
      ],
      "id": "FJit72TZiFMI"
    },
    {
      "cell_type": "code",
      "metadata": {
        "colab": {
          "base_uri": "https://localhost:8080/",
          "height": 226
        },
        "id": "c4701082",
        "outputId": "bfcaeea8-9537-485c-b3a1-7f7b0a026b11"
      },
      "source": [
        "bank_features_scaled.head()"
      ],
      "id": "c4701082",
      "execution_count": 51,
      "outputs": [
        {
          "output_type": "execute_result",
          "data": {
            "text/html": [
              "<div>\n",
              "<style scoped>\n",
              "    .dataframe tbody tr th:only-of-type {\n",
              "        vertical-align: middle;\n",
              "    }\n",
              "\n",
              "    .dataframe tbody tr th {\n",
              "        vertical-align: top;\n",
              "    }\n",
              "\n",
              "    .dataframe thead th {\n",
              "        text-align: right;\n",
              "    }\n",
              "</style>\n",
              "<table border=\"1\" class=\"dataframe\">\n",
              "  <thead>\n",
              "    <tr style=\"text-align: right;\">\n",
              "      <th></th>\n",
              "      <th>CreditScore</th>\n",
              "      <th>Age</th>\n",
              "      <th>Tenure</th>\n",
              "      <th>Balance</th>\n",
              "      <th>NumOfProducts</th>\n",
              "      <th>HasCrCard</th>\n",
              "      <th>IsActiveMember</th>\n",
              "      <th>EstimatedSalary</th>\n",
              "      <th>Geography_France</th>\n",
              "      <th>Geography_Germany</th>\n",
              "      <th>Geography_Spain</th>\n",
              "      <th>Gender_Female</th>\n",
              "      <th>Gender_Male</th>\n",
              "    </tr>\n",
              "  </thead>\n",
              "  <tbody>\n",
              "    <tr>\n",
              "      <th>0</th>\n",
              "      <td>0.002467</td>\n",
              "      <td>0.000167</td>\n",
              "      <td>0.000008</td>\n",
              "      <td>0.000000</td>\n",
              "      <td>0.000004</td>\n",
              "      <td>0.000004</td>\n",
              "      <td>0.000004</td>\n",
              "      <td>0.403944</td>\n",
              "      <td>0.000004</td>\n",
              "      <td>0.0</td>\n",
              "      <td>0.000000</td>\n",
              "      <td>0.000004</td>\n",
              "      <td>0.0</td>\n",
              "    </tr>\n",
              "    <tr>\n",
              "      <th>1</th>\n",
              "      <td>0.002423</td>\n",
              "      <td>0.000163</td>\n",
              "      <td>0.000004</td>\n",
              "      <td>0.334031</td>\n",
              "      <td>0.000004</td>\n",
              "      <td>0.000000</td>\n",
              "      <td>0.000004</td>\n",
              "      <td>0.448559</td>\n",
              "      <td>0.000000</td>\n",
              "      <td>0.0</td>\n",
              "      <td>0.000004</td>\n",
              "      <td>0.000004</td>\n",
              "      <td>0.0</td>\n",
              "    </tr>\n",
              "    <tr>\n",
              "      <th>2</th>\n",
              "      <td>0.002001</td>\n",
              "      <td>0.000167</td>\n",
              "      <td>0.000032</td>\n",
              "      <td>0.636357</td>\n",
              "      <td>0.000012</td>\n",
              "      <td>0.000004</td>\n",
              "      <td>0.000000</td>\n",
              "      <td>0.454095</td>\n",
              "      <td>0.000004</td>\n",
              "      <td>0.0</td>\n",
              "      <td>0.000000</td>\n",
              "      <td>0.000004</td>\n",
              "      <td>0.0</td>\n",
              "    </tr>\n",
              "    <tr>\n",
              "      <th>3</th>\n",
              "      <td>0.002786</td>\n",
              "      <td>0.000155</td>\n",
              "      <td>0.000004</td>\n",
              "      <td>0.000000</td>\n",
              "      <td>0.000008</td>\n",
              "      <td>0.000000</td>\n",
              "      <td>0.000000</td>\n",
              "      <td>0.373963</td>\n",
              "      <td>0.000004</td>\n",
              "      <td>0.0</td>\n",
              "      <td>0.000000</td>\n",
              "      <td>0.000004</td>\n",
              "      <td>0.0</td>\n",
              "    </tr>\n",
              "    <tr>\n",
              "      <th>4</th>\n",
              "      <td>0.003388</td>\n",
              "      <td>0.000171</td>\n",
              "      <td>0.000008</td>\n",
              "      <td>0.500246</td>\n",
              "      <td>0.000004</td>\n",
              "      <td>0.000004</td>\n",
              "      <td>0.000004</td>\n",
              "      <td>0.315204</td>\n",
              "      <td>0.000000</td>\n",
              "      <td>0.0</td>\n",
              "      <td>0.000004</td>\n",
              "      <td>0.000004</td>\n",
              "      <td>0.0</td>\n",
              "    </tr>\n",
              "  </tbody>\n",
              "</table>\n",
              "</div>"
            ],
            "text/plain": [
              "   CreditScore       Age    Tenure  ...  Geography_Spain  Gender_Female  Gender_Male\n",
              "0     0.002467  0.000167  0.000008  ...         0.000000       0.000004          0.0\n",
              "1     0.002423  0.000163  0.000004  ...         0.000004       0.000004          0.0\n",
              "2     0.002001  0.000167  0.000032  ...         0.000000       0.000004          0.0\n",
              "3     0.002786  0.000155  0.000004  ...         0.000000       0.000004          0.0\n",
              "4     0.003388  0.000171  0.000008  ...         0.000004       0.000004          0.0\n",
              "\n",
              "[5 rows x 13 columns]"
            ]
          },
          "metadata": {},
          "execution_count": 51
        }
      ]
    },
    {
      "cell_type": "markdown",
      "metadata": {
        "id": "42T8udNpiPig"
      },
      "source": [
        "To confirm the scaled data holds the same information, the code lines below ask for displaying the distribution in the \"Balance\" column. It is identical to the one produced with the unscaled data."
      ],
      "id": "42T8udNpiPig"
    },
    {
      "cell_type": "code",
      "metadata": {
        "colab": {
          "base_uri": "https://localhost:8080/",
          "height": 295
        },
        "id": "9b8dbc06",
        "outputId": "158a336e-8f67-46b7-97f4-f26f3ff767a6"
      },
      "source": [
        "plt.hist(bank_features_scaled[\"Balance\"], bins = 15)\n",
        "plt.xlabel(\"Balance, scaled values\")\n",
        "plt.ylabel(\"Count\")\n",
        "plt.title(\"Distribution of 'Balance', scaled data\")\n",
        "plt.show()"
      ],
      "id": "9b8dbc06",
      "execution_count": 52,
      "outputs": [
        {
          "output_type": "display_data",
          "data": {
            "image/png": "[encoded data removed]",
            "text/plain": [
              "<Figure size 432x288 with 1 Axes>"
            ]
          },
          "metadata": {
            "needs_background": "light"
          }
        }
      ]
    },
    {
      "cell_type": "markdown",
      "metadata": {
        "id": "rIWPfuX9i-Uj"
      },
      "source": [
        "### 4. Split data into train and test sets"
      ],
      "id": "rIWPfuX9i-Uj"
    },
    {
      "cell_type": "markdown",
      "metadata": {
        "id": "bGveYFs-jFzj"
      },
      "source": [
        "At the end, the dataset is split into train and test sets. Cross-validation technique is used instead of withholding validation set due to the small number of samples. The latter is a reason for taking out only 20% for testing. In general, it is better to show more examples to the algorithm; thus, it will be able to learn more and diverse relationships. By default, `train_test_split` shuffles the data. Providing a variable for stratifying helps for getting train and test data with similar distribution. "
      ],
      "id": "bGveYFs-jFzj"
    },
    {
      "cell_type": "code",
      "metadata": {
        "id": "be6eeff1"
      },
      "source": [
        "bank_features_train, bank_features_test, bank_labels_train, bank_labels_test = train_test_split(\n",
        "        bank_features_scaled, bank_labels, test_size = 0.2,\n",
        "        stratify = bank_labels, random_state = 42)"
      ],
      "id": "be6eeff1",
      "execution_count": 53,
      "outputs": []
    },
    {
      "cell_type": "markdown",
      "metadata": {
        "id": "1eboGYo6krrk"
      },
      "source": [
        "The code line below confirms the splitting was properly done. The plots thereafter display distribution of labels in both training and testing sets."
      ],
      "id": "1eboGYo6krrk"
    },
    {
      "cell_type": "code",
      "metadata": {
        "colab": {
          "base_uri": "https://localhost:8080/"
        },
        "id": "f67a18f4",
        "outputId": "263eef44-ed50-47db-ef5a-d2ecef1a2bd6"
      },
      "source": [
        "bank_features_train.shape, bank_labels_train.shape, bank_features_test.shape, bank_labels_test.shape"
      ],
      "id": "f67a18f4",
      "execution_count": 54,
      "outputs": [
        {
          "output_type": "execute_result",
          "data": {
            "text/plain": [
              "((8000, 13), (8000,), (2000, 13), (2000,))"
            ]
          },
          "metadata": {},
          "execution_count": 54
        }
      ]
    },
    {
      "cell_type": "code",
      "metadata": {
        "id": "4WKTWoeNVk-r"
      },
      "source": [
        "def count_classes(labels, title = None):\n",
        "    \"\"\"\n",
        "    Function: Counts items in each category (class).\n",
        "    \n",
        "    Parameters: Labels (y).\n",
        "    \n",
        "    Returns: Displays number of items in each category (class).\n",
        "    \"\"\"\n",
        "    sns.countplot(x = labels, data = labels)\n",
        "    if title is not None:\n",
        "      plt.title(title)\n",
        "    plt.show()"
      ],
      "id": "4WKTWoeNVk-r",
      "execution_count": 55,
      "outputs": []
    },
    {
      "cell_type": "code",
      "metadata": {
        "colab": {
          "base_uri": "https://localhost:8080/",
          "height": 295
        },
        "id": "VVuH0hkHWg1Y",
        "outputId": "85d1dec4-a335-4890-9bf2-8580c938b9c0"
      },
      "source": [
        "count_classes(bank_labels_train, \"Count classes in Train data\")"
      ],
      "id": "VVuH0hkHWg1Y",
      "execution_count": 56,
      "outputs": [
        {
          "output_type": "display_data",
          "data": {
            "image/png": "[encoded data removed]",
            "text/plain": [
              "<Figure size 432x288 with 1 Axes>"
            ]
          },
          "metadata": {
            "needs_background": "light"
          }
        }
      ]
    },
    {
      "cell_type": "code",
      "metadata": {
        "colab": {
          "base_uri": "https://localhost:8080/",
          "height": 295
        },
        "id": "bBqPtbZuVHaB",
        "outputId": "148fd4d1-a500-4188-cb00-f05f80017546"
      },
      "source": [
        "count_classes(bank_labels_test, \"Count classes in Test data\")"
      ],
      "id": "bBqPtbZuVHaB",
      "execution_count": 57,
      "outputs": [
        {
          "output_type": "display_data",
          "data": {
            "image/png": "[encoded data removed]",
            "text/plain": [
              "<Figure size 432x288 with 1 Axes>"
            ]
          },
          "metadata": {
            "needs_background": "light"
          }
        }
      ]
    },
    {
      "cell_type": "markdown",
      "metadata": {
        "id": "UQTycn41li5Q"
      },
      "source": [
        "## IV. Build and Train Neural Network"
      ],
      "id": "UQTycn41li5Q"
    },
    {
      "cell_type": "markdown",
      "metadata": {
        "id": "BiVs40QWlrJW"
      },
      "source": [
        "The function below builds a Neural Network with Dense layers. The latter's number and the type of activation are it's parameters. Gradient Descent is computed with Adam optimizer. \"binary crossentropy\" computes the loss function; model's success is measured in terms of \"accuracy\". The model is created by empoying `KerasClassifier()`. The latter is a `Keras` scikit-learn wrapper that enables including K-fold cross validation in a Keras code."
      ],
      "id": "BiVs40QWlrJW"
    },
    {
      "cell_type": "code",
      "metadata": {
        "id": "b6615cfc"
      },
      "source": [
        "def create_model(layers, activation):\n",
        "    \"\"\"\n",
        "    Function: Builds and compiles a model.\n",
        "    \n",
        "    Parameters: Number of layers and type of activation.\n",
        "    \n",
        "    Returns: Built and compiled model.\n",
        "    \"\"\"\n",
        "    model = Sequential()\n",
        "    for i, nodes in enumerate(layers):\n",
        "        if i == 0:\n",
        "            model.add(Dense(nodes, input_dim = bank_features_train.shape[1]))\n",
        "            model.add(Activation(activation))\n",
        "        else:\n",
        "            model.add(Dense(nodes))\n",
        "            model.add(Activation(activation))\n",
        "    model.add(Dense(1))\n",
        "\n",
        "    model.compile(optimizer = \"adam\", loss = \"binary_crossentropy\", metrics = [\"accuracy\"])\n",
        "    \n",
        "    return model"
      ],
      "id": "b6615cfc",
      "execution_count": 58,
      "outputs": []
    },
    {
      "cell_type": "code",
      "metadata": {
        "id": "0c2ed5ac"
      },
      "source": [
        "model = KerasClassifier(build_fn = create_model)"
      ],
      "id": "0c2ed5ac",
      "execution_count": 59,
      "outputs": []
    },
    {
      "cell_type": "markdown",
      "metadata": {
        "id": "q9hOg97aoC5P"
      },
      "source": [
        "Layers and their nodes, as well as the type of activation, are hyper-parameters. A range of their respective values are stored in variables, which in turn are placed in a dictionary for Grid Search."
      ],
      "id": "q9hOg97aoC5P"
    },
    {
      "cell_type": "code",
      "metadata": {
        "id": "144a99af"
      },
      "source": [
        "layers = [[15], [35, 25], [40, 25, 15]]"
      ],
      "id": "144a99af",
      "execution_count": 60,
      "outputs": []
    },
    {
      "cell_type": "code",
      "metadata": {
        "id": "4111ddd9"
      },
      "source": [
        "activations = [\"sigmoid\", \"relu\"]"
      ],
      "id": "4111ddd9",
      "execution_count": 61,
      "outputs": []
    },
    {
      "cell_type": "code",
      "metadata": {
        "id": "6bb4b268"
      },
      "source": [
        "param_grid = dict(layers = layers, activation = activations,\n",
        "                  batch_size = [128, 256], epochs = [30])"
      ],
      "id": "6bb4b268",
      "execution_count": 62,
      "outputs": []
    },
    {
      "cell_type": "markdown",
      "metadata": {
        "id": "sEptJTIbomKP"
      },
      "source": [
        "`GridSearchCV()` looks into all combinations and tries to find the one returning the lowest loss and highest accuracy. It gets training features and labels."
      ],
      "id": "sEptJTIbomKP"
    },
    {
      "cell_type": "code",
      "metadata": {
        "id": "ed627e35"
      },
      "source": [
        "grid = GridSearchCV(estimator = model, param_grid = param_grid)"
      ],
      "id": "ed627e35",
      "execution_count": 63,
      "outputs": []
    },
    {
      "cell_type": "code",
      "metadata": {
        "colab": {
          "base_uri": "https://localhost:8080/"
        },
        "id": "61db9230",
        "outputId": "6b905a60-14d5-4052-f851-8a0886759927"
      },
      "source": [
        "grid_result = grid.fit(bank_features_train.values, bank_labels_train.values)"
      ],
      "id": "61db9230",
      "execution_count": 64,
      "outputs": [
        {
          "output_type": "stream",
          "name": "stdout",
          "text": [
            "Epoch 1/30\n",
            "50/50 [==============================] - 1s 2ms/step - loss: 3.0802 - accuracy: 0.8003\n",
            "Epoch 2/30\n",
            "50/50 [==============================] - 0s 2ms/step - loss: 3.0802 - accuracy: 0.8003\n",
            "Epoch 3/30\n",
            "50/50 [==============================] - 0s 2ms/step - loss: 3.0802 - accuracy: 0.8003\n",
            "Epoch 4/30\n",
            "50/50 [==============================] - 0s 2ms/step - loss: 3.0802 - accuracy: 0.8003\n",
            "Epoch 5/30\n",
            "50/50 [==============================] - 0s 2ms/step - loss: 3.0802 - accuracy: 0.8003\n",
            "Epoch 6/30\n",
            "50/50 [==============================] - 0s 2ms/step - loss: 3.0802 - accuracy: 0.8003\n",
            "Epoch 7/30\n",
            "50/50 [==============================] - 0s 2ms/step - loss: 3.0802 - accuracy: 0.8003\n",
            "Epoch 8/30\n",
            "50/50 [==============================] - 0s 2ms/step - loss: 3.0802 - accuracy: 0.8003\n",
            "Epoch 9/30\n",
            "50/50 [==============================] - 0s 2ms/step - loss: 3.0802 - accuracy: 0.8003\n",
            "Epoch 10/30\n",
            "50/50 [==============================] - 0s 2ms/step - loss: 3.0802 - accuracy: 0.8003\n",
            "Epoch 11/30\n",
            "50/50 [==============================] - 0s 2ms/step - loss: 3.0802 - accuracy: 0.8003\n",
            "Epoch 12/30\n",
            "50/50 [==============================] - 0s 2ms/step - loss: 3.0802 - accuracy: 0.8003\n",
            "Epoch 13/30\n",
            "50/50 [==============================] - 0s 2ms/step - loss: 3.0802 - accuracy: 0.8003\n",
            "Epoch 14/30\n",
            "50/50 [==============================] - 0s 2ms/step - loss: 3.0802 - accuracy: 0.8003\n",
            "Epoch 15/30\n",
            "50/50 [==============================] - 0s 2ms/step - loss: 3.0802 - accuracy: 0.8003\n",
            "Epoch 16/30\n",
            "50/50 [==============================] - 0s 2ms/step - loss: 3.0802 - accuracy: 0.8003\n",
            "Epoch 17/30\n",
            "50/50 [==============================] - 0s 2ms/step - loss: 3.0802 - accuracy: 0.8003\n",
            "Epoch 18/30\n",
            "50/50 [==============================] - 0s 2ms/step - loss: 3.0802 - accuracy: 0.8003\n",
            "Epoch 19/30\n",
            "50/50 [==============================] - 0s 2ms/step - loss: 3.0802 - accuracy: 0.8003\n",
            "Epoch 20/30\n",
            "50/50 [==============================] - 0s 2ms/step - loss: 3.0802 - accuracy: 0.8003\n",
            "Epoch 21/30\n",
            "50/50 [==============================] - 0s 2ms/step - loss: 3.0802 - accuracy: 0.8003\n",
            "Epoch 22/30\n",
            "50/50 [==============================] - 0s 2ms/step - loss: 3.0802 - accuracy: 0.8003\n",
            "Epoch 23/30\n",
            "50/50 [==============================] - 0s 2ms/step - loss: 3.0802 - accuracy: 0.8003\n",
            "Epoch 24/30\n",
            "50/50 [==============================] - 0s 2ms/step - loss: 3.0802 - accuracy: 0.8003\n",
            "Epoch 25/30\n",
            "50/50 [==============================] - 0s 2ms/step - loss: 3.0802 - accuracy: 0.8003\n",
            "Epoch 26/30\n",
            "50/50 [==============================] - 0s 2ms/step - loss: 3.0802 - accuracy: 0.8003\n",
            "Epoch 27/30\n",
            "50/50 [==============================] - 0s 2ms/step - loss: 3.0802 - accuracy: 0.8003\n",
            "Epoch 28/30\n",
            "50/50 [==============================] - 0s 2ms/step - loss: 3.0802 - accuracy: 0.8003\n",
            "Epoch 29/30\n",
            "50/50 [==============================] - 0s 2ms/step - loss: 3.0802 - accuracy: 0.8003\n",
            "Epoch 30/30\n",
            "50/50 [==============================] - 0s 2ms/step - loss: 3.0802 - accuracy: 0.8003\n",
            "13/13 [==============================] - 0s 1ms/step - loss: 3.3935 - accuracy: 0.7800\n",
            "Epoch 1/30\n",
            "50/50 [==============================] - 1s 1ms/step - loss: 3.1959 - accuracy: 0.7928\n",
            "Epoch 2/30\n",
            "50/50 [==============================] - 0s 2ms/step - loss: 3.1959 - accuracy: 0.7928\n",
            "Epoch 3/30\n",
            "50/50 [==============================] - 0s 2ms/step - loss: 3.1959 - accuracy: 0.7928\n",
            "Epoch 4/30\n",
            "50/50 [==============================] - 0s 2ms/step - loss: 3.1959 - accuracy: 0.7928\n",
            "Epoch 5/30\n",
            "50/50 [==============================] - 0s 2ms/step - loss: 3.1959 - accuracy: 0.7928\n",
            "Epoch 6/30\n",
            "50/50 [==============================] - 0s 2ms/step - loss: 3.1959 - accuracy: 0.7928\n",
            "Epoch 7/30\n",
            "50/50 [==============================] - 0s 2ms/step - loss: 3.1959 - accuracy: 0.7928\n",
            "Epoch 8/30\n",
            "50/50 [==============================] - 0s 2ms/step - loss: 3.1959 - accuracy: 0.7928\n",
            "Epoch 9/30\n",
            "50/50 [==============================] - 0s 2ms/step - loss: 3.1959 - accuracy: 0.7928\n",
            "Epoch 10/30\n",
            "50/50 [==============================] - 0s 2ms/step - loss: 3.1959 - accuracy: 0.7928\n",
            "Epoch 11/30\n",
            "50/50 [==============================] - 0s 2ms/step - loss: 3.1959 - accuracy: 0.7928\n",
            "Epoch 12/30\n",
            "50/50 [==============================] - 0s 2ms/step - loss: 3.1959 - accuracy: 0.7928\n",
            "Epoch 13/30\n",
            "50/50 [==============================] - 0s 2ms/step - loss: 3.1959 - accuracy: 0.7928\n",
            "Epoch 14/30\n",
            "50/50 [==============================] - 0s 2ms/step - loss: 3.1959 - accuracy: 0.7928\n",
            "Epoch 15/30\n",
            "50/50 [==============================] - 0s 2ms/step - loss: 3.1959 - accuracy: 0.7928\n",
            "Epoch 16/30\n",
            "50/50 [==============================] - 0s 2ms/step - loss: 3.1959 - accuracy: 0.7928\n",
            "Epoch 17/30\n",
            "50/50 [==============================] - 0s 2ms/step - loss: 3.1959 - accuracy: 0.7928\n",
            "Epoch 18/30\n",
            "50/50 [==============================] - 0s 2ms/step - loss: 3.1959 - accuracy: 0.7928\n",
            "Epoch 19/30\n",
            "50/50 [==============================] - 0s 2ms/step - loss: 3.1959 - accuracy: 0.7928\n",
            "Epoch 20/30\n",
            "50/50 [==============================] - 0s 2ms/step - loss: 3.1959 - accuracy: 0.7928\n",
            "Epoch 21/30\n",
            "50/50 [==============================] - 0s 2ms/step - loss: 3.1959 - accuracy: 0.7928\n",
            "Epoch 22/30\n",
            "50/50 [==============================] - 0s 2ms/step - loss: 3.1959 - accuracy: 0.7928\n",
            "Epoch 23/30\n",
            "50/50 [==============================] - 0s 2ms/step - loss: 3.1959 - accuracy: 0.7928\n",
            "Epoch 24/30\n",
            "50/50 [==============================] - 0s 2ms/step - loss: 3.1959 - accuracy: 0.7928\n",
            "Epoch 25/30\n",
            "50/50 [==============================] - 0s 2ms/step - loss: 3.1959 - accuracy: 0.7928\n",
            "Epoch 26/30\n",
            "50/50 [==============================] - 0s 2ms/step - loss: 3.1959 - accuracy: 0.7928\n",
            "Epoch 27/30\n",
            "50/50 [==============================] - 0s 2ms/step - loss: 3.1959 - accuracy: 0.7928\n",
            "Epoch 28/30\n",
            "50/50 [==============================] - 0s 2ms/step - loss: 3.1959 - accuracy: 0.7928\n",
            "Epoch 29/30\n",
            "50/50 [==============================] - 0s 2ms/step - loss: 3.1959 - accuracy: 0.7928\n",
            "Epoch 30/30\n",
            "50/50 [==============================] - 0s 2ms/step - loss: 3.1959 - accuracy: 0.7928\n",
            "13/13 [==============================] - 0s 1ms/step - loss: 2.9307 - accuracy: 0.8100\n",
            "Epoch 1/30\n",
            "50/50 [==============================] - 0s 2ms/step - loss: 3.1910 - accuracy: 0.7931\n",
            "Epoch 2/30\n",
            "50/50 [==============================] - 0s 1ms/step - loss: 3.1910 - accuracy: 0.7931\n",
            "Epoch 3/30\n",
            "50/50 [==============================] - 0s 2ms/step - loss: 3.1910 - accuracy: 0.7931\n",
            "Epoch 4/30\n",
            "50/50 [==============================] - 0s 2ms/step - loss: 3.1910 - accuracy: 0.7931\n",
            "Epoch 5/30\n",
            "50/50 [==============================] - 0s 2ms/step - loss: 3.1910 - accuracy: 0.7931\n",
            "Epoch 6/30\n",
            "50/50 [==============================] - 0s 2ms/step - loss: 3.1910 - accuracy: 0.7931\n",
            "Epoch 7/30\n",
            "50/50 [==============================] - 0s 2ms/step - loss: 3.1910 - accuracy: 0.7931\n",
            "Epoch 8/30\n",
            "50/50 [==============================] - 0s 2ms/step - loss: 3.1910 - accuracy: 0.7931\n",
            "Epoch 9/30\n",
            "50/50 [==============================] - 0s 2ms/step - loss: 3.1910 - accuracy: 0.7931\n",
            "Epoch 10/30\n",
            "50/50 [==============================] - 0s 2ms/step - loss: 3.1910 - accuracy: 0.7931\n",
            "Epoch 11/30\n",
            "50/50 [==============================] - 0s 2ms/step - loss: 3.1910 - accuracy: 0.7931\n",
            "Epoch 12/30\n",
            "50/50 [==============================] - 0s 2ms/step - loss: 3.1910 - accuracy: 0.7931\n",
            "Epoch 13/30\n",
            "50/50 [==============================] - 0s 2ms/step - loss: 3.1910 - accuracy: 0.7931\n",
            "Epoch 14/30\n",
            "50/50 [==============================] - 0s 2ms/step - loss: 3.1910 - accuracy: 0.7931\n",
            "Epoch 15/30\n",
            "50/50 [==============================] - 0s 2ms/step - loss: 3.1910 - accuracy: 0.7931\n",
            "Epoch 16/30\n",
            "50/50 [==============================] - 0s 2ms/step - loss: 3.1910 - accuracy: 0.7931\n",
            "Epoch 17/30\n",
            "50/50 [==============================] - 0s 2ms/step - loss: 3.1910 - accuracy: 0.7931\n",
            "Epoch 18/30\n",
            "50/50 [==============================] - 0s 2ms/step - loss: 3.1910 - accuracy: 0.7931\n",
            "Epoch 19/30\n",
            "50/50 [==============================] - 0s 2ms/step - loss: 3.1910 - accuracy: 0.7931\n",
            "Epoch 20/30\n",
            "50/50 [==============================] - 0s 2ms/step - loss: 3.1910 - accuracy: 0.7931\n",
            "Epoch 21/30\n",
            "50/50 [==============================] - 0s 2ms/step - loss: 3.1910 - accuracy: 0.7931\n",
            "Epoch 22/30\n",
            "50/50 [==============================] - 0s 2ms/step - loss: 3.1910 - accuracy: 0.7931\n",
            "Epoch 23/30\n",
            "50/50 [==============================] - 0s 1ms/step - loss: 3.1910 - accuracy: 0.7931\n",
            "Epoch 24/30\n",
            "50/50 [==============================] - 0s 2ms/step - loss: 3.1910 - accuracy: 0.7931\n",
            "Epoch 25/30\n",
            "50/50 [==============================] - 0s 2ms/step - loss: 3.1910 - accuracy: 0.7931\n",
            "Epoch 26/30\n",
            "50/50 [==============================] - 0s 2ms/step - loss: 3.1910 - accuracy: 0.7931\n",
            "Epoch 27/30\n",
            "50/50 [==============================] - 0s 2ms/step - loss: 3.1910 - accuracy: 0.7931\n",
            "Epoch 28/30\n",
            "50/50 [==============================] - 0s 2ms/step - loss: 3.1910 - accuracy: 0.7931\n",
            "Epoch 29/30\n",
            "50/50 [==============================] - 0s 2ms/step - loss: 3.1910 - accuracy: 0.7931\n",
            "Epoch 30/30\n",
            "50/50 [==============================] - 0s 2ms/step - loss: 3.1910 - accuracy: 0.7931\n",
            "13/13 [==============================] - 0s 1ms/step - loss: 2.9500 - accuracy: 0.8087\n",
            "Epoch 1/30\n",
            "50/50 [==============================] - 0s 2ms/step - loss: 0.5027 - accuracy: 0.7997\n",
            "Epoch 2/30\n",
            "50/50 [==============================] - 0s 2ms/step - loss: 0.4983 - accuracy: 0.7997\n",
            "Epoch 3/30\n",
            "50/50 [==============================] - 0s 2ms/step - loss: 0.4966 - accuracy: 0.7997\n",
            "Epoch 4/30\n",
            "50/50 [==============================] - 0s 2ms/step - loss: 0.4953 - accuracy: 0.7997\n",
            "Epoch 5/30\n",
            "50/50 [==============================] - 0s 1ms/step - loss: 0.4948 - accuracy: 0.7997\n",
            "Epoch 6/30\n",
            "50/50 [==============================] - 0s 2ms/step - loss: 0.4937 - accuracy: 0.7997\n",
            "Epoch 7/30\n",
            "50/50 [==============================] - 0s 2ms/step - loss: 0.4935 - accuracy: 0.7997\n",
            "Epoch 8/30\n",
            "50/50 [==============================] - 0s 2ms/step - loss: 0.4931 - accuracy: 0.7997\n",
            "Epoch 9/30\n",
            "50/50 [==============================] - 0s 2ms/step - loss: 0.4928 - accuracy: 0.7997\n",
            "Epoch 10/30\n",
            "50/50 [==============================] - 0s 2ms/step - loss: 0.4930 - accuracy: 0.7997\n",
            "Epoch 11/30\n",
            "50/50 [==============================] - 0s 2ms/step - loss: 0.4927 - accuracy: 0.7997\n",
            "Epoch 12/30\n",
            "50/50 [==============================] - 0s 2ms/step - loss: 0.4927 - accuracy: 0.7997\n",
            "Epoch 13/30\n",
            "50/50 [==============================] - 0s 2ms/step - loss: 0.4923 - accuracy: 0.7997\n",
            "Epoch 14/30\n",
            "50/50 [==============================] - 0s 2ms/step - loss: 0.4934 - accuracy: 0.7997\n",
            "Epoch 15/30\n",
            "50/50 [==============================] - 0s 2ms/step - loss: 0.4923 - accuracy: 0.7997\n",
            "Epoch 16/30\n",
            "50/50 [==============================] - 0s 2ms/step - loss: 0.4922 - accuracy: 0.7997\n",
            "Epoch 17/30\n",
            "50/50 [==============================] - 0s 2ms/step - loss: 0.4930 - accuracy: 0.7997\n",
            "Epoch 18/30\n",
            "50/50 [==============================] - 0s 2ms/step - loss: 0.4925 - accuracy: 0.7997\n",
            "Epoch 19/30\n",
            "50/50 [==============================] - 0s 2ms/step - loss: 0.4929 - accuracy: 0.7997\n",
            "Epoch 20/30\n",
            "50/50 [==============================] - 0s 2ms/step - loss: 0.4928 - accuracy: 0.7997\n",
            "Epoch 21/30\n",
            "50/50 [==============================] - 0s 2ms/step - loss: 0.4932 - accuracy: 0.7997\n",
            "Epoch 22/30\n",
            "50/50 [==============================] - 0s 2ms/step - loss: 0.4927 - accuracy: 0.7997\n",
            "Epoch 23/30\n",
            "50/50 [==============================] - 0s 2ms/step - loss: 0.4922 - accuracy: 0.7997\n",
            "Epoch 24/30\n",
            "50/50 [==============================] - 0s 2ms/step - loss: 0.4932 - accuracy: 0.7997\n",
            "Epoch 25/30\n",
            "50/50 [==============================] - 0s 2ms/step - loss: 0.4922 - accuracy: 0.7997\n",
            "Epoch 26/30\n",
            "50/50 [==============================] - 0s 2ms/step - loss: 0.4930 - accuracy: 0.7997\n",
            "Epoch 27/30\n",
            "50/50 [==============================] - 0s 2ms/step - loss: 0.4929 - accuracy: 0.7997\n",
            "Epoch 28/30\n",
            "50/50 [==============================] - 0s 2ms/step - loss: 0.4926 - accuracy: 0.7997\n",
            "Epoch 29/30\n",
            "50/50 [==============================] - 0s 1ms/step - loss: 0.4922 - accuracy: 0.7997\n",
            "Epoch 30/30\n",
            "50/50 [==============================] - 0s 2ms/step - loss: 0.4920 - accuracy: 0.7997\n",
            "13/13 [==============================] - 0s 2ms/step - loss: 0.5233 - accuracy: 0.7825\n",
            "Epoch 1/30\n",
            "50/50 [==============================] - 0s 2ms/step - loss: 0.6219 - accuracy: 0.6484\n",
            "Epoch 2/30\n",
            "50/50 [==============================] - 0s 2ms/step - loss: 0.5057 - accuracy: 0.7953\n",
            "Epoch 3/30\n",
            "50/50 [==============================] - 0s 2ms/step - loss: 0.5041 - accuracy: 0.7953\n",
            "Epoch 4/30\n",
            "50/50 [==============================] - 0s 2ms/step - loss: 0.5034 - accuracy: 0.7953\n",
            "Epoch 5/30\n",
            "50/50 [==============================] - 0s 2ms/step - loss: 0.5024 - accuracy: 0.7953\n",
            "Epoch 6/30\n",
            "50/50 [==============================] - 0s 2ms/step - loss: 0.5018 - accuracy: 0.7953\n",
            "Epoch 7/30\n",
            "50/50 [==============================] - 0s 2ms/step - loss: 0.5013 - accuracy: 0.7953\n",
            "Epoch 8/30\n",
            "50/50 [==============================] - 0s 2ms/step - loss: 0.5009 - accuracy: 0.7953\n",
            "Epoch 9/30\n",
            "50/50 [==============================] - 0s 2ms/step - loss: 0.5005 - accuracy: 0.7953\n",
            "Epoch 10/30\n",
            "50/50 [==============================] - 0s 2ms/step - loss: 0.5002 - accuracy: 0.7953\n",
            "Epoch 11/30\n",
            "50/50 [==============================] - 0s 2ms/step - loss: 0.5001 - accuracy: 0.7953\n",
            "Epoch 12/30\n",
            "50/50 [==============================] - 0s 2ms/step - loss: 0.4995 - accuracy: 0.7953\n",
            "Epoch 13/30\n",
            "50/50 [==============================] - 0s 2ms/step - loss: 0.5001 - accuracy: 0.7953\n",
            "Epoch 14/30\n",
            "50/50 [==============================] - 0s 2ms/step - loss: 0.4996 - accuracy: 0.7953\n",
            "Epoch 15/30\n",
            "50/50 [==============================] - 0s 2ms/step - loss: 0.4995 - accuracy: 0.7953\n",
            "Epoch 16/30\n",
            "50/50 [==============================] - 0s 2ms/step - loss: 0.4992 - accuracy: 0.7953\n",
            "Epoch 17/30\n",
            "50/50 [==============================] - 0s 2ms/step - loss: 0.4996 - accuracy: 0.7953\n",
            "Epoch 18/30\n",
            "50/50 [==============================] - 0s 2ms/step - loss: 0.4996 - accuracy: 0.7953\n",
            "Epoch 19/30\n",
            "50/50 [==============================] - 0s 2ms/step - loss: 0.4992 - accuracy: 0.7953\n",
            "Epoch 20/30\n",
            "50/50 [==============================] - 0s 2ms/step - loss: 0.5000 - accuracy: 0.7953\n",
            "Epoch 21/30\n",
            "50/50 [==============================] - 0s 2ms/step - loss: 0.4993 - accuracy: 0.7953\n",
            "Epoch 22/30\n",
            "50/50 [==============================] - 0s 2ms/step - loss: 0.4992 - accuracy: 0.7953\n",
            "Epoch 23/30\n",
            "50/50 [==============================] - 0s 2ms/step - loss: 0.4996 - accuracy: 0.7953\n",
            "Epoch 24/30\n",
            "50/50 [==============================] - 0s 2ms/step - loss: 0.4998 - accuracy: 0.7953\n",
            "Epoch 25/30\n",
            "50/50 [==============================] - 0s 2ms/step - loss: 0.4991 - accuracy: 0.7953\n",
            "Epoch 26/30\n",
            "50/50 [==============================] - 0s 2ms/step - loss: 0.4992 - accuracy: 0.7953\n",
            "Epoch 27/30\n",
            "50/50 [==============================] - 0s 2ms/step - loss: 0.4995 - accuracy: 0.7953\n",
            "Epoch 28/30\n",
            "50/50 [==============================] - 0s 2ms/step - loss: 0.4994 - accuracy: 0.7953\n",
            "Epoch 29/30\n",
            "50/50 [==============================] - 0s 2ms/step - loss: 0.4995 - accuracy: 0.7953\n",
            "Epoch 30/30\n",
            "50/50 [==============================] - 0s 2ms/step - loss: 0.4994 - accuracy: 0.7953\n",
            "13/13 [==============================] - 0s 2ms/step - loss: 0.4919 - accuracy: 0.8000\n",
            "Epoch 1/30\n",
            "50/50 [==============================] - 1s 2ms/step - loss: 0.5038 - accuracy: 0.8003\n",
            "Epoch 2/30\n",
            "50/50 [==============================] - 0s 2ms/step - loss: 0.5008 - accuracy: 0.8003\n",
            "Epoch 3/30\n",
            "50/50 [==============================] - 0s 2ms/step - loss: 0.5001 - accuracy: 0.8003\n",
            "Epoch 4/30\n",
            "50/50 [==============================] - 0s 2ms/step - loss: 0.4982 - accuracy: 0.8003\n",
            "Epoch 5/30\n",
            "50/50 [==============================] - 0s 3ms/step - loss: 0.4975 - accuracy: 0.8003\n",
            "Epoch 6/30\n",
            "50/50 [==============================] - 0s 2ms/step - loss: 0.4974 - accuracy: 0.8003\n",
            "Epoch 7/30\n",
            "50/50 [==============================] - 0s 2ms/step - loss: 0.4954 - accuracy: 0.8003\n",
            "Epoch 8/30\n",
            "50/50 [==============================] - 0s 2ms/step - loss: 0.4956 - accuracy: 0.8003\n",
            "Epoch 9/30\n",
            "50/50 [==============================] - 0s 2ms/step - loss: 0.4995 - accuracy: 0.8003\n",
            "Epoch 10/30\n",
            "50/50 [==============================] - 0s 2ms/step - loss: 0.4954 - accuracy: 0.8003\n",
            "Epoch 11/30\n",
            "50/50 [==============================] - 0s 2ms/step - loss: 0.4948 - accuracy: 0.8003\n",
            "Epoch 12/30\n",
            "50/50 [==============================] - 0s 2ms/step - loss: 0.4938 - accuracy: 0.8003\n",
            "Epoch 13/30\n",
            "50/50 [==============================] - 0s 2ms/step - loss: 0.4943 - accuracy: 0.8003\n",
            "Epoch 14/30\n",
            "50/50 [==============================] - 0s 2ms/step - loss: 0.4929 - accuracy: 0.8003\n",
            "Epoch 15/30\n",
            "50/50 [==============================] - 0s 2ms/step - loss: 0.4949 - accuracy: 0.8003\n",
            "Epoch 16/30\n",
            "50/50 [==============================] - 0s 2ms/step - loss: 0.4929 - accuracy: 0.8003\n",
            "Epoch 17/30\n",
            "50/50 [==============================] - 0s 2ms/step - loss: 0.4929 - accuracy: 0.8003\n",
            "Epoch 18/30\n",
            "50/50 [==============================] - 0s 2ms/step - loss: 0.4924 - accuracy: 0.8003\n",
            "Epoch 19/30\n",
            "50/50 [==============================] - 0s 2ms/step - loss: 0.4948 - accuracy: 0.8003\n",
            "Epoch 20/30\n",
            "50/50 [==============================] - 0s 2ms/step - loss: 0.4973 - accuracy: 0.8003\n",
            "Epoch 21/30\n",
            "50/50 [==============================] - 0s 2ms/step - loss: 0.4932 - accuracy: 0.8003\n",
            "Epoch 22/30\n",
            "50/50 [==============================] - 0s 2ms/step - loss: 0.4941 - accuracy: 0.8003\n",
            "Epoch 23/30\n",
            "50/50 [==============================] - 0s 2ms/step - loss: 0.4927 - accuracy: 0.8003\n",
            "Epoch 24/30\n",
            "50/50 [==============================] - 0s 2ms/step - loss: 0.4973 - accuracy: 0.8003\n",
            "Epoch 25/30\n",
            "50/50 [==============================] - 0s 2ms/step - loss: 0.4937 - accuracy: 0.8003\n",
            "Epoch 26/30\n",
            "50/50 [==============================] - 0s 2ms/step - loss: 0.4930 - accuracy: 0.8003\n",
            "Epoch 27/30\n",
            "50/50 [==============================] - 0s 2ms/step - loss: 0.4944 - accuracy: 0.8003\n",
            "Epoch 28/30\n",
            "50/50 [==============================] - 0s 2ms/step - loss: 0.4933 - accuracy: 0.8003\n",
            "Epoch 29/30\n",
            "50/50 [==============================] - 0s 2ms/step - loss: 0.4938 - accuracy: 0.8003\n",
            "Epoch 30/30\n",
            "50/50 [==============================] - 0s 2ms/step - loss: 0.4947 - accuracy: 0.8003\n",
            "13/13 [==============================] - 0s 2ms/step - loss: 0.5209 - accuracy: 0.7800\n",
            "Epoch 1/30\n",
            "50/50 [==============================] - 1s 2ms/step - loss: 3.1959 - accuracy: 0.7928\n",
            "Epoch 2/30\n",
            "50/50 [==============================] - 0s 2ms/step - loss: 3.1959 - accuracy: 0.7928\n",
            "Epoch 3/30\n",
            "50/50 [==============================] - 0s 2ms/step - loss: 3.1959 - accuracy: 0.7928\n",
            "Epoch 4/30\n",
            "50/50 [==============================] - 0s 2ms/step - loss: 3.1959 - accuracy: 0.7928\n",
            "Epoch 5/30\n",
            "50/50 [==============================] - 0s 2ms/step - loss: 3.1959 - accuracy: 0.7928\n",
            "Epoch 6/30\n",
            "50/50 [==============================] - 0s 2ms/step - loss: 3.1959 - accuracy: 0.7928\n",
            "Epoch 7/30\n",
            "50/50 [==============================] - 0s 2ms/step - loss: 3.1959 - accuracy: 0.7928\n",
            "Epoch 8/30\n",
            "50/50 [==============================] - 0s 2ms/step - loss: 3.1959 - accuracy: 0.7928\n",
            "Epoch 9/30\n",
            "50/50 [==============================] - 0s 2ms/step - loss: 3.1959 - accuracy: 0.7928\n",
            "Epoch 10/30\n",
            "50/50 [==============================] - 0s 2ms/step - loss: 3.1959 - accuracy: 0.7928\n",
            "Epoch 11/30\n",
            "50/50 [==============================] - 0s 2ms/step - loss: 3.1959 - accuracy: 0.7928\n",
            "Epoch 12/30\n",
            "50/50 [==============================] - 0s 2ms/step - loss: 3.1959 - accuracy: 0.7928\n",
            "Epoch 13/30\n",
            "50/50 [==============================] - 0s 2ms/step - loss: 3.1959 - accuracy: 0.7928\n",
            "Epoch 14/30\n",
            "50/50 [==============================] - 0s 2ms/step - loss: 3.1959 - accuracy: 0.7928\n",
            "Epoch 15/30\n",
            "50/50 [==============================] - 0s 2ms/step - loss: 3.1959 - accuracy: 0.7928\n",
            "Epoch 16/30\n",
            "50/50 [==============================] - 0s 2ms/step - loss: 3.1959 - accuracy: 0.7928\n",
            "Epoch 17/30\n",
            "50/50 [==============================] - 0s 2ms/step - loss: 3.1959 - accuracy: 0.7928\n",
            "Epoch 18/30\n",
            "50/50 [==============================] - 0s 2ms/step - loss: 3.1959 - accuracy: 0.7928\n",
            "Epoch 19/30\n",
            "50/50 [==============================] - 0s 2ms/step - loss: 3.1959 - accuracy: 0.7928\n",
            "Epoch 20/30\n",
            "50/50 [==============================] - 0s 2ms/step - loss: 3.1959 - accuracy: 0.7928\n",
            "Epoch 21/30\n",
            "50/50 [==============================] - 0s 2ms/step - loss: 3.1959 - accuracy: 0.7928\n",
            "Epoch 22/30\n",
            "50/50 [==============================] - 0s 2ms/step - loss: 3.1959 - accuracy: 0.7928\n",
            "Epoch 23/30\n",
            "50/50 [==============================] - 0s 2ms/step - loss: 3.1959 - accuracy: 0.7928\n",
            "Epoch 24/30\n",
            "50/50 [==============================] - 0s 2ms/step - loss: 3.1959 - accuracy: 0.7928\n",
            "Epoch 25/30\n",
            "50/50 [==============================] - 0s 2ms/step - loss: 3.1959 - accuracy: 0.7928\n",
            "Epoch 26/30\n",
            "50/50 [==============================] - 0s 2ms/step - loss: 3.1959 - accuracy: 0.7928\n",
            "Epoch 27/30\n",
            "50/50 [==============================] - 0s 2ms/step - loss: 3.1959 - accuracy: 0.7928\n",
            "Epoch 28/30\n",
            "50/50 [==============================] - 0s 2ms/step - loss: 3.1959 - accuracy: 0.7928\n",
            "Epoch 29/30\n",
            "50/50 [==============================] - 0s 2ms/step - loss: 3.1959 - accuracy: 0.7928\n",
            "Epoch 30/30\n",
            "50/50 [==============================] - 0s 2ms/step - loss: 3.1959 - accuracy: 0.7928\n",
            "13/13 [==============================] - 0s 2ms/step - loss: 2.9307 - accuracy: 0.8100\n",
            "Epoch 1/30\n",
            "50/50 [==============================] - 1s 2ms/step - loss: 0.7090 - accuracy: 0.6284\n",
            "Epoch 2/30\n",
            "50/50 [==============================] - 0s 2ms/step - loss: 0.5107 - accuracy: 0.7931\n",
            "Epoch 3/30\n",
            "50/50 [==============================] - 0s 2ms/step - loss: 0.5097 - accuracy: 0.7931\n",
            "Epoch 4/30\n",
            "50/50 [==============================] - 0s 2ms/step - loss: 0.5097 - accuracy: 0.7931\n",
            "Epoch 5/30\n",
            "50/50 [==============================] - 0s 2ms/step - loss: 0.5091 - accuracy: 0.7931\n",
            "Epoch 6/30\n",
            "50/50 [==============================] - 0s 2ms/step - loss: 0.5088 - accuracy: 0.7931\n",
            "Epoch 7/30\n",
            "50/50 [==============================] - 0s 3ms/step - loss: 0.5090 - accuracy: 0.7931\n",
            "Epoch 8/30\n",
            "50/50 [==============================] - 0s 2ms/step - loss: 0.5082 - accuracy: 0.7931\n",
            "Epoch 9/30\n",
            "50/50 [==============================] - 0s 2ms/step - loss: 0.5075 - accuracy: 0.7931\n",
            "Epoch 10/30\n",
            "50/50 [==============================] - 0s 2ms/step - loss: 0.5076 - accuracy: 0.7931\n",
            "Epoch 11/30\n",
            "50/50 [==============================] - 0s 2ms/step - loss: 0.5073 - accuracy: 0.7931\n",
            "Epoch 12/30\n",
            "50/50 [==============================] - 0s 2ms/step - loss: 0.5064 - accuracy: 0.7931\n",
            "Epoch 13/30\n",
            "50/50 [==============================] - 0s 2ms/step - loss: 0.5062 - accuracy: 0.7931\n",
            "Epoch 14/30\n",
            "50/50 [==============================] - 0s 2ms/step - loss: 0.5053 - accuracy: 0.7931\n",
            "Epoch 15/30\n",
            "50/50 [==============================] - 0s 2ms/step - loss: 0.5055 - accuracy: 0.7931\n",
            "Epoch 16/30\n",
            "50/50 [==============================] - 0s 2ms/step - loss: 0.5063 - accuracy: 0.7931\n",
            "Epoch 17/30\n",
            "50/50 [==============================] - 0s 2ms/step - loss: 0.5042 - accuracy: 0.7931\n",
            "Epoch 18/30\n",
            "50/50 [==============================] - 0s 2ms/step - loss: 0.5043 - accuracy: 0.7931\n",
            "Epoch 19/30\n",
            "50/50 [==============================] - 0s 3ms/step - loss: 0.5047 - accuracy: 0.7931\n",
            "Epoch 20/30\n",
            "50/50 [==============================] - 0s 2ms/step - loss: 0.5036 - accuracy: 0.7931\n",
            "Epoch 21/30\n",
            "50/50 [==============================] - 0s 2ms/step - loss: 0.5034 - accuracy: 0.7931\n",
            "Epoch 22/30\n",
            "50/50 [==============================] - 0s 2ms/step - loss: 0.5040 - accuracy: 0.7931\n",
            "Epoch 23/30\n",
            "50/50 [==============================] - 0s 2ms/step - loss: 0.5036 - accuracy: 0.7931\n",
            "Epoch 24/30\n",
            "50/50 [==============================] - 0s 3ms/step - loss: 0.5028 - accuracy: 0.7931\n",
            "Epoch 25/30\n",
            "50/50 [==============================] - 0s 2ms/step - loss: 0.5027 - accuracy: 0.7931\n",
            "Epoch 26/30\n",
            "50/50 [==============================] - 0s 2ms/step - loss: 0.5058 - accuracy: 0.7931\n",
            "Epoch 27/30\n",
            "50/50 [==============================] - 0s 2ms/step - loss: 0.5019 - accuracy: 0.7931\n",
            "Epoch 28/30\n",
            "50/50 [==============================] - 0s 2ms/step - loss: 0.5025 - accuracy: 0.7931\n",
            "Epoch 29/30\n",
            "50/50 [==============================] - 0s 2ms/step - loss: 0.5022 - accuracy: 0.7931\n",
            "Epoch 30/30\n",
            "50/50 [==============================] - 0s 2ms/step - loss: 0.5038 - accuracy: 0.7931\n",
            "13/13 [==============================] - 0s 2ms/step - loss: 0.4823 - accuracy: 0.8087\n",
            "Epoch 1/30\n",
            "50/50 [==============================] - 1s 2ms/step - loss: 0.5812 - accuracy: 0.7141\n",
            "Epoch 2/30\n",
            "50/50 [==============================] - 0s 2ms/step - loss: 0.5011 - accuracy: 0.7997\n",
            "Epoch 3/30\n",
            "50/50 [==============================] - 0s 2ms/step - loss: 0.5005 - accuracy: 0.7997\n",
            "Epoch 4/30\n",
            "50/50 [==============================] - 0s 2ms/step - loss: 0.5005 - accuracy: 0.7997\n",
            "Epoch 5/30\n",
            "50/50 [==============================] - 0s 2ms/step - loss: 0.4992 - accuracy: 0.7997\n",
            "Epoch 6/30\n",
            "50/50 [==============================] - 0s 2ms/step - loss: 0.4993 - accuracy: 0.7997\n",
            "Epoch 7/30\n",
            "50/50 [==============================] - 0s 2ms/step - loss: 0.4974 - accuracy: 0.7997\n",
            "Epoch 8/30\n",
            "50/50 [==============================] - 0s 2ms/step - loss: 0.4964 - accuracy: 0.7997\n",
            "Epoch 9/30\n",
            "50/50 [==============================] - 0s 2ms/step - loss: 0.4957 - accuracy: 0.7997\n",
            "Epoch 10/30\n",
            "50/50 [==============================] - 0s 2ms/step - loss: 0.4959 - accuracy: 0.7997\n",
            "Epoch 11/30\n",
            "50/50 [==============================] - 0s 2ms/step - loss: 0.4964 - accuracy: 0.7997\n",
            "Epoch 12/30\n",
            "50/50 [==============================] - 0s 2ms/step - loss: 0.4954 - accuracy: 0.7997\n",
            "Epoch 13/30\n",
            "50/50 [==============================] - 0s 2ms/step - loss: 0.4947 - accuracy: 0.7997\n",
            "Epoch 14/30\n",
            "50/50 [==============================] - 0s 2ms/step - loss: 0.4964 - accuracy: 0.7997\n",
            "Epoch 15/30\n",
            "50/50 [==============================] - 0s 2ms/step - loss: 0.4937 - accuracy: 0.7997\n",
            "Epoch 16/30\n",
            "50/50 [==============================] - 0s 2ms/step - loss: 0.4945 - accuracy: 0.7997\n",
            "Epoch 17/30\n",
            "50/50 [==============================] - 0s 2ms/step - loss: 0.4935 - accuracy: 0.7997\n",
            "Epoch 18/30\n",
            "50/50 [==============================] - 0s 2ms/step - loss: 0.4929 - accuracy: 0.7997\n",
            "Epoch 19/30\n",
            "50/50 [==============================] - 0s 2ms/step - loss: 0.4934 - accuracy: 0.7997\n",
            "Epoch 20/30\n",
            "50/50 [==============================] - 0s 2ms/step - loss: 0.4935 - accuracy: 0.7997\n",
            "Epoch 21/30\n",
            "50/50 [==============================] - 0s 3ms/step - loss: 0.4946 - accuracy: 0.7997\n",
            "Epoch 22/30\n",
            "50/50 [==============================] - 0s 2ms/step - loss: 0.4952 - accuracy: 0.7997\n",
            "Epoch 23/30\n",
            "50/50 [==============================] - 0s 2ms/step - loss: 0.4925 - accuracy: 0.7997\n",
            "Epoch 24/30\n",
            "50/50 [==============================] - 0s 2ms/step - loss: 0.4941 - accuracy: 0.7997\n",
            "Epoch 25/30\n",
            "50/50 [==============================] - 0s 2ms/step - loss: 0.4932 - accuracy: 0.7997\n",
            "Epoch 26/30\n",
            "50/50 [==============================] - 0s 2ms/step - loss: 0.4947 - accuracy: 0.7997\n",
            "Epoch 27/30\n",
            "50/50 [==============================] - 0s 2ms/step - loss: 0.4960 - accuracy: 0.7997\n",
            "Epoch 28/30\n",
            "50/50 [==============================] - 0s 2ms/step - loss: 0.4935 - accuracy: 0.7997\n",
            "Epoch 29/30\n",
            "50/50 [==============================] - 0s 2ms/step - loss: 0.4929 - accuracy: 0.7997\n",
            "Epoch 30/30\n",
            "50/50 [==============================] - 0s 2ms/step - loss: 0.4921 - accuracy: 0.7997\n",
            "13/13 [==============================] - 0s 2ms/step - loss: 0.5187 - accuracy: 0.7825\n",
            "Epoch 1/30\n",
            "50/50 [==============================] - 1s 2ms/step - loss: 12.1279 - accuracy: 0.2047\n",
            "Epoch 2/30\n",
            "50/50 [==============================] - 0s 2ms/step - loss: 12.1279 - accuracy: 0.2047\n",
            "Epoch 3/30\n",
            "50/50 [==============================] - 0s 2ms/step - loss: 12.1279 - accuracy: 0.2047\n",
            "Epoch 4/30\n",
            "50/50 [==============================] - 0s 2ms/step - loss: 12.1279 - accuracy: 0.2047\n",
            "Epoch 5/30\n",
            "50/50 [==============================] - 0s 2ms/step - loss: 12.1279 - accuracy: 0.2047\n",
            "Epoch 6/30\n",
            "50/50 [==============================] - 0s 2ms/step - loss: 12.1279 - accuracy: 0.2047\n",
            "Epoch 7/30\n",
            "50/50 [==============================] - 0s 2ms/step - loss: 12.1279 - accuracy: 0.2047\n",
            "Epoch 8/30\n",
            "50/50 [==============================] - 0s 2ms/step - loss: 12.1279 - accuracy: 0.2047\n",
            "Epoch 9/30\n",
            "50/50 [==============================] - 0s 2ms/step - loss: 12.1279 - accuracy: 0.2047\n",
            "Epoch 10/30\n",
            "50/50 [==============================] - 0s 2ms/step - loss: 12.1279 - accuracy: 0.2047\n",
            "Epoch 11/30\n",
            "50/50 [==============================] - 0s 2ms/step - loss: 12.1279 - accuracy: 0.2047\n",
            "Epoch 12/30\n",
            "50/50 [==============================] - 0s 2ms/step - loss: 12.1279 - accuracy: 0.2047\n",
            "Epoch 13/30\n",
            "50/50 [==============================] - 0s 3ms/step - loss: 12.1279 - accuracy: 0.2047\n",
            "Epoch 14/30\n",
            "50/50 [==============================] - 0s 2ms/step - loss: 12.1279 - accuracy: 0.2047\n",
            "Epoch 15/30\n",
            "50/50 [==============================] - 0s 2ms/step - loss: 12.1279 - accuracy: 0.2047\n",
            "Epoch 16/30\n",
            "50/50 [==============================] - 0s 2ms/step - loss: 12.1279 - accuracy: 0.2047\n",
            "Epoch 17/30\n",
            "50/50 [==============================] - 0s 2ms/step - loss: 12.1279 - accuracy: 0.2047\n",
            "Epoch 18/30\n",
            "50/50 [==============================] - 0s 2ms/step - loss: 12.1279 - accuracy: 0.2047\n",
            "Epoch 19/30\n",
            "50/50 [==============================] - 0s 2ms/step - loss: 12.1279 - accuracy: 0.2047\n",
            "Epoch 20/30\n",
            "50/50 [==============================] - 0s 2ms/step - loss: 12.1279 - accuracy: 0.2047\n",
            "Epoch 21/30\n",
            "50/50 [==============================] - 0s 2ms/step - loss: 12.1279 - accuracy: 0.2047\n",
            "Epoch 22/30\n",
            "50/50 [==============================] - 0s 2ms/step - loss: 12.1279 - accuracy: 0.2047\n",
            "Epoch 23/30\n",
            "50/50 [==============================] - 0s 2ms/step - loss: 12.1279 - accuracy: 0.2047\n",
            "Epoch 24/30\n",
            "50/50 [==============================] - 0s 2ms/step - loss: 12.1279 - accuracy: 0.2047\n",
            "Epoch 25/30\n",
            "50/50 [==============================] - 0s 2ms/step - loss: 12.1279 - accuracy: 0.2047\n",
            "Epoch 26/30\n",
            "50/50 [==============================] - 0s 2ms/step - loss: 12.1279 - accuracy: 0.2047\n",
            "Epoch 27/30\n",
            "50/50 [==============================] - 0s 2ms/step - loss: 12.1279 - accuracy: 0.2047\n",
            "Epoch 28/30\n",
            "50/50 [==============================] - 0s 2ms/step - loss: 12.1279 - accuracy: 0.2047\n",
            "Epoch 29/30\n",
            "50/50 [==============================] - 0s 3ms/step - loss: 12.1279 - accuracy: 0.2047\n",
            "Epoch 30/30\n",
            "50/50 [==============================] - 0s 2ms/step - loss: 12.1279 - accuracy: 0.2047\n",
            "13/13 [==============================] - 0s 2ms/step - loss: 12.1994 - accuracy: 0.2000\n",
            "Epoch 1/30\n",
            "50/50 [==============================] - 1s 2ms/step - loss: 0.5018 - accuracy: 0.8003\n",
            "Epoch 2/30\n",
            "50/50 [==============================] - 0s 2ms/step - loss: 0.5020 - accuracy: 0.8003\n",
            "Epoch 3/30\n",
            "50/50 [==============================] - 0s 2ms/step - loss: 0.5013 - accuracy: 0.8003\n",
            "Epoch 4/30\n",
            "50/50 [==============================] - 0s 2ms/step - loss: 0.4997 - accuracy: 0.8003\n",
            "Epoch 5/30\n",
            "50/50 [==============================] - 0s 2ms/step - loss: 0.5004 - accuracy: 0.8003\n",
            "Epoch 6/30\n",
            "50/50 [==============================] - 0s 2ms/step - loss: 0.4991 - accuracy: 0.8003\n",
            "Epoch 7/30\n",
            "50/50 [==============================] - 0s 2ms/step - loss: 0.4994 - accuracy: 0.8003\n",
            "Epoch 8/30\n",
            "50/50 [==============================] - 0s 3ms/step - loss: 0.4999 - accuracy: 0.8003\n",
            "Epoch 9/30\n",
            "50/50 [==============================] - 0s 3ms/step - loss: 0.4996 - accuracy: 0.8003\n",
            "Epoch 10/30\n",
            "50/50 [==============================] - 0s 2ms/step - loss: 0.4981 - accuracy: 0.8003\n",
            "Epoch 11/30\n",
            "50/50 [==============================] - 0s 3ms/step - loss: 0.4966 - accuracy: 0.8003\n",
            "Epoch 12/30\n",
            "50/50 [==============================] - 0s 2ms/step - loss: 0.4969 - accuracy: 0.8003\n",
            "Epoch 13/30\n",
            "50/50 [==============================] - 0s 2ms/step - loss: 0.4962 - accuracy: 0.8003\n",
            "Epoch 14/30\n",
            "50/50 [==============================] - 0s 2ms/step - loss: 0.4964 - accuracy: 0.8003\n",
            "Epoch 15/30\n",
            "50/50 [==============================] - 0s 2ms/step - loss: 0.4956 - accuracy: 0.8003\n",
            "Epoch 16/30\n",
            "50/50 [==============================] - 0s 2ms/step - loss: 0.4950 - accuracy: 0.8003\n",
            "Epoch 17/30\n",
            "50/50 [==============================] - 0s 2ms/step - loss: 0.4968 - accuracy: 0.8003\n",
            "Epoch 18/30\n",
            "50/50 [==============================] - 0s 2ms/step - loss: 0.4967 - accuracy: 0.8003\n",
            "Epoch 19/30\n",
            "50/50 [==============================] - 0s 3ms/step - loss: 0.4934 - accuracy: 0.8003\n",
            "Epoch 20/30\n",
            "50/50 [==============================] - 0s 2ms/step - loss: 0.4938 - accuracy: 0.8003\n",
            "Epoch 21/30\n",
            "50/50 [==============================] - 0s 2ms/step - loss: 0.4939 - accuracy: 0.8003\n",
            "Epoch 22/30\n",
            "50/50 [==============================] - 0s 2ms/step - loss: 0.4933 - accuracy: 0.8003\n",
            "Epoch 23/30\n",
            "50/50 [==============================] - 0s 2ms/step - loss: 0.4931 - accuracy: 0.8003\n",
            "Epoch 24/30\n",
            "50/50 [==============================] - 0s 2ms/step - loss: 0.4923 - accuracy: 0.8003\n",
            "Epoch 25/30\n",
            "50/50 [==============================] - 0s 2ms/step - loss: 0.4932 - accuracy: 0.8003\n",
            "Epoch 26/30\n",
            "50/50 [==============================] - 0s 2ms/step - loss: 0.4936 - accuracy: 0.8003\n",
            "Epoch 27/30\n",
            "50/50 [==============================] - 0s 2ms/step - loss: 0.4925 - accuracy: 0.8003\n",
            "Epoch 28/30\n",
            "50/50 [==============================] - 0s 3ms/step - loss: 0.4925 - accuracy: 0.8003\n",
            "Epoch 29/30\n",
            "50/50 [==============================] - 0s 2ms/step - loss: 0.4926 - accuracy: 0.8003\n",
            "Epoch 30/30\n",
            "50/50 [==============================] - 0s 2ms/step - loss: 0.4929 - accuracy: 0.8003\n",
            "13/13 [==============================] - 0s 2ms/step - loss: 0.5212 - accuracy: 0.7800\n",
            "Epoch 1/30\n",
            "50/50 [==============================] - 1s 3ms/step - loss: 3.1959 - accuracy: 0.7928\n",
            "Epoch 2/30\n",
            "50/50 [==============================] - 0s 2ms/step - loss: 3.1959 - accuracy: 0.7928\n",
            "Epoch 3/30\n",
            "50/50 [==============================] - 0s 2ms/step - loss: 3.1959 - accuracy: 0.7928\n",
            "Epoch 4/30\n",
            "50/50 [==============================] - 0s 2ms/step - loss: 3.1959 - accuracy: 0.7928\n",
            "Epoch 5/30\n",
            "50/50 [==============================] - 0s 2ms/step - loss: 3.1959 - accuracy: 0.7928\n",
            "Epoch 6/30\n",
            "50/50 [==============================] - 0s 2ms/step - loss: 3.1959 - accuracy: 0.7928\n",
            "Epoch 7/30\n",
            "50/50 [==============================] - 0s 3ms/step - loss: 3.1959 - accuracy: 0.7928\n",
            "Epoch 8/30\n",
            "50/50 [==============================] - 0s 3ms/step - loss: 3.1959 - accuracy: 0.7928\n",
            "Epoch 9/30\n",
            "50/50 [==============================] - 0s 3ms/step - loss: 3.1959 - accuracy: 0.7928\n",
            "Epoch 10/30\n",
            "50/50 [==============================] - 0s 3ms/step - loss: 3.1959 - accuracy: 0.7928\n",
            "Epoch 11/30\n",
            "50/50 [==============================] - 0s 2ms/step - loss: 3.1959 - accuracy: 0.7928\n",
            "Epoch 12/30\n",
            "50/50 [==============================] - 0s 2ms/step - loss: 3.1959 - accuracy: 0.7928\n",
            "Epoch 13/30\n",
            "50/50 [==============================] - 0s 2ms/step - loss: 3.1959 - accuracy: 0.7928\n",
            "Epoch 14/30\n",
            "50/50 [==============================] - 0s 3ms/step - loss: 3.1959 - accuracy: 0.7928\n",
            "Epoch 15/30\n",
            "50/50 [==============================] - 0s 3ms/step - loss: 3.1959 - accuracy: 0.7928\n",
            "Epoch 16/30\n",
            "50/50 [==============================] - 0s 3ms/step - loss: 3.1959 - accuracy: 0.7928\n",
            "Epoch 17/30\n",
            "50/50 [==============================] - 0s 2ms/step - loss: 3.1959 - accuracy: 0.7928\n",
            "Epoch 18/30\n",
            "50/50 [==============================] - 0s 3ms/step - loss: 3.1959 - accuracy: 0.7928\n",
            "Epoch 19/30\n",
            "50/50 [==============================] - 0s 2ms/step - loss: 3.1959 - accuracy: 0.7928\n",
            "Epoch 20/30\n",
            "50/50 [==============================] - 0s 2ms/step - loss: 3.1959 - accuracy: 0.7928\n",
            "Epoch 21/30\n",
            "50/50 [==============================] - 0s 2ms/step - loss: 3.1959 - accuracy: 0.7928\n",
            "Epoch 22/30\n",
            "50/50 [==============================] - 0s 2ms/step - loss: 3.1959 - accuracy: 0.7928\n",
            "Epoch 23/30\n",
            "50/50 [==============================] - 0s 2ms/step - loss: 3.1959 - accuracy: 0.7928\n",
            "Epoch 24/30\n",
            "50/50 [==============================] - 0s 2ms/step - loss: 3.1959 - accuracy: 0.7928\n",
            "Epoch 25/30\n",
            "50/50 [==============================] - 0s 2ms/step - loss: 3.1959 - accuracy: 0.7928\n",
            "Epoch 26/30\n",
            "50/50 [==============================] - 0s 2ms/step - loss: 3.1959 - accuracy: 0.7928\n",
            "Epoch 27/30\n",
            "50/50 [==============================] - 0s 3ms/step - loss: 3.1959 - accuracy: 0.7928\n",
            "Epoch 28/30\n",
            "50/50 [==============================] - 0s 2ms/step - loss: 3.1959 - accuracy: 0.7928\n",
            "Epoch 29/30\n",
            "50/50 [==============================] - 0s 2ms/step - loss: 3.1959 - accuracy: 0.7928\n",
            "Epoch 30/30\n",
            "50/50 [==============================] - 0s 3ms/step - loss: 3.1959 - accuracy: 0.7928\n",
            "13/13 [==============================] - 0s 2ms/step - loss: 2.9307 - accuracy: 0.8100\n",
            "Epoch 1/30\n",
            "50/50 [==============================] - 1s 2ms/step - loss: 0.5785 - accuracy: 0.7025\n",
            "Epoch 2/30\n",
            "50/50 [==============================] - 0s 2ms/step - loss: 0.5113 - accuracy: 0.7931\n",
            "Epoch 3/30\n",
            "50/50 [==============================] - 0s 2ms/step - loss: 0.5105 - accuracy: 0.7931\n",
            "Epoch 4/30\n",
            "50/50 [==============================] - 0s 2ms/step - loss: 0.5108 - accuracy: 0.7931\n",
            "Epoch 5/30\n",
            "50/50 [==============================] - 0s 3ms/step - loss: 0.5102 - accuracy: 0.7931\n",
            "Epoch 6/30\n",
            "50/50 [==============================] - 0s 3ms/step - loss: 0.5105 - accuracy: 0.7931\n",
            "Epoch 7/30\n",
            "50/50 [==============================] - 0s 2ms/step - loss: 0.5095 - accuracy: 0.7931\n",
            "Epoch 8/30\n",
            "50/50 [==============================] - 0s 2ms/step - loss: 0.5090 - accuracy: 0.7931\n",
            "Epoch 9/30\n",
            "50/50 [==============================] - 0s 2ms/step - loss: 0.5091 - accuracy: 0.7931\n",
            "Epoch 10/30\n",
            "50/50 [==============================] - 0s 2ms/step - loss: 0.5085 - accuracy: 0.7931\n",
            "Epoch 11/30\n",
            "50/50 [==============================] - 0s 2ms/step - loss: 0.5077 - accuracy: 0.7931\n",
            "Epoch 12/30\n",
            "50/50 [==============================] - 0s 3ms/step - loss: 0.5074 - accuracy: 0.7931\n",
            "Epoch 13/30\n",
            "50/50 [==============================] - 0s 2ms/step - loss: 0.5071 - accuracy: 0.7931\n",
            "Epoch 14/30\n",
            "50/50 [==============================] - 0s 3ms/step - loss: 0.5074 - accuracy: 0.7931\n",
            "Epoch 15/30\n",
            "50/50 [==============================] - 0s 2ms/step - loss: 0.5063 - accuracy: 0.7931\n",
            "Epoch 16/30\n",
            "50/50 [==============================] - 0s 2ms/step - loss: 0.5056 - accuracy: 0.7931\n",
            "Epoch 17/30\n",
            "50/50 [==============================] - 0s 2ms/step - loss: 0.5065 - accuracy: 0.7931\n",
            "Epoch 18/30\n",
            "50/50 [==============================] - 0s 2ms/step - loss: 0.5057 - accuracy: 0.7931\n",
            "Epoch 19/30\n",
            "50/50 [==============================] - 0s 3ms/step - loss: 0.5052 - accuracy: 0.7931\n",
            "Epoch 20/30\n",
            "50/50 [==============================] - 0s 3ms/step - loss: 0.5041 - accuracy: 0.7931\n",
            "Epoch 21/30\n",
            "50/50 [==============================] - 0s 2ms/step - loss: 0.5030 - accuracy: 0.7931\n",
            "Epoch 22/30\n",
            "50/50 [==============================] - 0s 3ms/step - loss: 0.5051 - accuracy: 0.7931\n",
            "Epoch 23/30\n",
            "50/50 [==============================] - 0s 2ms/step - loss: 0.5049 - accuracy: 0.7931\n",
            "Epoch 24/30\n",
            "50/50 [==============================] - 0s 3ms/step - loss: 0.5034 - accuracy: 0.7931\n",
            "Epoch 25/30\n",
            "50/50 [==============================] - 0s 3ms/step - loss: 0.5022 - accuracy: 0.7931\n",
            "Epoch 26/30\n",
            "50/50 [==============================] - 0s 2ms/step - loss: 0.5045 - accuracy: 0.7931\n",
            "Epoch 27/30\n",
            "50/50 [==============================] - 0s 3ms/step - loss: 0.5025 - accuracy: 0.7931\n",
            "Epoch 28/30\n",
            "50/50 [==============================] - 0s 3ms/step - loss: 0.5021 - accuracy: 0.7931\n",
            "Epoch 29/30\n",
            "50/50 [==============================] - 0s 3ms/step - loss: 0.5033 - accuracy: 0.7931\n",
            "Epoch 30/30\n",
            "50/50 [==============================] - 0s 2ms/step - loss: 0.5036 - accuracy: 0.7931\n",
            "13/13 [==============================] - 0s 2ms/step - loss: 0.4849 - accuracy: 0.8087\n",
            "Epoch 1/30\n",
            "50/50 [==============================] - 1s 2ms/step - loss: 0.6065 - accuracy: 0.6809\n",
            "Epoch 2/30\n",
            "50/50 [==============================] - 0s 2ms/step - loss: 0.5024 - accuracy: 0.7997\n",
            "Epoch 3/30\n",
            "50/50 [==============================] - 0s 2ms/step - loss: 0.5023 - accuracy: 0.7997\n",
            "Epoch 4/30\n",
            "50/50 [==============================] - 0s 3ms/step - loss: 0.5014 - accuracy: 0.7997\n",
            "Epoch 5/30\n",
            "50/50 [==============================] - 0s 3ms/step - loss: 0.5011 - accuracy: 0.7997\n",
            "Epoch 6/30\n",
            "50/50 [==============================] - 0s 3ms/step - loss: 0.5012 - accuracy: 0.7997\n",
            "Epoch 7/30\n",
            "50/50 [==============================] - 0s 3ms/step - loss: 0.5011 - accuracy: 0.7997\n",
            "Epoch 8/30\n",
            "50/50 [==============================] - 0s 3ms/step - loss: 0.5005 - accuracy: 0.7997\n",
            "Epoch 9/30\n",
            "50/50 [==============================] - 0s 3ms/step - loss: 0.5024 - accuracy: 0.7997\n",
            "Epoch 10/30\n",
            "50/50 [==============================] - 0s 3ms/step - loss: 0.5000 - accuracy: 0.7997\n",
            "Epoch 11/30\n",
            "50/50 [==============================] - 0s 2ms/step - loss: 0.4996 - accuracy: 0.7997\n",
            "Epoch 12/30\n",
            "50/50 [==============================] - 0s 2ms/step - loss: 0.4991 - accuracy: 0.7997\n",
            "Epoch 13/30\n",
            "50/50 [==============================] - 0s 2ms/step - loss: 0.4984 - accuracy: 0.7997\n",
            "Epoch 14/30\n",
            "50/50 [==============================] - 0s 3ms/step - loss: 0.4984 - accuracy: 0.7997\n",
            "Epoch 15/30\n",
            "50/50 [==============================] - 0s 3ms/step - loss: 0.4984 - accuracy: 0.7997\n",
            "Epoch 16/30\n",
            "50/50 [==============================] - 0s 3ms/step - loss: 0.4979 - accuracy: 0.7997\n",
            "Epoch 17/30\n",
            "50/50 [==============================] - 0s 2ms/step - loss: 0.4988 - accuracy: 0.7997\n",
            "Epoch 18/30\n",
            "50/50 [==============================] - 0s 3ms/step - loss: 0.4972 - accuracy: 0.7997\n",
            "Epoch 19/30\n",
            "50/50 [==============================] - 0s 3ms/step - loss: 0.4972 - accuracy: 0.7997\n",
            "Epoch 20/30\n",
            "50/50 [==============================] - 0s 2ms/step - loss: 0.4965 - accuracy: 0.7997\n",
            "Epoch 21/30\n",
            "50/50 [==============================] - 0s 3ms/step - loss: 0.4963 - accuracy: 0.7997\n",
            "Epoch 22/30\n",
            "50/50 [==============================] - 0s 2ms/step - loss: 0.4943 - accuracy: 0.7997\n",
            "Epoch 23/30\n",
            "50/50 [==============================] - 0s 3ms/step - loss: 0.4951 - accuracy: 0.7997\n",
            "Epoch 24/30\n",
            "50/50 [==============================] - 0s 3ms/step - loss: 0.4944 - accuracy: 0.7997\n",
            "Epoch 25/30\n",
            "50/50 [==============================] - 0s 3ms/step - loss: 0.4950 - accuracy: 0.7997\n",
            "Epoch 26/30\n",
            "50/50 [==============================] - 0s 2ms/step - loss: 0.4937 - accuracy: 0.7997\n",
            "Epoch 27/30\n",
            "50/50 [==============================] - 0s 3ms/step - loss: 0.4954 - accuracy: 0.7997\n",
            "Epoch 28/30\n",
            "50/50 [==============================] - 0s 2ms/step - loss: 0.4931 - accuracy: 0.7997\n",
            "Epoch 29/30\n",
            "50/50 [==============================] - 0s 2ms/step - loss: 0.4929 - accuracy: 0.7997\n",
            "Epoch 30/30\n",
            "50/50 [==============================] - 0s 2ms/step - loss: 0.4927 - accuracy: 0.7997\n",
            "13/13 [==============================] - 0s 2ms/step - loss: 0.5206 - accuracy: 0.7825\n",
            "Epoch 1/30\n",
            "50/50 [==============================] - 1s 2ms/step - loss: 3.1573 - accuracy: 0.7953\n",
            "Epoch 2/30\n",
            "50/50 [==============================] - 0s 3ms/step - loss: 3.1573 - accuracy: 0.7953\n",
            "Epoch 3/30\n",
            "50/50 [==============================] - 0s 2ms/step - loss: 3.1573 - accuracy: 0.7953\n",
            "Epoch 4/30\n",
            "50/50 [==============================] - 0s 3ms/step - loss: 3.1573 - accuracy: 0.7953\n",
            "Epoch 5/30\n",
            "50/50 [==============================] - 0s 2ms/step - loss: 3.1573 - accuracy: 0.7953\n",
            "Epoch 6/30\n",
            "50/50 [==============================] - 0s 2ms/step - loss: 3.1573 - accuracy: 0.7953\n",
            "Epoch 7/30\n",
            "50/50 [==============================] - 0s 2ms/step - loss: 3.1573 - accuracy: 0.7953\n",
            "Epoch 8/30\n",
            "50/50 [==============================] - 0s 3ms/step - loss: 3.1573 - accuracy: 0.7953\n",
            "Epoch 9/30\n",
            "50/50 [==============================] - 0s 2ms/step - loss: 3.1573 - accuracy: 0.7953\n",
            "Epoch 10/30\n",
            "50/50 [==============================] - 0s 3ms/step - loss: 3.1573 - accuracy: 0.7953\n",
            "Epoch 11/30\n",
            "50/50 [==============================] - 0s 2ms/step - loss: 3.1573 - accuracy: 0.7953\n",
            "Epoch 12/30\n",
            "50/50 [==============================] - 0s 3ms/step - loss: 3.1573 - accuracy: 0.7953\n",
            "Epoch 13/30\n",
            "50/50 [==============================] - 0s 3ms/step - loss: 3.1573 - accuracy: 0.7953\n",
            "Epoch 14/30\n",
            "50/50 [==============================] - 0s 3ms/step - loss: 3.1573 - accuracy: 0.7953\n",
            "Epoch 15/30\n",
            "50/50 [==============================] - 0s 3ms/step - loss: 3.1573 - accuracy: 0.7953\n",
            "Epoch 16/30\n",
            "50/50 [==============================] - 0s 2ms/step - loss: 3.1573 - accuracy: 0.7953\n",
            "Epoch 17/30\n",
            "50/50 [==============================] - 0s 3ms/step - loss: 3.1573 - accuracy: 0.7953\n",
            "Epoch 18/30\n",
            "50/50 [==============================] - 0s 2ms/step - loss: 3.1573 - accuracy: 0.7953\n",
            "Epoch 19/30\n",
            "50/50 [==============================] - 0s 2ms/step - loss: 3.1573 - accuracy: 0.7953\n",
            "Epoch 20/30\n",
            "50/50 [==============================] - 0s 2ms/step - loss: 3.1573 - accuracy: 0.7953\n",
            "Epoch 21/30\n",
            "50/50 [==============================] - 0s 3ms/step - loss: 3.1573 - accuracy: 0.7953\n",
            "Epoch 22/30\n",
            "50/50 [==============================] - 0s 2ms/step - loss: 3.1573 - accuracy: 0.7953\n",
            "Epoch 23/30\n",
            "50/50 [==============================] - 0s 2ms/step - loss: 3.1573 - accuracy: 0.7953\n",
            "Epoch 24/30\n",
            "50/50 [==============================] - 0s 3ms/step - loss: 3.1573 - accuracy: 0.7953\n",
            "Epoch 25/30\n",
            "50/50 [==============================] - 0s 2ms/step - loss: 3.1573 - accuracy: 0.7953\n",
            "Epoch 26/30\n",
            "50/50 [==============================] - 0s 2ms/step - loss: 3.1573 - accuracy: 0.7953\n",
            "Epoch 27/30\n",
            "50/50 [==============================] - 0s 2ms/step - loss: 3.1573 - accuracy: 0.7953\n",
            "Epoch 28/30\n",
            "50/50 [==============================] - 0s 3ms/step - loss: 3.1573 - accuracy: 0.7953\n",
            "Epoch 29/30\n",
            "50/50 [==============================] - 0s 3ms/step - loss: 3.1573 - accuracy: 0.7953\n",
            "Epoch 30/30\n",
            "50/50 [==============================] - 0s 2ms/step - loss: 3.1573 - accuracy: 0.7953\n",
            "13/13 [==============================] - 0s 2ms/step - loss: 3.0850 - accuracy: 0.8000\n",
            "Epoch 1/30\n",
            "25/25 [==============================] - 0s 2ms/step - loss: 3.0802 - accuracy: 0.8003\n",
            "Epoch 2/30\n",
            "25/25 [==============================] - 0s 2ms/step - loss: 3.0802 - accuracy: 0.8003\n",
            "Epoch 3/30\n",
            "25/25 [==============================] - 0s 2ms/step - loss: 3.0802 - accuracy: 0.8003\n",
            "Epoch 4/30\n",
            "25/25 [==============================] - 0s 2ms/step - loss: 3.0802 - accuracy: 0.8003\n",
            "Epoch 5/30\n",
            "25/25 [==============================] - 0s 2ms/step - loss: 3.0802 - accuracy: 0.8003\n",
            "Epoch 6/30\n",
            "25/25 [==============================] - 0s 2ms/step - loss: 3.0802 - accuracy: 0.8003\n",
            "Epoch 7/30\n",
            "25/25 [==============================] - 0s 2ms/step - loss: 3.0802 - accuracy: 0.8003\n",
            "Epoch 8/30\n",
            "25/25 [==============================] - 0s 2ms/step - loss: 3.0802 - accuracy: 0.8003\n",
            "Epoch 9/30\n",
            "25/25 [==============================] - 0s 2ms/step - loss: 3.0802 - accuracy: 0.8003\n",
            "Epoch 10/30\n",
            "25/25 [==============================] - 0s 2ms/step - loss: 3.0802 - accuracy: 0.8003\n",
            "Epoch 11/30\n",
            "25/25 [==============================] - 0s 2ms/step - loss: 3.0802 - accuracy: 0.8003\n",
            "Epoch 12/30\n",
            "25/25 [==============================] - 0s 2ms/step - loss: 3.0802 - accuracy: 0.8003\n",
            "Epoch 13/30\n",
            "25/25 [==============================] - 0s 2ms/step - loss: 3.0802 - accuracy: 0.8003\n",
            "Epoch 14/30\n",
            "25/25 [==============================] - 0s 2ms/step - loss: 3.0802 - accuracy: 0.8003\n",
            "Epoch 15/30\n",
            "25/25 [==============================] - 0s 2ms/step - loss: 3.0802 - accuracy: 0.8003\n",
            "Epoch 16/30\n",
            "25/25 [==============================] - 0s 2ms/step - loss: 3.0802 - accuracy: 0.8003\n",
            "Epoch 17/30\n",
            "25/25 [==============================] - 0s 2ms/step - loss: 3.0802 - accuracy: 0.8003\n",
            "Epoch 18/30\n",
            "25/25 [==============================] - 0s 2ms/step - loss: 3.0802 - accuracy: 0.8003\n",
            "Epoch 19/30\n",
            "25/25 [==============================] - 0s 2ms/step - loss: 3.0802 - accuracy: 0.8003\n",
            "Epoch 20/30\n",
            "25/25 [==============================] - 0s 2ms/step - loss: 3.0802 - accuracy: 0.8003\n",
            "Epoch 21/30\n",
            "25/25 [==============================] - 0s 2ms/step - loss: 3.0802 - accuracy: 0.8003\n",
            "Epoch 22/30\n",
            "25/25 [==============================] - 0s 2ms/step - loss: 3.0802 - accuracy: 0.8003\n",
            "Epoch 23/30\n",
            "25/25 [==============================] - 0s 2ms/step - loss: 3.0802 - accuracy: 0.8003\n",
            "Epoch 24/30\n",
            "25/25 [==============================] - 0s 2ms/step - loss: 3.0802 - accuracy: 0.8003\n",
            "Epoch 25/30\n",
            "25/25 [==============================] - 0s 2ms/step - loss: 3.0802 - accuracy: 0.8003\n",
            "Epoch 26/30\n",
            "25/25 [==============================] - 0s 2ms/step - loss: 3.0802 - accuracy: 0.8003\n",
            "Epoch 27/30\n",
            "25/25 [==============================] - 0s 2ms/step - loss: 3.0802 - accuracy: 0.8003\n",
            "Epoch 28/30\n",
            "25/25 [==============================] - 0s 2ms/step - loss: 3.0802 - accuracy: 0.8003\n",
            "Epoch 29/30\n",
            "25/25 [==============================] - 0s 3ms/step - loss: 3.0802 - accuracy: 0.8003\n",
            "Epoch 30/30\n",
            "25/25 [==============================] - 0s 2ms/step - loss: 3.0802 - accuracy: 0.8003\n",
            "7/7 [==============================] - 0s 3ms/step - loss: 3.3935 - accuracy: 0.7800\n",
            "Epoch 1/30\n",
            "25/25 [==============================] - 0s 2ms/step - loss: 0.5153 - accuracy: 0.7928\n",
            "Epoch 2/30\n",
            "25/25 [==============================] - 0s 2ms/step - loss: 0.5052 - accuracy: 0.7928\n",
            "Epoch 3/30\n",
            "25/25 [==============================] - 0s 3ms/step - loss: 0.5046 - accuracy: 0.7928\n",
            "Epoch 4/30\n",
            "25/25 [==============================] - 0s 2ms/step - loss: 0.5047 - accuracy: 0.7928\n",
            "Epoch 5/30\n",
            "25/25 [==============================] - 0s 3ms/step - loss: 0.5045 - accuracy: 0.7928\n",
            "Epoch 6/30\n",
            "25/25 [==============================] - 0s 2ms/step - loss: 0.5042 - accuracy: 0.7928\n",
            "Epoch 7/30\n",
            "25/25 [==============================] - 0s 2ms/step - loss: 0.5040 - accuracy: 0.7928\n",
            "Epoch 8/30\n",
            "25/25 [==============================] - 0s 2ms/step - loss: 0.5046 - accuracy: 0.7928\n",
            "Epoch 9/30\n",
            "25/25 [==============================] - 0s 2ms/step - loss: 0.5041 - accuracy: 0.7928\n",
            "Epoch 10/30\n",
            "25/25 [==============================] - 0s 2ms/step - loss: 0.5042 - accuracy: 0.7928\n",
            "Epoch 11/30\n",
            "25/25 [==============================] - 0s 2ms/step - loss: 0.5038 - accuracy: 0.7928\n",
            "Epoch 12/30\n",
            "25/25 [==============================] - 0s 2ms/step - loss: 0.5037 - accuracy: 0.7928\n",
            "Epoch 13/30\n",
            "25/25 [==============================] - 0s 3ms/step - loss: 0.5040 - accuracy: 0.7928\n",
            "Epoch 14/30\n",
            "25/25 [==============================] - 0s 2ms/step - loss: 0.5037 - accuracy: 0.7928\n",
            "Epoch 15/30\n",
            "25/25 [==============================] - 0s 2ms/step - loss: 0.5037 - accuracy: 0.7928\n",
            "Epoch 16/30\n",
            "25/25 [==============================] - 0s 2ms/step - loss: 0.5036 - accuracy: 0.7928\n",
            "Epoch 17/30\n",
            "25/25 [==============================] - 0s 3ms/step - loss: 0.5037 - accuracy: 0.7928\n",
            "Epoch 18/30\n",
            "25/25 [==============================] - 0s 2ms/step - loss: 0.5036 - accuracy: 0.7928\n",
            "Epoch 19/30\n",
            "25/25 [==============================] - 0s 2ms/step - loss: 0.5036 - accuracy: 0.7928\n",
            "Epoch 20/30\n",
            "25/25 [==============================] - 0s 2ms/step - loss: 0.5041 - accuracy: 0.7928\n",
            "Epoch 21/30\n",
            "25/25 [==============================] - 0s 2ms/step - loss: 0.5038 - accuracy: 0.7928\n",
            "Epoch 22/30\n",
            "25/25 [==============================] - 0s 2ms/step - loss: 0.5041 - accuracy: 0.7928\n",
            "Epoch 23/30\n",
            "25/25 [==============================] - 0s 3ms/step - loss: 0.5039 - accuracy: 0.7928\n",
            "Epoch 24/30\n",
            "25/25 [==============================] - 0s 2ms/step - loss: 0.5035 - accuracy: 0.7928\n",
            "Epoch 25/30\n",
            "25/25 [==============================] - 0s 2ms/step - loss: 0.5039 - accuracy: 0.7928\n",
            "Epoch 26/30\n",
            "25/25 [==============================] - 0s 2ms/step - loss: 0.5036 - accuracy: 0.7928\n",
            "Epoch 27/30\n",
            "25/25 [==============================] - 0s 2ms/step - loss: 0.5038 - accuracy: 0.7928\n",
            "Epoch 28/30\n",
            "25/25 [==============================] - 0s 2ms/step - loss: 0.5036 - accuracy: 0.7928\n",
            "Epoch 29/30\n",
            "25/25 [==============================] - 0s 2ms/step - loss: 0.5036 - accuracy: 0.7928\n",
            "Epoch 30/30\n",
            "25/25 [==============================] - 0s 2ms/step - loss: 0.5038 - accuracy: 0.7928\n",
            "7/7 [==============================] - 0s 3ms/step - loss: 0.4753 - accuracy: 0.8100\n",
            "Epoch 1/30\n",
            "25/25 [==============================] - 0s 2ms/step - loss: 0.5137 - accuracy: 0.7931\n",
            "Epoch 2/30\n",
            "25/25 [==============================] - 0s 2ms/step - loss: 0.5076 - accuracy: 0.7931\n",
            "Epoch 3/30\n",
            "25/25 [==============================] - 0s 2ms/step - loss: 0.5064 - accuracy: 0.7931\n",
            "Epoch 4/30\n",
            "25/25 [==============================] - 0s 2ms/step - loss: 0.5055 - accuracy: 0.7931\n",
            "Epoch 5/30\n",
            "25/25 [==============================] - 0s 2ms/step - loss: 0.5047 - accuracy: 0.7931\n",
            "Epoch 6/30\n",
            "25/25 [==============================] - 0s 2ms/step - loss: 0.5039 - accuracy: 0.7931\n",
            "Epoch 7/30\n",
            "25/25 [==============================] - 0s 2ms/step - loss: 0.5034 - accuracy: 0.7931\n",
            "Epoch 8/30\n",
            "25/25 [==============================] - 0s 3ms/step - loss: 0.5028 - accuracy: 0.7931\n",
            "Epoch 9/30\n",
            "25/25 [==============================] - 0s 3ms/step - loss: 0.5025 - accuracy: 0.7931\n",
            "Epoch 10/30\n",
            "25/25 [==============================] - 0s 2ms/step - loss: 0.5025 - accuracy: 0.7931\n",
            "Epoch 11/30\n",
            "25/25 [==============================] - 0s 2ms/step - loss: 0.5020 - accuracy: 0.7931\n",
            "Epoch 12/30\n",
            "25/25 [==============================] - 0s 3ms/step - loss: 0.5018 - accuracy: 0.7931\n",
            "Epoch 13/30\n",
            "25/25 [==============================] - 0s 2ms/step - loss: 0.5024 - accuracy: 0.7931\n",
            "Epoch 14/30\n",
            "25/25 [==============================] - 0s 2ms/step - loss: 0.5017 - accuracy: 0.7931\n",
            "Epoch 15/30\n",
            "25/25 [==============================] - 0s 3ms/step - loss: 0.5018 - accuracy: 0.7931\n",
            "Epoch 16/30\n",
            "25/25 [==============================] - 0s 3ms/step - loss: 0.5021 - accuracy: 0.7931\n",
            "Epoch 17/30\n",
            "25/25 [==============================] - 0s 2ms/step - loss: 0.5016 - accuracy: 0.7931\n",
            "Epoch 18/30\n",
            "25/25 [==============================] - 0s 2ms/step - loss: 0.5015 - accuracy: 0.7931\n",
            "Epoch 19/30\n",
            "25/25 [==============================] - 0s 2ms/step - loss: 0.5015 - accuracy: 0.7931\n",
            "Epoch 20/30\n",
            "25/25 [==============================] - 0s 3ms/step - loss: 0.5014 - accuracy: 0.7931\n",
            "Epoch 21/30\n",
            "25/25 [==============================] - 0s 3ms/step - loss: 0.5015 - accuracy: 0.7931\n",
            "Epoch 22/30\n",
            "25/25 [==============================] - 0s 3ms/step - loss: 0.5009 - accuracy: 0.7931\n",
            "Epoch 23/30\n",
            "25/25 [==============================] - 0s 2ms/step - loss: 0.5020 - accuracy: 0.7931\n",
            "Epoch 24/30\n",
            "25/25 [==============================] - 0s 2ms/step - loss: 0.5017 - accuracy: 0.7931\n",
            "Epoch 25/30\n",
            "25/25 [==============================] - 0s 3ms/step - loss: 0.5015 - accuracy: 0.7931\n",
            "Epoch 26/30\n",
            "25/25 [==============================] - 0s 3ms/step - loss: 0.5015 - accuracy: 0.7931\n",
            "Epoch 27/30\n",
            "25/25 [==============================] - 0s 2ms/step - loss: 0.5015 - accuracy: 0.7931\n",
            "Epoch 28/30\n",
            "25/25 [==============================] - 0s 2ms/step - loss: 0.5015 - accuracy: 0.7931\n",
            "Epoch 29/30\n",
            "25/25 [==============================] - 0s 2ms/step - loss: 0.5014 - accuracy: 0.7931\n",
            "Epoch 30/30\n",
            "25/25 [==============================] - 0s 2ms/step - loss: 0.5016 - accuracy: 0.7931\n",
            "7/7 [==============================] - 0s 4ms/step - loss: 0.4849 - accuracy: 0.8087\n",
            "Epoch 1/30\n",
            "25/25 [==============================] - 0s 2ms/step - loss: 12.1946 - accuracy: 0.2003\n",
            "Epoch 2/30\n",
            "25/25 [==============================] - 0s 2ms/step - loss: 12.1946 - accuracy: 0.2003\n",
            "Epoch 3/30\n",
            "25/25 [==============================] - 0s 2ms/step - loss: 12.1946 - accuracy: 0.2003\n",
            "Epoch 4/30\n",
            "25/25 [==============================] - 0s 2ms/step - loss: 12.1946 - accuracy: 0.2003\n",
            "Epoch 5/30\n",
            "25/25 [==============================] - 0s 3ms/step - loss: 12.1946 - accuracy: 0.2003\n",
            "Epoch 6/30\n",
            "25/25 [==============================] - 0s 3ms/step - loss: 12.1946 - accuracy: 0.2003\n",
            "Epoch 7/30\n",
            "25/25 [==============================] - 0s 2ms/step - loss: 12.1946 - accuracy: 0.2003\n",
            "Epoch 8/30\n",
            "25/25 [==============================] - 0s 2ms/step - loss: 12.1946 - accuracy: 0.2003\n",
            "Epoch 9/30\n",
            "25/25 [==============================] - 0s 2ms/step - loss: 12.1946 - accuracy: 0.2003\n",
            "Epoch 10/30\n",
            "25/25 [==============================] - 0s 2ms/step - loss: 12.1946 - accuracy: 0.2003\n",
            "Epoch 11/30\n",
            "25/25 [==============================] - 0s 2ms/step - loss: 12.1946 - accuracy: 0.2003\n",
            "Epoch 12/30\n",
            "25/25 [==============================] - 0s 3ms/step - loss: 12.1946 - accuracy: 0.2003\n",
            "Epoch 13/30\n",
            "25/25 [==============================] - 0s 3ms/step - loss: 12.1946 - accuracy: 0.2003\n",
            "Epoch 14/30\n",
            "25/25 [==============================] - 0s 2ms/step - loss: 12.1946 - accuracy: 0.2003\n",
            "Epoch 15/30\n",
            "25/25 [==============================] - 0s 2ms/step - loss: 12.1946 - accuracy: 0.2003\n",
            "Epoch 16/30\n",
            "25/25 [==============================] - 0s 3ms/step - loss: 12.1946 - accuracy: 0.2003\n",
            "Epoch 17/30\n",
            "25/25 [==============================] - 0s 2ms/step - loss: 12.1946 - accuracy: 0.2003\n",
            "Epoch 18/30\n",
            "25/25 [==============================] - 0s 2ms/step - loss: 12.1946 - accuracy: 0.2003\n",
            "Epoch 19/30\n",
            "25/25 [==============================] - 0s 2ms/step - loss: 12.1946 - accuracy: 0.2003\n",
            "Epoch 20/30\n",
            "25/25 [==============================] - 0s 3ms/step - loss: 12.1946 - accuracy: 0.2003\n",
            "Epoch 21/30\n",
            "25/25 [==============================] - 0s 3ms/step - loss: 12.1946 - accuracy: 0.2003\n",
            "Epoch 22/30\n",
            "25/25 [==============================] - 0s 3ms/step - loss: 12.1946 - accuracy: 0.2003\n",
            "Epoch 23/30\n",
            "25/25 [==============================] - 0s 2ms/step - loss: 12.1946 - accuracy: 0.2003\n",
            "Epoch 24/30\n",
            "25/25 [==============================] - 0s 2ms/step - loss: 12.1946 - accuracy: 0.2003\n",
            "Epoch 25/30\n",
            "25/25 [==============================] - 0s 3ms/step - loss: 12.1946 - accuracy: 0.2003\n",
            "Epoch 26/30\n",
            "25/25 [==============================] - 0s 2ms/step - loss: 12.1946 - accuracy: 0.2003\n",
            "Epoch 27/30\n",
            "25/25 [==============================] - 0s 3ms/step - loss: 12.1946 - accuracy: 0.2003\n",
            "Epoch 28/30\n",
            "25/25 [==============================] - 0s 2ms/step - loss: 12.1946 - accuracy: 0.2003\n",
            "Epoch 29/30\n",
            "25/25 [==============================] - 0s 2ms/step - loss: 12.1946 - accuracy: 0.2003\n",
            "Epoch 30/30\n",
            "25/25 [==============================] - 0s 2ms/step - loss: 12.1946 - accuracy: 0.2003\n",
            "7/7 [==============================] - 0s 3ms/step - loss: 11.9325 - accuracy: 0.2175\n",
            "Epoch 1/30\n",
            "25/25 [==============================] - 0s 2ms/step - loss: 3.1573 - accuracy: 0.7953\n",
            "Epoch 2/30\n",
            "25/25 [==============================] - 0s 2ms/step - loss: 3.1573 - accuracy: 0.7953\n",
            "Epoch 3/30\n",
            "25/25 [==============================] - 0s 2ms/step - loss: 3.1573 - accuracy: 0.7953\n",
            "Epoch 4/30\n",
            "25/25 [==============================] - 0s 2ms/step - loss: 3.1573 - accuracy: 0.7953\n",
            "Epoch 5/30\n",
            "25/25 [==============================] - 0s 3ms/step - loss: 3.1573 - accuracy: 0.7953\n",
            "Epoch 6/30\n",
            "25/25 [==============================] - 0s 2ms/step - loss: 3.1573 - accuracy: 0.7953\n",
            "Epoch 7/30\n",
            "25/25 [==============================] - 0s 2ms/step - loss: 3.1573 - accuracy: 0.7953\n",
            "Epoch 8/30\n",
            "25/25 [==============================] - 0s 3ms/step - loss: 3.1573 - accuracy: 0.7953\n",
            "Epoch 9/30\n",
            "25/25 [==============================] - 0s 2ms/step - loss: 3.1573 - accuracy: 0.7953\n",
            "Epoch 10/30\n",
            "25/25 [==============================] - 0s 3ms/step - loss: 3.1573 - accuracy: 0.7953\n",
            "Epoch 11/30\n",
            "25/25 [==============================] - 0s 2ms/step - loss: 3.1573 - accuracy: 0.7953\n",
            "Epoch 12/30\n",
            "25/25 [==============================] - 0s 2ms/step - loss: 3.1573 - accuracy: 0.7953\n",
            "Epoch 13/30\n",
            "25/25 [==============================] - 0s 2ms/step - loss: 3.1573 - accuracy: 0.7953\n",
            "Epoch 14/30\n",
            "25/25 [==============================] - 0s 2ms/step - loss: 3.1573 - accuracy: 0.7953\n",
            "Epoch 15/30\n",
            "25/25 [==============================] - 0s 2ms/step - loss: 3.1573 - accuracy: 0.7953\n",
            "Epoch 16/30\n",
            "25/25 [==============================] - 0s 2ms/step - loss: 3.1573 - accuracy: 0.7953\n",
            "Epoch 17/30\n",
            "25/25 [==============================] - 0s 2ms/step - loss: 3.1573 - accuracy: 0.7953\n",
            "Epoch 18/30\n",
            "25/25 [==============================] - 0s 2ms/step - loss: 3.1573 - accuracy: 0.7953\n",
            "Epoch 19/30\n",
            "25/25 [==============================] - 0s 2ms/step - loss: 3.1573 - accuracy: 0.7953\n",
            "Epoch 20/30\n",
            "25/25 [==============================] - 0s 2ms/step - loss: 3.1573 - accuracy: 0.7953\n",
            "Epoch 21/30\n",
            "25/25 [==============================] - 0s 2ms/step - loss: 3.1573 - accuracy: 0.7953\n",
            "Epoch 22/30\n",
            "25/25 [==============================] - 0s 2ms/step - loss: 3.1573 - accuracy: 0.7953\n",
            "Epoch 23/30\n",
            "25/25 [==============================] - 0s 3ms/step - loss: 3.1573 - accuracy: 0.7953\n",
            "Epoch 24/30\n",
            "25/25 [==============================] - 0s 3ms/step - loss: 3.1573 - accuracy: 0.7953\n",
            "Epoch 25/30\n",
            "25/25 [==============================] - 0s 2ms/step - loss: 3.1573 - accuracy: 0.7953\n",
            "Epoch 26/30\n",
            "25/25 [==============================] - 0s 3ms/step - loss: 3.1573 - accuracy: 0.7953\n",
            "Epoch 27/30\n",
            "25/25 [==============================] - 0s 2ms/step - loss: 3.1573 - accuracy: 0.7953\n",
            "Epoch 28/30\n",
            "25/25 [==============================] - 0s 2ms/step - loss: 3.1573 - accuracy: 0.7953\n",
            "Epoch 29/30\n",
            "25/25 [==============================] - 0s 2ms/step - loss: 3.1573 - accuracy: 0.7953\n",
            "Epoch 30/30\n",
            "25/25 [==============================] - 0s 2ms/step - loss: 3.1573 - accuracy: 0.7953\n",
            "7/7 [==============================] - 0s 3ms/step - loss: 3.0850 - accuracy: 0.8000\n",
            "Epoch 1/30\n",
            "25/25 [==============================] - 0s 3ms/step - loss: 12.2042 - accuracy: 0.1997\n",
            "Epoch 2/30\n",
            "25/25 [==============================] - 0s 2ms/step - loss: 12.2042 - accuracy: 0.1997\n",
            "Epoch 3/30\n",
            "25/25 [==============================] - 0s 2ms/step - loss: 12.2042 - accuracy: 0.1997\n",
            "Epoch 4/30\n",
            "25/25 [==============================] - 0s 3ms/step - loss: 12.2042 - accuracy: 0.1997\n",
            "Epoch 5/30\n",
            "25/25 [==============================] - 0s 3ms/step - loss: 12.2042 - accuracy: 0.1997\n",
            "Epoch 6/30\n",
            "25/25 [==============================] - 0s 3ms/step - loss: 12.2042 - accuracy: 0.1997\n",
            "Epoch 7/30\n",
            "25/25 [==============================] - 0s 3ms/step - loss: 12.2042 - accuracy: 0.1997\n",
            "Epoch 8/30\n",
            "25/25 [==============================] - 0s 3ms/step - loss: 12.2042 - accuracy: 0.1997\n",
            "Epoch 9/30\n",
            "25/25 [==============================] - 0s 3ms/step - loss: 12.2042 - accuracy: 0.1997\n",
            "Epoch 10/30\n",
            "25/25 [==============================] - 0s 2ms/step - loss: 12.2042 - accuracy: 0.1997\n",
            "Epoch 11/30\n",
            "25/25 [==============================] - 0s 2ms/step - loss: 12.2042 - accuracy: 0.1997\n",
            "Epoch 12/30\n",
            "25/25 [==============================] - 0s 3ms/step - loss: 12.2042 - accuracy: 0.1997\n",
            "Epoch 13/30\n",
            "25/25 [==============================] - 0s 3ms/step - loss: 12.2042 - accuracy: 0.1997\n",
            "Epoch 14/30\n",
            "25/25 [==============================] - 0s 3ms/step - loss: 12.2042 - accuracy: 0.1997\n",
            "Epoch 15/30\n",
            "25/25 [==============================] - 0s 3ms/step - loss: 12.2042 - accuracy: 0.1997\n",
            "Epoch 16/30\n",
            "25/25 [==============================] - 0s 3ms/step - loss: 12.2042 - accuracy: 0.1997\n",
            "Epoch 17/30\n",
            "25/25 [==============================] - 0s 3ms/step - loss: 12.2042 - accuracy: 0.1997\n",
            "Epoch 18/30\n",
            "25/25 [==============================] - 0s 3ms/step - loss: 12.2042 - accuracy: 0.1997\n",
            "Epoch 19/30\n",
            "25/25 [==============================] - 0s 3ms/step - loss: 12.2042 - accuracy: 0.1997\n",
            "Epoch 20/30\n",
            "25/25 [==============================] - 0s 3ms/step - loss: 12.2042 - accuracy: 0.1997\n",
            "Epoch 21/30\n",
            "25/25 [==============================] - 0s 3ms/step - loss: 12.2042 - accuracy: 0.1997\n",
            "Epoch 22/30\n",
            "25/25 [==============================] - 0s 3ms/step - loss: 12.2042 - accuracy: 0.1997\n",
            "Epoch 23/30\n",
            "25/25 [==============================] - 0s 2ms/step - loss: 12.2042 - accuracy: 0.1997\n",
            "Epoch 24/30\n",
            "25/25 [==============================] - 0s 2ms/step - loss: 12.2042 - accuracy: 0.1997\n",
            "Epoch 25/30\n",
            "25/25 [==============================] - 0s 3ms/step - loss: 12.2042 - accuracy: 0.1997\n",
            "Epoch 26/30\n",
            "25/25 [==============================] - 0s 3ms/step - loss: 12.2042 - accuracy: 0.1997\n",
            "Epoch 27/30\n",
            "25/25 [==============================] - 0s 3ms/step - loss: 12.2042 - accuracy: 0.1997\n",
            "Epoch 28/30\n",
            "25/25 [==============================] - 0s 3ms/step - loss: 12.2042 - accuracy: 0.1997\n",
            "Epoch 29/30\n",
            "25/25 [==============================] - 0s 3ms/step - loss: 12.2042 - accuracy: 0.1997\n",
            "Epoch 30/30\n",
            "25/25 [==============================] - 0s 2ms/step - loss: 12.2042 - accuracy: 0.1997\n",
            "7/7 [==============================] - 0s 3ms/step - loss: 11.8944 - accuracy: 0.2200\n",
            "Epoch 1/30\n",
            "25/25 [==============================] - 1s 2ms/step - loss: 3.1959 - accuracy: 0.7928\n",
            "Epoch 2/30\n",
            "25/25 [==============================] - 0s 2ms/step - loss: 3.1959 - accuracy: 0.7928\n",
            "Epoch 3/30\n",
            "25/25 [==============================] - 0s 2ms/step - loss: 3.1959 - accuracy: 0.7928\n",
            "Epoch 4/30\n",
            "25/25 [==============================] - 0s 3ms/step - loss: 3.1959 - accuracy: 0.7928\n",
            "Epoch 5/30\n",
            "25/25 [==============================] - 0s 2ms/step - loss: 3.1959 - accuracy: 0.7928\n",
            "Epoch 6/30\n",
            "25/25 [==============================] - 0s 2ms/step - loss: 3.1959 - accuracy: 0.7928\n",
            "Epoch 7/30\n",
            "25/25 [==============================] - 0s 2ms/step - loss: 3.1959 - accuracy: 0.7928\n",
            "Epoch 8/30\n",
            "25/25 [==============================] - 0s 2ms/step - loss: 3.1959 - accuracy: 0.7928\n",
            "Epoch 9/30\n",
            "25/25 [==============================] - 0s 3ms/step - loss: 3.1959 - accuracy: 0.7928\n",
            "Epoch 10/30\n",
            "25/25 [==============================] - 0s 3ms/step - loss: 3.1959 - accuracy: 0.7928\n",
            "Epoch 11/30\n",
            "25/25 [==============================] - 0s 3ms/step - loss: 3.1959 - accuracy: 0.7928\n",
            "Epoch 12/30\n",
            "25/25 [==============================] - 0s 3ms/step - loss: 3.1959 - accuracy: 0.7928\n",
            "Epoch 13/30\n",
            "25/25 [==============================] - 0s 3ms/step - loss: 3.1959 - accuracy: 0.7928\n",
            "Epoch 14/30\n",
            "25/25 [==============================] - 0s 3ms/step - loss: 3.1959 - accuracy: 0.7928\n",
            "Epoch 15/30\n",
            "25/25 [==============================] - 0s 3ms/step - loss: 3.1959 - accuracy: 0.7928\n",
            "Epoch 16/30\n",
            "25/25 [==============================] - 0s 3ms/step - loss: 3.1959 - accuracy: 0.7928\n",
            "Epoch 17/30\n",
            "25/25 [==============================] - 0s 3ms/step - loss: 3.1959 - accuracy: 0.7928\n",
            "Epoch 18/30\n",
            "25/25 [==============================] - 0s 2ms/step - loss: 3.1959 - accuracy: 0.7928\n",
            "Epoch 19/30\n",
            "25/25 [==============================] - 0s 2ms/step - loss: 3.1959 - accuracy: 0.7928\n",
            "Epoch 20/30\n",
            "25/25 [==============================] - 0s 3ms/step - loss: 3.1959 - accuracy: 0.7928\n",
            "Epoch 21/30\n",
            "25/25 [==============================] - 0s 3ms/step - loss: 3.1959 - accuracy: 0.7928\n",
            "Epoch 22/30\n",
            "25/25 [==============================] - 0s 3ms/step - loss: 3.1959 - accuracy: 0.7928\n",
            "Epoch 23/30\n",
            "25/25 [==============================] - 0s 3ms/step - loss: 3.1959 - accuracy: 0.7928\n",
            "Epoch 24/30\n",
            "25/25 [==============================] - 0s 3ms/step - loss: 3.1959 - accuracy: 0.7928\n",
            "Epoch 25/30\n",
            "25/25 [==============================] - 0s 3ms/step - loss: 3.1959 - accuracy: 0.7928\n",
            "Epoch 26/30\n",
            "25/25 [==============================] - 0s 3ms/step - loss: 3.1959 - accuracy: 0.7928\n",
            "Epoch 27/30\n",
            "25/25 [==============================] - 0s 3ms/step - loss: 3.1959 - accuracy: 0.7928\n",
            "Epoch 28/30\n",
            "25/25 [==============================] - 0s 2ms/step - loss: 3.1959 - accuracy: 0.7928\n",
            "Epoch 29/30\n",
            "25/25 [==============================] - 0s 3ms/step - loss: 3.1959 - accuracy: 0.7928\n",
            "Epoch 30/30\n",
            "25/25 [==============================] - 0s 2ms/step - loss: 3.1959 - accuracy: 0.7928\n",
            "7/7 [==============================] - 0s 3ms/step - loss: 2.9307 - accuracy: 0.8100\n",
            "Epoch 1/30\n",
            "25/25 [==============================] - 0s 2ms/step - loss: 0.7121 - accuracy: 0.5853\n",
            "Epoch 2/30\n",
            "25/25 [==============================] - 0s 3ms/step - loss: 0.5172 - accuracy: 0.7931\n",
            "Epoch 3/30\n",
            "25/25 [==============================] - 0s 3ms/step - loss: 0.5097 - accuracy: 0.7931\n",
            "Epoch 4/30\n",
            "25/25 [==============================] - 0s 3ms/step - loss: 0.5087 - accuracy: 0.7931\n",
            "Epoch 5/30\n",
            "25/25 [==============================] - 0s 3ms/step - loss: 0.5085 - accuracy: 0.7931\n",
            "Epoch 6/30\n",
            "25/25 [==============================] - 0s 2ms/step - loss: 0.5081 - accuracy: 0.7931\n",
            "Epoch 7/30\n",
            "25/25 [==============================] - 0s 3ms/step - loss: 0.5079 - accuracy: 0.7931\n",
            "Epoch 8/30\n",
            "25/25 [==============================] - 0s 3ms/step - loss: 0.5074 - accuracy: 0.7931\n",
            "Epoch 9/30\n",
            "25/25 [==============================] - 0s 3ms/step - loss: 0.5068 - accuracy: 0.7931\n",
            "Epoch 10/30\n",
            "25/25 [==============================] - 0s 3ms/step - loss: 0.5083 - accuracy: 0.7931\n",
            "Epoch 11/30\n",
            "25/25 [==============================] - 0s 3ms/step - loss: 0.5069 - accuracy: 0.7931\n",
            "Epoch 12/30\n",
            "25/25 [==============================] - 0s 3ms/step - loss: 0.5061 - accuracy: 0.7931\n",
            "Epoch 13/30\n",
            "25/25 [==============================] - 0s 2ms/step - loss: 0.5055 - accuracy: 0.7931\n",
            "Epoch 14/30\n",
            "25/25 [==============================] - 0s 3ms/step - loss: 0.5053 - accuracy: 0.7931\n",
            "Epoch 15/30\n",
            "25/25 [==============================] - 0s 3ms/step - loss: 0.5051 - accuracy: 0.7931\n",
            "Epoch 16/30\n",
            "25/25 [==============================] - 0s 3ms/step - loss: 0.5047 - accuracy: 0.7931\n",
            "Epoch 17/30\n",
            "25/25 [==============================] - 0s 3ms/step - loss: 0.5050 - accuracy: 0.7931\n",
            "Epoch 18/30\n",
            "25/25 [==============================] - 0s 3ms/step - loss: 0.5059 - accuracy: 0.7931\n",
            "Epoch 19/30\n",
            "25/25 [==============================] - 0s 3ms/step - loss: 0.5056 - accuracy: 0.7931\n",
            "Epoch 20/30\n",
            "25/25 [==============================] - 0s 2ms/step - loss: 0.5046 - accuracy: 0.7931\n",
            "Epoch 21/30\n",
            "25/25 [==============================] - 0s 3ms/step - loss: 0.5036 - accuracy: 0.7931\n",
            "Epoch 22/30\n",
            "25/25 [==============================] - 0s 3ms/step - loss: 0.5039 - accuracy: 0.7931\n",
            "Epoch 23/30\n",
            "25/25 [==============================] - 0s 2ms/step - loss: 0.5034 - accuracy: 0.7931\n",
            "Epoch 24/30\n",
            "25/25 [==============================] - 0s 3ms/step - loss: 0.5032 - accuracy: 0.7931\n",
            "Epoch 25/30\n",
            "25/25 [==============================] - 0s 3ms/step - loss: 0.5032 - accuracy: 0.7931\n",
            "Epoch 26/30\n",
            "25/25 [==============================] - 0s 2ms/step - loss: 0.5033 - accuracy: 0.7931\n",
            "Epoch 27/30\n",
            "25/25 [==============================] - 0s 3ms/step - loss: 0.5028 - accuracy: 0.7931\n",
            "Epoch 28/30\n",
            "25/25 [==============================] - 0s 2ms/step - loss: 0.5029 - accuracy: 0.7931\n",
            "Epoch 29/30\n",
            "25/25 [==============================] - 0s 3ms/step - loss: 0.5022 - accuracy: 0.7931\n",
            "Epoch 30/30\n",
            "25/25 [==============================] - 0s 2ms/step - loss: 0.5025 - accuracy: 0.7931\n",
            "7/7 [==============================] - 0s 3ms/step - loss: 0.4829 - accuracy: 0.8087\n",
            "Epoch 1/30\n",
            "25/25 [==============================] - 0s 2ms/step - loss: 0.5198 - accuracy: 0.7997\n",
            "Epoch 2/30\n",
            "25/25 [==============================] - 0s 3ms/step - loss: 0.5024 - accuracy: 0.7997\n",
            "Epoch 3/30\n",
            "25/25 [==============================] - 0s 3ms/step - loss: 0.5014 - accuracy: 0.7997\n",
            "Epoch 4/30\n",
            "25/25 [==============================] - 0s 3ms/step - loss: 0.5006 - accuracy: 0.7997\n",
            "Epoch 5/30\n",
            "25/25 [==============================] - 0s 3ms/step - loss: 0.4997 - accuracy: 0.7997\n",
            "Epoch 6/30\n",
            "25/25 [==============================] - 0s 3ms/step - loss: 0.4998 - accuracy: 0.7997\n",
            "Epoch 7/30\n",
            "25/25 [==============================] - 0s 3ms/step - loss: 0.4989 - accuracy: 0.7997\n",
            "Epoch 8/30\n",
            "25/25 [==============================] - 0s 3ms/step - loss: 0.4980 - accuracy: 0.7997\n",
            "Epoch 9/30\n",
            "25/25 [==============================] - 0s 3ms/step - loss: 0.4976 - accuracy: 0.7997\n",
            "Epoch 10/30\n",
            "25/25 [==============================] - 0s 3ms/step - loss: 0.4974 - accuracy: 0.7997\n",
            "Epoch 11/30\n",
            "25/25 [==============================] - 0s 4ms/step - loss: 0.4965 - accuracy: 0.7997\n",
            "Epoch 12/30\n",
            "25/25 [==============================] - 0s 3ms/step - loss: 0.4960 - accuracy: 0.7997\n",
            "Epoch 13/30\n",
            "25/25 [==============================] - 0s 3ms/step - loss: 0.4964 - accuracy: 0.7997\n",
            "Epoch 14/30\n",
            "25/25 [==============================] - 0s 3ms/step - loss: 0.4959 - accuracy: 0.7997\n",
            "Epoch 15/30\n",
            "25/25 [==============================] - 0s 3ms/step - loss: 0.4949 - accuracy: 0.7997\n",
            "Epoch 16/30\n",
            "25/25 [==============================] - 0s 3ms/step - loss: 0.4952 - accuracy: 0.7997\n",
            "Epoch 17/30\n",
            "25/25 [==============================] - 0s 3ms/step - loss: 0.4942 - accuracy: 0.7997\n",
            "Epoch 18/30\n",
            "25/25 [==============================] - 0s 3ms/step - loss: 0.4938 - accuracy: 0.7997\n",
            "Epoch 19/30\n",
            "25/25 [==============================] - 0s 3ms/step - loss: 0.4940 - accuracy: 0.7997\n",
            "Epoch 20/30\n",
            "25/25 [==============================] - 0s 3ms/step - loss: 0.4936 - accuracy: 0.7997\n",
            "Epoch 21/30\n",
            "25/25 [==============================] - 0s 3ms/step - loss: 0.4938 - accuracy: 0.7997\n",
            "Epoch 22/30\n",
            "25/25 [==============================] - 0s 3ms/step - loss: 0.4985 - accuracy: 0.7997\n",
            "Epoch 23/30\n",
            "25/25 [==============================] - 0s 3ms/step - loss: 0.4944 - accuracy: 0.7997\n",
            "Epoch 24/30\n",
            "25/25 [==============================] - 0s 3ms/step - loss: 0.4936 - accuracy: 0.7997\n",
            "Epoch 25/30\n",
            "25/25 [==============================] - 0s 3ms/step - loss: 0.4933 - accuracy: 0.7997\n",
            "Epoch 26/30\n",
            "25/25 [==============================] - 0s 3ms/step - loss: 0.4938 - accuracy: 0.7997\n",
            "Epoch 27/30\n",
            "25/25 [==============================] - 0s 4ms/step - loss: 0.4927 - accuracy: 0.7997\n",
            "Epoch 28/30\n",
            "25/25 [==============================] - 0s 3ms/step - loss: 0.4927 - accuracy: 0.7997\n",
            "Epoch 29/30\n",
            "25/25 [==============================] - 0s 3ms/step - loss: 0.4929 - accuracy: 0.7997\n",
            "Epoch 30/30\n",
            "25/25 [==============================] - 0s 2ms/step - loss: 0.4926 - accuracy: 0.7997\n",
            "7/7 [==============================] - 0s 3ms/step - loss: 0.5194 - accuracy: 0.7825\n",
            "Epoch 1/30\n",
            "25/25 [==============================] - 1s 3ms/step - loss: 0.5121 - accuracy: 0.7953\n",
            "Epoch 2/30\n",
            "25/25 [==============================] - 0s 3ms/step - loss: 0.5062 - accuracy: 0.7953\n",
            "Epoch 3/30\n",
            "25/25 [==============================] - 0s 3ms/step - loss: 0.5062 - accuracy: 0.7953\n",
            "Epoch 4/30\n",
            "25/25 [==============================] - 0s 3ms/step - loss: 0.5046 - accuracy: 0.7953\n",
            "Epoch 5/30\n",
            "25/25 [==============================] - 0s 2ms/step - loss: 0.5043 - accuracy: 0.7953\n",
            "Epoch 6/30\n",
            "25/25 [==============================] - 0s 3ms/step - loss: 0.5037 - accuracy: 0.7953\n",
            "Epoch 7/30\n",
            "25/25 [==============================] - 0s 3ms/step - loss: 0.5034 - accuracy: 0.7953\n",
            "Epoch 8/30\n",
            "25/25 [==============================] - 0s 3ms/step - loss: 0.5042 - accuracy: 0.7953\n",
            "Epoch 9/30\n",
            "25/25 [==============================] - 0s 3ms/step - loss: 0.5046 - accuracy: 0.7953\n",
            "Epoch 10/30\n",
            "25/25 [==============================] - 0s 3ms/step - loss: 0.5033 - accuracy: 0.7953\n",
            "Epoch 11/30\n",
            "25/25 [==============================] - 0s 2ms/step - loss: 0.5023 - accuracy: 0.7953\n",
            "Epoch 12/30\n",
            "25/25 [==============================] - 0s 3ms/step - loss: 0.5014 - accuracy: 0.7953\n",
            "Epoch 13/30\n",
            "25/25 [==============================] - 0s 3ms/step - loss: 0.5019 - accuracy: 0.7953\n",
            "Epoch 14/30\n",
            "25/25 [==============================] - 0s 3ms/step - loss: 0.5007 - accuracy: 0.7953\n",
            "Epoch 15/30\n",
            "25/25 [==============================] - 0s 3ms/step - loss: 0.5011 - accuracy: 0.7953\n",
            "Epoch 16/30\n",
            "25/25 [==============================] - 0s 2ms/step - loss: 0.5007 - accuracy: 0.7953\n",
            "Epoch 17/30\n",
            "25/25 [==============================] - 0s 4ms/step - loss: 0.5013 - accuracy: 0.7953\n",
            "Epoch 18/30\n",
            "25/25 [==============================] - 0s 2ms/step - loss: 0.5015 - accuracy: 0.7953\n",
            "Epoch 19/30\n",
            "25/25 [==============================] - 0s 3ms/step - loss: 0.5019 - accuracy: 0.7953\n",
            "Epoch 20/30\n",
            "25/25 [==============================] - 0s 3ms/step - loss: 0.5001 - accuracy: 0.7953\n",
            "Epoch 21/30\n",
            "25/25 [==============================] - 0s 2ms/step - loss: 0.5011 - accuracy: 0.7953\n",
            "Epoch 22/30\n",
            "25/25 [==============================] - 0s 2ms/step - loss: 0.4996 - accuracy: 0.7953\n",
            "Epoch 23/30\n",
            "25/25 [==============================] - 0s 3ms/step - loss: 0.5014 - accuracy: 0.7953\n",
            "Epoch 24/30\n",
            "25/25 [==============================] - 0s 3ms/step - loss: 0.5005 - accuracy: 0.7953\n",
            "Epoch 25/30\n",
            "25/25 [==============================] - 0s 3ms/step - loss: 0.5005 - accuracy: 0.7953\n",
            "Epoch 26/30\n",
            "25/25 [==============================] - 0s 3ms/step - loss: 0.5005 - accuracy: 0.7953\n",
            "Epoch 27/30\n",
            "25/25 [==============================] - 0s 3ms/step - loss: 0.5007 - accuracy: 0.7953\n",
            "Epoch 28/30\n",
            "25/25 [==============================] - 0s 2ms/step - loss: 0.4991 - accuracy: 0.7953\n",
            "Epoch 29/30\n",
            "25/25 [==============================] - 0s 3ms/step - loss: 0.4995 - accuracy: 0.7953\n",
            "Epoch 30/30\n",
            "25/25 [==============================] - 0s 3ms/step - loss: 0.5025 - accuracy: 0.7953\n",
            "7/7 [==============================] - 0s 3ms/step - loss: 0.4922 - accuracy: 0.8000\n",
            "Epoch 1/30\n",
            "25/25 [==============================] - 1s 4ms/step - loss: 3.0802 - accuracy: 0.8003\n",
            "Epoch 2/30\n",
            "25/25 [==============================] - 0s 3ms/step - loss: 3.0802 - accuracy: 0.8003\n",
            "Epoch 3/30\n",
            "25/25 [==============================] - 0s 3ms/step - loss: 3.0802 - accuracy: 0.8003\n",
            "Epoch 4/30\n",
            "25/25 [==============================] - 0s 3ms/step - loss: 3.0802 - accuracy: 0.8003\n",
            "Epoch 5/30\n",
            "25/25 [==============================] - 0s 3ms/step - loss: 3.0802 - accuracy: 0.8003\n",
            "Epoch 6/30\n",
            "25/25 [==============================] - 0s 4ms/step - loss: 3.0802 - accuracy: 0.8003\n",
            "Epoch 7/30\n",
            "25/25 [==============================] - 0s 3ms/step - loss: 3.0802 - accuracy: 0.8003\n",
            "Epoch 8/30\n",
            "25/25 [==============================] - 0s 3ms/step - loss: 3.0802 - accuracy: 0.8003\n",
            "Epoch 9/30\n",
            "25/25 [==============================] - 0s 3ms/step - loss: 3.0802 - accuracy: 0.8003\n",
            "Epoch 10/30\n",
            "25/25 [==============================] - 0s 3ms/step - loss: 3.0802 - accuracy: 0.8003\n",
            "Epoch 11/30\n",
            "25/25 [==============================] - 0s 4ms/step - loss: 3.0802 - accuracy: 0.8003\n",
            "Epoch 12/30\n",
            "25/25 [==============================] - 0s 3ms/step - loss: 3.0802 - accuracy: 0.8003\n",
            "Epoch 13/30\n",
            "25/25 [==============================] - 0s 3ms/step - loss: 3.0802 - accuracy: 0.8003\n",
            "Epoch 14/30\n",
            "25/25 [==============================] - 0s 3ms/step - loss: 3.0802 - accuracy: 0.8003\n",
            "Epoch 15/30\n",
            "25/25 [==============================] - 0s 3ms/step - loss: 3.0802 - accuracy: 0.8003\n",
            "Epoch 16/30\n",
            "25/25 [==============================] - 0s 3ms/step - loss: 3.0802 - accuracy: 0.8003\n",
            "Epoch 17/30\n",
            "25/25 [==============================] - 0s 3ms/step - loss: 3.0802 - accuracy: 0.8003\n",
            "Epoch 18/30\n",
            "25/25 [==============================] - 0s 3ms/step - loss: 3.0802 - accuracy: 0.8003\n",
            "Epoch 19/30\n",
            "25/25 [==============================] - 0s 4ms/step - loss: 3.0802 - accuracy: 0.8003\n",
            "Epoch 20/30\n",
            "25/25 [==============================] - 0s 3ms/step - loss: 3.0802 - accuracy: 0.8003\n",
            "Epoch 21/30\n",
            "25/25 [==============================] - 0s 3ms/step - loss: 3.0802 - accuracy: 0.8003\n",
            "Epoch 22/30\n",
            "25/25 [==============================] - 0s 3ms/step - loss: 3.0802 - accuracy: 0.8003\n",
            "Epoch 23/30\n",
            "25/25 [==============================] - 0s 3ms/step - loss: 3.0802 - accuracy: 0.8003\n",
            "Epoch 24/30\n",
            "25/25 [==============================] - 0s 3ms/step - loss: 3.0802 - accuracy: 0.8003\n",
            "Epoch 25/30\n",
            "25/25 [==============================] - 0s 3ms/step - loss: 3.0802 - accuracy: 0.8003\n",
            "Epoch 26/30\n",
            "25/25 [==============================] - 0s 3ms/step - loss: 3.0802 - accuracy: 0.8003\n",
            "Epoch 27/30\n",
            "25/25 [==============================] - 0s 3ms/step - loss: 3.0802 - accuracy: 0.8003\n",
            "Epoch 28/30\n",
            "25/25 [==============================] - 0s 3ms/step - loss: 3.0802 - accuracy: 0.8003\n",
            "Epoch 29/30\n",
            "25/25 [==============================] - 0s 3ms/step - loss: 3.0802 - accuracy: 0.8003\n",
            "Epoch 30/30\n",
            "25/25 [==============================] - 0s 3ms/step - loss: 3.0802 - accuracy: 0.8003\n",
            "7/7 [==============================] - 0s 3ms/step - loss: 3.3935 - accuracy: 0.7800\n",
            "Epoch 1/30\n",
            "25/25 [==============================] - 1s 3ms/step - loss: 0.6517 - accuracy: 0.7928\n",
            "Epoch 2/30\n",
            "25/25 [==============================] - 0s 3ms/step - loss: 0.5172 - accuracy: 0.7928\n",
            "Epoch 3/30\n",
            "25/25 [==============================] - 0s 3ms/step - loss: 0.5108 - accuracy: 0.7928\n",
            "Epoch 4/30\n",
            "25/25 [==============================] - 0s 3ms/step - loss: 0.5107 - accuracy: 0.7928\n",
            "Epoch 5/30\n",
            "25/25 [==============================] - 0s 3ms/step - loss: 0.5106 - accuracy: 0.7928\n",
            "Epoch 6/30\n",
            "25/25 [==============================] - 0s 3ms/step - loss: 0.5104 - accuracy: 0.7928\n",
            "Epoch 7/30\n",
            "25/25 [==============================] - 0s 3ms/step - loss: 0.5105 - accuracy: 0.7928\n",
            "Epoch 8/30\n",
            "25/25 [==============================] - 0s 3ms/step - loss: 0.5103 - accuracy: 0.7928\n",
            "Epoch 9/30\n",
            "25/25 [==============================] - 0s 3ms/step - loss: 0.5103 - accuracy: 0.7928\n",
            "Epoch 10/30\n",
            "25/25 [==============================] - 0s 3ms/step - loss: 0.5102 - accuracy: 0.7928\n",
            "Epoch 11/30\n",
            "25/25 [==============================] - 0s 3ms/step - loss: 0.5101 - accuracy: 0.7928\n",
            "Epoch 12/30\n",
            "25/25 [==============================] - 0s 3ms/step - loss: 0.5100 - accuracy: 0.7928\n",
            "Epoch 13/30\n",
            "25/25 [==============================] - 0s 3ms/step - loss: 0.5102 - accuracy: 0.7928\n",
            "Epoch 14/30\n",
            "25/25 [==============================] - 0s 3ms/step - loss: 0.5096 - accuracy: 0.7928\n",
            "Epoch 15/30\n",
            "25/25 [==============================] - 0s 3ms/step - loss: 0.5100 - accuracy: 0.7928\n",
            "Epoch 16/30\n",
            "25/25 [==============================] - 0s 3ms/step - loss: 0.5098 - accuracy: 0.7928\n",
            "Epoch 17/30\n",
            "25/25 [==============================] - 0s 3ms/step - loss: 0.5096 - accuracy: 0.7928\n",
            "Epoch 18/30\n",
            "25/25 [==============================] - 0s 3ms/step - loss: 0.5095 - accuracy: 0.7928\n",
            "Epoch 19/30\n",
            "25/25 [==============================] - 0s 3ms/step - loss: 0.5097 - accuracy: 0.7928\n",
            "Epoch 20/30\n",
            "25/25 [==============================] - 0s 3ms/step - loss: 0.5093 - accuracy: 0.7928\n",
            "Epoch 21/30\n",
            "25/25 [==============================] - 0s 3ms/step - loss: 0.5094 - accuracy: 0.7928\n",
            "Epoch 22/30\n",
            "25/25 [==============================] - 0s 3ms/step - loss: 0.5091 - accuracy: 0.7928\n",
            "Epoch 23/30\n",
            "25/25 [==============================] - 0s 3ms/step - loss: 0.5089 - accuracy: 0.7928\n",
            "Epoch 24/30\n",
            "25/25 [==============================] - 0s 4ms/step - loss: 0.5087 - accuracy: 0.7928\n",
            "Epoch 25/30\n",
            "25/25 [==============================] - 0s 3ms/step - loss: 0.5087 - accuracy: 0.7928\n",
            "Epoch 26/30\n",
            "25/25 [==============================] - 0s 3ms/step - loss: 0.5085 - accuracy: 0.7928\n",
            "Epoch 27/30\n",
            "25/25 [==============================] - 0s 3ms/step - loss: 0.5084 - accuracy: 0.7928\n",
            "Epoch 28/30\n",
            "25/25 [==============================] - 0s 3ms/step - loss: 0.5081 - accuracy: 0.7928\n",
            "Epoch 29/30\n",
            "25/25 [==============================] - 0s 3ms/step - loss: 0.5081 - accuracy: 0.7928\n",
            "Epoch 30/30\n",
            "25/25 [==============================] - 0s 3ms/step - loss: 0.5080 - accuracy: 0.7928\n",
            "7/7 [==============================] - 0s 3ms/step - loss: 0.4831 - accuracy: 0.8100\n",
            "Epoch 1/30\n",
            "25/25 [==============================] - 1s 3ms/step - loss: 3.1910 - accuracy: 0.7931\n",
            "Epoch 2/30\n",
            "25/25 [==============================] - 0s 3ms/step - loss: 3.1910 - accuracy: 0.7931\n",
            "Epoch 3/30\n",
            "25/25 [==============================] - 0s 3ms/step - loss: 3.1910 - accuracy: 0.7931\n",
            "Epoch 4/30\n",
            "25/25 [==============================] - 0s 4ms/step - loss: 3.1910 - accuracy: 0.7931\n",
            "Epoch 5/30\n",
            "25/25 [==============================] - 0s 3ms/step - loss: 3.1910 - accuracy: 0.7931\n",
            "Epoch 6/30\n",
            "25/25 [==============================] - 0s 4ms/step - loss: 3.1910 - accuracy: 0.7931\n",
            "Epoch 7/30\n",
            "25/25 [==============================] - 0s 3ms/step - loss: 3.1910 - accuracy: 0.7931\n",
            "Epoch 8/30\n",
            "25/25 [==============================] - 0s 3ms/step - loss: 3.1910 - accuracy: 0.7931\n",
            "Epoch 9/30\n",
            "25/25 [==============================] - 0s 3ms/step - loss: 3.1910 - accuracy: 0.7931\n",
            "Epoch 10/30\n",
            "25/25 [==============================] - 0s 3ms/step - loss: 3.1910 - accuracy: 0.7931\n",
            "Epoch 11/30\n",
            "25/25 [==============================] - 0s 3ms/step - loss: 3.1910 - accuracy: 0.7931\n",
            "Epoch 12/30\n",
            "25/25 [==============================] - 0s 3ms/step - loss: 3.1910 - accuracy: 0.7931\n",
            "Epoch 13/30\n",
            "25/25 [==============================] - 0s 4ms/step - loss: 3.1910 - accuracy: 0.7931\n",
            "Epoch 14/30\n",
            "25/25 [==============================] - 0s 3ms/step - loss: 3.1910 - accuracy: 0.7931\n",
            "Epoch 15/30\n",
            "25/25 [==============================] - 0s 4ms/step - loss: 3.1910 - accuracy: 0.7931\n",
            "Epoch 16/30\n",
            "25/25 [==============================] - 0s 3ms/step - loss: 3.1910 - accuracy: 0.7931\n",
            "Epoch 17/30\n",
            "25/25 [==============================] - 0s 3ms/step - loss: 3.1910 - accuracy: 0.7931\n",
            "Epoch 18/30\n",
            "25/25 [==============================] - 0s 3ms/step - loss: 3.1910 - accuracy: 0.7931\n",
            "Epoch 19/30\n",
            "25/25 [==============================] - 0s 4ms/step - loss: 3.1910 - accuracy: 0.7931\n",
            "Epoch 20/30\n",
            "25/25 [==============================] - 0s 3ms/step - loss: 3.1910 - accuracy: 0.7931\n",
            "Epoch 21/30\n",
            "25/25 [==============================] - 0s 3ms/step - loss: 3.1910 - accuracy: 0.7931\n",
            "Epoch 22/30\n",
            "25/25 [==============================] - 0s 3ms/step - loss: 3.1910 - accuracy: 0.7931\n",
            "Epoch 23/30\n",
            "25/25 [==============================] - 0s 3ms/step - loss: 3.1910 - accuracy: 0.7931\n",
            "Epoch 24/30\n",
            "25/25 [==============================] - 0s 3ms/step - loss: 3.1910 - accuracy: 0.7931\n",
            "Epoch 25/30\n",
            "25/25 [==============================] - 0s 3ms/step - loss: 3.1910 - accuracy: 0.7931\n",
            "Epoch 26/30\n",
            "25/25 [==============================] - 0s 4ms/step - loss: 3.1910 - accuracy: 0.7931\n",
            "Epoch 27/30\n",
            "25/25 [==============================] - 0s 3ms/step - loss: 3.1910 - accuracy: 0.7931\n",
            "Epoch 28/30\n",
            "25/25 [==============================] - 0s 3ms/step - loss: 3.1910 - accuracy: 0.7931\n",
            "Epoch 29/30\n",
            "25/25 [==============================] - 0s 3ms/step - loss: 3.1910 - accuracy: 0.7931\n",
            "Epoch 30/30\n",
            "25/25 [==============================] - 0s 3ms/step - loss: 3.1910 - accuracy: 0.7931\n",
            "7/7 [==============================] - 0s 3ms/step - loss: 2.9500 - accuracy: 0.8087\n",
            "Epoch 1/30\n",
            "25/25 [==============================] - 1s 3ms/step - loss: 0.5022 - accuracy: 0.7997\n",
            "Epoch 2/30\n",
            "25/25 [==============================] - 0s 3ms/step - loss: 0.5017 - accuracy: 0.7997\n",
            "Epoch 3/30\n",
            "25/25 [==============================] - 0s 3ms/step - loss: 0.5011 - accuracy: 0.7997\n",
            "Epoch 4/30\n",
            "25/25 [==============================] - 0s 3ms/step - loss: 0.5013 - accuracy: 0.7997\n",
            "Epoch 5/30\n",
            "25/25 [==============================] - 0s 3ms/step - loss: 0.5019 - accuracy: 0.7997\n",
            "Epoch 6/30\n",
            "25/25 [==============================] - 0s 3ms/step - loss: 0.5012 - accuracy: 0.7997\n",
            "Epoch 7/30\n",
            "25/25 [==============================] - 0s 3ms/step - loss: 0.5004 - accuracy: 0.7997\n",
            "Epoch 8/30\n",
            "25/25 [==============================] - 0s 3ms/step - loss: 0.5007 - accuracy: 0.7997\n",
            "Epoch 9/30\n",
            "25/25 [==============================] - 0s 3ms/step - loss: 0.5021 - accuracy: 0.7997\n",
            "Epoch 10/30\n",
            "25/25 [==============================] - 0s 4ms/step - loss: 0.5008 - accuracy: 0.7997\n",
            "Epoch 11/30\n",
            "25/25 [==============================] - 0s 3ms/step - loss: 0.4998 - accuracy: 0.7997\n",
            "Epoch 12/30\n",
            "25/25 [==============================] - 0s 3ms/step - loss: 0.4996 - accuracy: 0.7997\n",
            "Epoch 13/30\n",
            "25/25 [==============================] - 0s 4ms/step - loss: 0.4992 - accuracy: 0.7997\n",
            "Epoch 14/30\n",
            "25/25 [==============================] - 0s 3ms/step - loss: 0.4989 - accuracy: 0.7997\n",
            "Epoch 15/30\n",
            "25/25 [==============================] - 0s 3ms/step - loss: 0.4987 - accuracy: 0.7997\n",
            "Epoch 16/30\n",
            "25/25 [==============================] - 0s 3ms/step - loss: 0.4982 - accuracy: 0.7997\n",
            "Epoch 17/30\n",
            "25/25 [==============================] - 0s 3ms/step - loss: 0.4980 - accuracy: 0.7997\n",
            "Epoch 18/30\n",
            "25/25 [==============================] - 0s 4ms/step - loss: 0.4976 - accuracy: 0.7997\n",
            "Epoch 19/30\n",
            "25/25 [==============================] - 0s 3ms/step - loss: 0.4974 - accuracy: 0.7997\n",
            "Epoch 20/30\n",
            "25/25 [==============================] - 0s 3ms/step - loss: 0.4970 - accuracy: 0.7997\n",
            "Epoch 21/30\n",
            "25/25 [==============================] - 0s 4ms/step - loss: 0.4969 - accuracy: 0.7997\n",
            "Epoch 22/30\n",
            "25/25 [==============================] - 0s 3ms/step - loss: 0.4967 - accuracy: 0.7997\n",
            "Epoch 23/30\n",
            "25/25 [==============================] - 0s 4ms/step - loss: 0.4963 - accuracy: 0.7997\n",
            "Epoch 24/30\n",
            "25/25 [==============================] - 0s 3ms/step - loss: 0.4956 - accuracy: 0.7997\n",
            "Epoch 25/30\n",
            "25/25 [==============================] - 0s 3ms/step - loss: 0.4961 - accuracy: 0.7997\n",
            "Epoch 26/30\n",
            "25/25 [==============================] - 0s 3ms/step - loss: 0.4947 - accuracy: 0.7997\n",
            "Epoch 27/30\n",
            "25/25 [==============================] - 0s 3ms/step - loss: 0.4945 - accuracy: 0.7997\n",
            "Epoch 28/30\n",
            "25/25 [==============================] - 0s 3ms/step - loss: 0.4942 - accuracy: 0.7997\n",
            "Epoch 29/30\n",
            "25/25 [==============================] - 0s 3ms/step - loss: 0.4944 - accuracy: 0.7997\n",
            "Epoch 30/30\n",
            "25/25 [==============================] - 0s 4ms/step - loss: 0.4942 - accuracy: 0.7997\n",
            "7/7 [==============================] - 0s 5ms/step - loss: 0.5187 - accuracy: 0.7825\n",
            "Epoch 1/30\n",
            "25/25 [==============================] - 1s 3ms/step - loss: 0.5794 - accuracy: 0.7953\n",
            "Epoch 2/30\n",
            "25/25 [==============================] - 0s 3ms/step - loss: 0.5065 - accuracy: 0.7953\n",
            "Epoch 3/30\n",
            "25/25 [==============================] - 0s 3ms/step - loss: 0.5067 - accuracy: 0.7953\n",
            "Epoch 4/30\n",
            "25/25 [==============================] - 0s 3ms/step - loss: 0.5066 - accuracy: 0.7953\n",
            "Epoch 5/30\n",
            "25/25 [==============================] - 0s 3ms/step - loss: 0.5066 - accuracy: 0.7953\n",
            "Epoch 6/30\n",
            "25/25 [==============================] - 0s 3ms/step - loss: 0.5065 - accuracy: 0.7953\n",
            "Epoch 7/30\n",
            "25/25 [==============================] - 0s 3ms/step - loss: 0.5065 - accuracy: 0.7953\n",
            "Epoch 8/30\n",
            "25/25 [==============================] - 0s 4ms/step - loss: 0.5065 - accuracy: 0.7953\n",
            "Epoch 9/30\n",
            "25/25 [==============================] - 0s 3ms/step - loss: 0.5064 - accuracy: 0.7953\n",
            "Epoch 10/30\n",
            "25/25 [==============================] - 0s 3ms/step - loss: 0.5064 - accuracy: 0.7953\n",
            "Epoch 11/30\n",
            "25/25 [==============================] - 0s 3ms/step - loss: 0.5064 - accuracy: 0.7953\n",
            "Epoch 12/30\n",
            "25/25 [==============================] - 0s 3ms/step - loss: 0.5064 - accuracy: 0.7953\n",
            "Epoch 13/30\n",
            "25/25 [==============================] - 0s 3ms/step - loss: 0.5064 - accuracy: 0.7953\n",
            "Epoch 14/30\n",
            "25/25 [==============================] - 0s 3ms/step - loss: 0.5064 - accuracy: 0.7953\n",
            "Epoch 15/30\n",
            "25/25 [==============================] - 0s 3ms/step - loss: 0.5064 - accuracy: 0.7953\n",
            "Epoch 16/30\n",
            "25/25 [==============================] - 0s 4ms/step - loss: 0.5064 - accuracy: 0.7953\n",
            "Epoch 17/30\n",
            "25/25 [==============================] - 0s 4ms/step - loss: 0.5064 - accuracy: 0.7953\n",
            "Epoch 18/30\n",
            "25/25 [==============================] - 0s 3ms/step - loss: 0.5063 - accuracy: 0.7953\n",
            "Epoch 19/30\n",
            "25/25 [==============================] - 0s 3ms/step - loss: 0.5064 - accuracy: 0.7953\n",
            "Epoch 20/30\n",
            "25/25 [==============================] - 0s 3ms/step - loss: 0.5063 - accuracy: 0.7953\n",
            "Epoch 21/30\n",
            "25/25 [==============================] - 0s 3ms/step - loss: 0.5063 - accuracy: 0.7953\n",
            "Epoch 22/30\n",
            "25/25 [==============================] - 0s 3ms/step - loss: 0.5063 - accuracy: 0.7953\n",
            "Epoch 23/30\n",
            "25/25 [==============================] - 0s 3ms/step - loss: 0.5062 - accuracy: 0.7953\n",
            "Epoch 24/30\n",
            "25/25 [==============================] - 0s 3ms/step - loss: 0.5062 - accuracy: 0.7953\n",
            "Epoch 25/30\n",
            "25/25 [==============================] - 0s 3ms/step - loss: 0.5062 - accuracy: 0.7953\n",
            "Epoch 26/30\n",
            "25/25 [==============================] - 0s 3ms/step - loss: 0.5062 - accuracy: 0.7953\n",
            "Epoch 27/30\n",
            "25/25 [==============================] - 0s 3ms/step - loss: 0.5062 - accuracy: 0.7953\n",
            "Epoch 28/30\n",
            "25/25 [==============================] - 0s 3ms/step - loss: 0.5062 - accuracy: 0.7953\n",
            "Epoch 29/30\n",
            "25/25 [==============================] - 0s 3ms/step - loss: 0.5062 - accuracy: 0.7953\n",
            "Epoch 30/30\n",
            "25/25 [==============================] - 0s 3ms/step - loss: 0.5061 - accuracy: 0.7953\n",
            "7/7 [==============================] - 0s 2ms/step - loss: 0.4997 - accuracy: 0.8000\n",
            "Epoch 1/30\n",
            "50/50 [==============================] - 1s 2ms/step - loss: 2.4136 - accuracy: 0.8003\n",
            "Epoch 2/30\n",
            "50/50 [==============================] - 0s 2ms/step - loss: 1.8011 - accuracy: 0.8003\n",
            "Epoch 3/30\n",
            "50/50 [==============================] - 0s 2ms/step - loss: 0.7918 - accuracy: 0.8003\n",
            "Epoch 4/30\n",
            "50/50 [==============================] - 0s 2ms/step - loss: 0.5184 - accuracy: 0.8003\n",
            "Epoch 5/30\n",
            "50/50 [==============================] - 0s 2ms/step - loss: 0.5067 - accuracy: 0.8003\n",
            "Epoch 6/30\n",
            "50/50 [==============================] - 0s 2ms/step - loss: 0.5013 - accuracy: 0.8003\n",
            "Epoch 7/30\n",
            "50/50 [==============================] - 0s 2ms/step - loss: 0.4984 - accuracy: 0.8003\n",
            "Epoch 8/30\n",
            "50/50 [==============================] - 0s 2ms/step - loss: 0.4968 - accuracy: 0.8003\n",
            "Epoch 9/30\n",
            "50/50 [==============================] - 0s 2ms/step - loss: 0.4959 - accuracy: 0.8003\n",
            "Epoch 10/30\n",
            "50/50 [==============================] - 0s 3ms/step - loss: 0.4953 - accuracy: 0.8003\n",
            "Epoch 11/30\n",
            "50/50 [==============================] - 0s 3ms/step - loss: 0.4950 - accuracy: 0.8003\n",
            "Epoch 12/30\n",
            "50/50 [==============================] - 0s 2ms/step - loss: 0.4948 - accuracy: 0.8003\n",
            "Epoch 13/30\n",
            "50/50 [==============================] - 0s 2ms/step - loss: 0.4946 - accuracy: 0.8003\n",
            "Epoch 14/30\n",
            "50/50 [==============================] - 0s 3ms/step - loss: 0.4944 - accuracy: 0.8003\n",
            "Epoch 15/30\n",
            "50/50 [==============================] - 0s 2ms/step - loss: 0.4943 - accuracy: 0.8003\n",
            "Epoch 16/30\n",
            "50/50 [==============================] - 0s 2ms/step - loss: 0.4941 - accuracy: 0.8003\n",
            "Epoch 17/30\n",
            "50/50 [==============================] - 0s 2ms/step - loss: 0.4940 - accuracy: 0.8003\n",
            "Epoch 18/30\n",
            "50/50 [==============================] - 0s 2ms/step - loss: 0.4939 - accuracy: 0.8003\n",
            "Epoch 19/30\n",
            "50/50 [==============================] - 0s 2ms/step - loss: 0.4937 - accuracy: 0.8003\n",
            "Epoch 20/30\n",
            "50/50 [==============================] - 0s 3ms/step - loss: 0.4936 - accuracy: 0.8003\n",
            "Epoch 21/30\n",
            "50/50 [==============================] - 0s 2ms/step - loss: 0.4935 - accuracy: 0.8003\n",
            "Epoch 22/30\n",
            "50/50 [==============================] - 0s 3ms/step - loss: 0.4933 - accuracy: 0.8003\n",
            "Epoch 23/30\n",
            "50/50 [==============================] - 0s 2ms/step - loss: 0.4932 - accuracy: 0.8003\n",
            "Epoch 24/30\n",
            "50/50 [==============================] - 0s 2ms/step - loss: 0.4931 - accuracy: 0.8003\n",
            "Epoch 25/30\n",
            "50/50 [==============================] - 0s 2ms/step - loss: 0.4930 - accuracy: 0.8003\n",
            "Epoch 26/30\n",
            "50/50 [==============================] - 0s 3ms/step - loss: 0.4929 - accuracy: 0.8003\n",
            "Epoch 27/30\n",
            "50/50 [==============================] - 0s 2ms/step - loss: 0.4928 - accuracy: 0.8003\n",
            "Epoch 28/30\n",
            "50/50 [==============================] - 0s 2ms/step - loss: 0.4927 - accuracy: 0.8003\n",
            "Epoch 29/30\n",
            "50/50 [==============================] - 0s 2ms/step - loss: 0.4926 - accuracy: 0.8003\n",
            "Epoch 30/30\n",
            "50/50 [==============================] - 0s 2ms/step - loss: 0.4925 - accuracy: 0.8003\n",
            "13/13 [==============================] - 0s 2ms/step - loss: 0.5194 - accuracy: 0.7800\n",
            "Epoch 1/30\n",
            "50/50 [==============================] - 0s 2ms/step - loss: 3.1959 - accuracy: 0.7928\n",
            "Epoch 2/30\n",
            "50/50 [==============================] - 0s 2ms/step - loss: 3.1959 - accuracy: 0.7928\n",
            "Epoch 3/30\n",
            "50/50 [==============================] - 0s 2ms/step - loss: 3.1959 - accuracy: 0.7928\n",
            "Epoch 4/30\n",
            "50/50 [==============================] - 0s 2ms/step - loss: 3.1959 - accuracy: 0.7928\n",
            "Epoch 5/30\n",
            "50/50 [==============================] - 0s 3ms/step - loss: 3.1959 - accuracy: 0.7928\n",
            "Epoch 6/30\n",
            "50/50 [==============================] - 0s 2ms/step - loss: 3.1959 - accuracy: 0.7928\n",
            "Epoch 7/30\n",
            "50/50 [==============================] - 0s 2ms/step - loss: 3.1959 - accuracy: 0.7928\n",
            "Epoch 8/30\n",
            "50/50 [==============================] - 0s 2ms/step - loss: 3.1959 - accuracy: 0.7928\n",
            "Epoch 9/30\n",
            "50/50 [==============================] - 0s 3ms/step - loss: 3.1959 - accuracy: 0.7928\n",
            "Epoch 10/30\n",
            "50/50 [==============================] - 0s 2ms/step - loss: 3.1959 - accuracy: 0.7928\n",
            "Epoch 11/30\n",
            "50/50 [==============================] - 0s 2ms/step - loss: 3.1959 - accuracy: 0.7928\n",
            "Epoch 12/30\n",
            "50/50 [==============================] - 0s 2ms/step - loss: 3.1959 - accuracy: 0.7928\n",
            "Epoch 13/30\n",
            "50/50 [==============================] - 0s 2ms/step - loss: 3.1959 - accuracy: 0.7928\n",
            "Epoch 14/30\n",
            "50/50 [==============================] - 0s 2ms/step - loss: 3.1959 - accuracy: 0.7928\n",
            "Epoch 15/30\n",
            "50/50 [==============================] - 0s 3ms/step - loss: 3.1959 - accuracy: 0.7928\n",
            "Epoch 16/30\n",
            "50/50 [==============================] - 0s 2ms/step - loss: 3.1959 - accuracy: 0.7928\n",
            "Epoch 17/30\n",
            "50/50 [==============================] - 0s 2ms/step - loss: 3.1959 - accuracy: 0.7928\n",
            "Epoch 18/30\n",
            "50/50 [==============================] - 0s 3ms/step - loss: 3.1959 - accuracy: 0.7928\n",
            "Epoch 19/30\n",
            "50/50 [==============================] - 0s 2ms/step - loss: 3.1959 - accuracy: 0.7928\n",
            "Epoch 20/30\n",
            "50/50 [==============================] - 0s 2ms/step - loss: 3.1959 - accuracy: 0.7928\n",
            "Epoch 21/30\n",
            "50/50 [==============================] - 0s 2ms/step - loss: 3.1959 - accuracy: 0.7928\n",
            "Epoch 22/30\n",
            "50/50 [==============================] - 0s 2ms/step - loss: 3.1959 - accuracy: 0.7928\n",
            "Epoch 23/30\n",
            "50/50 [==============================] - 0s 2ms/step - loss: 3.1959 - accuracy: 0.7928\n",
            "Epoch 24/30\n",
            "50/50 [==============================] - 0s 2ms/step - loss: 3.1959 - accuracy: 0.7928\n",
            "Epoch 25/30\n",
            "50/50 [==============================] - 0s 2ms/step - loss: 3.1959 - accuracy: 0.7928\n",
            "Epoch 26/30\n",
            "50/50 [==============================] - 0s 2ms/step - loss: 3.1959 - accuracy: 0.7928\n",
            "Epoch 27/30\n",
            "50/50 [==============================] - 0s 2ms/step - loss: 3.1959 - accuracy: 0.7928\n",
            "Epoch 28/30\n",
            "50/50 [==============================] - 0s 2ms/step - loss: 3.1959 - accuracy: 0.7928\n",
            "Epoch 29/30\n",
            "50/50 [==============================] - 0s 2ms/step - loss: 3.1959 - accuracy: 0.7928\n",
            "Epoch 30/30\n",
            "50/50 [==============================] - 0s 3ms/step - loss: 3.1959 - accuracy: 0.7928\n",
            "13/13 [==============================] - 0s 2ms/step - loss: 2.9307 - accuracy: 0.8100\n",
            "Epoch 1/30\n",
            "50/50 [==============================] - 1s 2ms/step - loss: 0.5152 - accuracy: 0.7931\n",
            "Epoch 2/30\n",
            "50/50 [==============================] - 0s 2ms/step - loss: 0.5039 - accuracy: 0.7931\n",
            "Epoch 3/30\n",
            "50/50 [==============================] - 0s 2ms/step - loss: 0.5025 - accuracy: 0.7931\n",
            "Epoch 4/30\n",
            "50/50 [==============================] - 0s 2ms/step - loss: 0.5019 - accuracy: 0.7931\n",
            "Epoch 5/30\n",
            "50/50 [==============================] - 0s 2ms/step - loss: 0.5018 - accuracy: 0.7931\n",
            "Epoch 6/30\n",
            "50/50 [==============================] - 0s 2ms/step - loss: 0.5020 - accuracy: 0.7931\n",
            "Epoch 7/30\n",
            "50/50 [==============================] - 0s 2ms/step - loss: 0.5012 - accuracy: 0.7931\n",
            "Epoch 8/30\n",
            "50/50 [==============================] - 0s 2ms/step - loss: 0.5016 - accuracy: 0.7931\n",
            "Epoch 9/30\n",
            "50/50 [==============================] - 0s 2ms/step - loss: 0.5014 - accuracy: 0.7931\n",
            "Epoch 10/30\n",
            "50/50 [==============================] - 0s 2ms/step - loss: 0.5018 - accuracy: 0.7931\n",
            "Epoch 11/30\n",
            "50/50 [==============================] - 0s 2ms/step - loss: 0.5012 - accuracy: 0.7931\n",
            "Epoch 12/30\n",
            "50/50 [==============================] - 0s 2ms/step - loss: 0.5021 - accuracy: 0.7931\n",
            "Epoch 13/30\n",
            "50/50 [==============================] - 0s 2ms/step - loss: 0.5015 - accuracy: 0.7931\n",
            "Epoch 14/30\n",
            "50/50 [==============================] - 0s 2ms/step - loss: 0.5015 - accuracy: 0.7931\n",
            "Epoch 15/30\n",
            "50/50 [==============================] - 0s 2ms/step - loss: 0.5013 - accuracy: 0.7931\n",
            "Epoch 16/30\n",
            "50/50 [==============================] - 0s 2ms/step - loss: 0.5007 - accuracy: 0.7931\n",
            "Epoch 17/30\n",
            "50/50 [==============================] - 0s 2ms/step - loss: 0.5018 - accuracy: 0.7931\n",
            "Epoch 18/30\n",
            "50/50 [==============================] - 0s 2ms/step - loss: 0.5022 - accuracy: 0.7931\n",
            "Epoch 19/30\n",
            "50/50 [==============================] - 0s 2ms/step - loss: 0.5014 - accuracy: 0.7931\n",
            "Epoch 20/30\n",
            "50/50 [==============================] - 0s 2ms/step - loss: 0.5013 - accuracy: 0.7931\n",
            "Epoch 21/30\n",
            "50/50 [==============================] - 0s 2ms/step - loss: 0.5012 - accuracy: 0.7931\n",
            "Epoch 22/30\n",
            "50/50 [==============================] - 0s 2ms/step - loss: 0.5011 - accuracy: 0.7931\n",
            "Epoch 23/30\n",
            "50/50 [==============================] - 0s 2ms/step - loss: 0.5013 - accuracy: 0.7931\n",
            "Epoch 24/30\n",
            "50/50 [==============================] - 0s 2ms/step - loss: 0.5014 - accuracy: 0.7931\n",
            "Epoch 25/30\n",
            "50/50 [==============================] - 0s 2ms/step - loss: 0.5020 - accuracy: 0.7931\n",
            "Epoch 26/30\n",
            "50/50 [==============================] - 0s 2ms/step - loss: 0.5011 - accuracy: 0.7931\n",
            "Epoch 27/30\n",
            "50/50 [==============================] - 0s 2ms/step - loss: 0.5015 - accuracy: 0.7931\n",
            "Epoch 28/30\n",
            "50/50 [==============================] - 0s 2ms/step - loss: 0.5015 - accuracy: 0.7931\n",
            "Epoch 29/30\n",
            "50/50 [==============================] - 0s 3ms/step - loss: 0.5012 - accuracy: 0.7931\n",
            "Epoch 30/30\n",
            "50/50 [==============================] - 0s 2ms/step - loss: 0.5009 - accuracy: 0.7931\n",
            "13/13 [==============================] - 0s 2ms/step - loss: 0.4824 - accuracy: 0.8087\n",
            "Epoch 1/30\n",
            "50/50 [==============================] - 1s 2ms/step - loss: 0.6866 - accuracy: 0.7997\n",
            "Epoch 2/30\n",
            "50/50 [==============================] - 0s 2ms/step - loss: 0.5277 - accuracy: 0.7997\n",
            "Epoch 3/30\n",
            "50/50 [==============================] - 0s 2ms/step - loss: 0.5044 - accuracy: 0.7997\n",
            "Epoch 4/30\n",
            "50/50 [==============================] - 0s 2ms/step - loss: 0.4953 - accuracy: 0.7997\n",
            "Epoch 5/30\n",
            "50/50 [==============================] - 0s 2ms/step - loss: 0.4944 - accuracy: 0.7997\n",
            "Epoch 6/30\n",
            "50/50 [==============================] - 0s 2ms/step - loss: 0.4936 - accuracy: 0.7997\n",
            "Epoch 7/30\n",
            "50/50 [==============================] - 0s 3ms/step - loss: 0.4930 - accuracy: 0.7997\n",
            "Epoch 8/30\n",
            "50/50 [==============================] - 0s 3ms/step - loss: 0.4928 - accuracy: 0.7997\n",
            "Epoch 9/30\n",
            "50/50 [==============================] - 0s 3ms/step - loss: 0.4926 - accuracy: 0.7997\n",
            "Epoch 10/30\n",
            "50/50 [==============================] - 0s 3ms/step - loss: 0.4923 - accuracy: 0.7997\n",
            "Epoch 11/30\n",
            "50/50 [==============================] - 0s 2ms/step - loss: 0.4923 - accuracy: 0.7997\n",
            "Epoch 12/30\n",
            "50/50 [==============================] - 0s 2ms/step - loss: 0.4921 - accuracy: 0.7997\n",
            "Epoch 13/30\n",
            "50/50 [==============================] - 0s 2ms/step - loss: 0.4921 - accuracy: 0.7997\n",
            "Epoch 14/30\n",
            "50/50 [==============================] - 0s 2ms/step - loss: 0.4920 - accuracy: 0.7997\n",
            "Epoch 15/30\n",
            "50/50 [==============================] - 0s 3ms/step - loss: 0.4919 - accuracy: 0.7997\n",
            "Epoch 16/30\n",
            "50/50 [==============================] - 0s 2ms/step - loss: 0.4921 - accuracy: 0.7997\n",
            "Epoch 17/30\n",
            "50/50 [==============================] - 0s 3ms/step - loss: 0.4920 - accuracy: 0.7997\n",
            "Epoch 18/30\n",
            "50/50 [==============================] - 0s 3ms/step - loss: 0.4919 - accuracy: 0.7997\n",
            "Epoch 19/30\n",
            "50/50 [==============================] - 0s 2ms/step - loss: 0.4919 - accuracy: 0.7997\n",
            "Epoch 20/30\n",
            "50/50 [==============================] - 0s 2ms/step - loss: 0.4919 - accuracy: 0.7997\n",
            "Epoch 21/30\n",
            "50/50 [==============================] - 0s 3ms/step - loss: 0.4918 - accuracy: 0.7997\n",
            "Epoch 22/30\n",
            "50/50 [==============================] - 0s 2ms/step - loss: 0.4918 - accuracy: 0.7997\n",
            "Epoch 23/30\n",
            "50/50 [==============================] - 0s 2ms/step - loss: 0.4918 - accuracy: 0.7997\n",
            "Epoch 24/30\n",
            "50/50 [==============================] - 0s 2ms/step - loss: 0.4918 - accuracy: 0.7997\n",
            "Epoch 25/30\n",
            "50/50 [==============================] - 0s 3ms/step - loss: 0.4917 - accuracy: 0.7997\n",
            "Epoch 26/30\n",
            "50/50 [==============================] - 0s 3ms/step - loss: 0.4918 - accuracy: 0.7997\n",
            "Epoch 27/30\n",
            "50/50 [==============================] - 0s 2ms/step - loss: 0.4917 - accuracy: 0.7997\n",
            "Epoch 28/30\n",
            "50/50 [==============================] - 0s 2ms/step - loss: 0.4918 - accuracy: 0.7997\n",
            "Epoch 29/30\n",
            "50/50 [==============================] - 0s 2ms/step - loss: 0.4917 - accuracy: 0.7997\n",
            "Epoch 30/30\n",
            "50/50 [==============================] - 0s 2ms/step - loss: 0.4918 - accuracy: 0.7997\n",
            "13/13 [==============================] - 0s 2ms/step - loss: 0.5198 - accuracy: 0.7825\n",
            "Epoch 1/30\n",
            "50/50 [==============================] - 0s 2ms/step - loss: 0.9234 - accuracy: 0.7953\n",
            "Epoch 2/30\n",
            "50/50 [==============================] - 0s 2ms/step - loss: 0.6030 - accuracy: 0.7953\n",
            "Epoch 3/30\n",
            "50/50 [==============================] - 0s 3ms/step - loss: 0.5664 - accuracy: 0.7953\n",
            "Epoch 4/30\n",
            "50/50 [==============================] - 0s 2ms/step - loss: 0.5378 - accuracy: 0.7953\n",
            "Epoch 5/30\n",
            "50/50 [==============================] - 0s 2ms/step - loss: 0.5140 - accuracy: 0.7953\n",
            "Epoch 6/30\n",
            "50/50 [==============================] - 0s 2ms/step - loss: 0.5046 - accuracy: 0.7953\n",
            "Epoch 7/30\n",
            "50/50 [==============================] - 0s 2ms/step - loss: 0.5022 - accuracy: 0.7953\n",
            "Epoch 8/30\n",
            "50/50 [==============================] - 0s 2ms/step - loss: 0.5014 - accuracy: 0.7953\n",
            "Epoch 9/30\n",
            "50/50 [==============================] - 0s 3ms/step - loss: 0.5011 - accuracy: 0.7953\n",
            "Epoch 10/30\n",
            "50/50 [==============================] - 0s 2ms/step - loss: 0.5007 - accuracy: 0.7953\n",
            "Epoch 11/30\n",
            "50/50 [==============================] - 0s 3ms/step - loss: 0.5005 - accuracy: 0.7953\n",
            "Epoch 12/30\n",
            "50/50 [==============================] - 0s 2ms/step - loss: 0.5003 - accuracy: 0.7953\n",
            "Epoch 13/30\n",
            "50/50 [==============================] - 0s 3ms/step - loss: 0.5001 - accuracy: 0.7953\n",
            "Epoch 14/30\n",
            "50/50 [==============================] - 0s 2ms/step - loss: 0.4999 - accuracy: 0.7953\n",
            "Epoch 15/30\n",
            "50/50 [==============================] - 0s 2ms/step - loss: 0.4998 - accuracy: 0.7953\n",
            "Epoch 16/30\n",
            "50/50 [==============================] - 0s 2ms/step - loss: 0.4996 - accuracy: 0.7953\n",
            "Epoch 17/30\n",
            "50/50 [==============================] - 0s 2ms/step - loss: 0.4995 - accuracy: 0.7953\n",
            "Epoch 18/30\n",
            "50/50 [==============================] - 0s 2ms/step - loss: 0.4995 - accuracy: 0.7953\n",
            "Epoch 19/30\n",
            "50/50 [==============================] - 0s 3ms/step - loss: 0.4994 - accuracy: 0.7953\n",
            "Epoch 20/30\n",
            "50/50 [==============================] - 0s 3ms/step - loss: 0.4994 - accuracy: 0.7953\n",
            "Epoch 21/30\n",
            "50/50 [==============================] - 0s 2ms/step - loss: 0.4993 - accuracy: 0.7953\n",
            "Epoch 22/30\n",
            "50/50 [==============================] - 0s 3ms/step - loss: 0.4993 - accuracy: 0.7953\n",
            "Epoch 23/30\n",
            "50/50 [==============================] - 0s 2ms/step - loss: 0.4993 - accuracy: 0.7953\n",
            "Epoch 24/30\n",
            "50/50 [==============================] - 0s 2ms/step - loss: 0.4992 - accuracy: 0.7953\n",
            "Epoch 25/30\n",
            "50/50 [==============================] - 0s 2ms/step - loss: 0.4992 - accuracy: 0.7953\n",
            "Epoch 26/30\n",
            "50/50 [==============================] - 0s 2ms/step - loss: 0.4992 - accuracy: 0.7953\n",
            "Epoch 27/30\n",
            "50/50 [==============================] - 0s 3ms/step - loss: 0.4991 - accuracy: 0.7953\n",
            "Epoch 28/30\n",
            "50/50 [==============================] - 0s 3ms/step - loss: 0.4991 - accuracy: 0.7953\n",
            "Epoch 29/30\n",
            "50/50 [==============================] - 0s 3ms/step - loss: 0.4992 - accuracy: 0.7953\n",
            "Epoch 30/30\n",
            "50/50 [==============================] - 0s 2ms/step - loss: 0.4991 - accuracy: 0.7953\n",
            "13/13 [==============================] - 0s 2ms/step - loss: 0.4915 - accuracy: 0.8000\n",
            "Epoch 1/30\n",
            "50/50 [==============================] - 1s 2ms/step - loss: 0.5185 - accuracy: 0.8003\n",
            "Epoch 2/30\n",
            "50/50 [==============================] - 0s 2ms/step - loss: 0.4933 - accuracy: 0.8003\n",
            "Epoch 3/30\n",
            "50/50 [==============================] - 0s 3ms/step - loss: 0.4927 - accuracy: 0.8003\n",
            "Epoch 4/30\n",
            "50/50 [==============================] - 0s 3ms/step - loss: 0.4920 - accuracy: 0.8003\n",
            "Epoch 5/30\n",
            "50/50 [==============================] - 0s 3ms/step - loss: 0.4917 - accuracy: 0.8003\n",
            "Epoch 6/30\n",
            "50/50 [==============================] - 0s 3ms/step - loss: 0.4918 - accuracy: 0.8003\n",
            "Epoch 7/30\n",
            "50/50 [==============================] - 0s 3ms/step - loss: 0.4919 - accuracy: 0.8003\n",
            "Epoch 8/30\n",
            "50/50 [==============================] - 0s 3ms/step - loss: 0.4917 - accuracy: 0.8003\n",
            "Epoch 9/30\n",
            "50/50 [==============================] - 0s 3ms/step - loss: 0.4914 - accuracy: 0.8003\n",
            "Epoch 10/30\n",
            "50/50 [==============================] - 0s 3ms/step - loss: 0.4914 - accuracy: 0.8003\n",
            "Epoch 11/30\n",
            "50/50 [==============================] - 0s 3ms/step - loss: 0.4911 - accuracy: 0.8003\n",
            "Epoch 12/30\n",
            "50/50 [==============================] - 0s 3ms/step - loss: 0.4916 - accuracy: 0.8003\n",
            "Epoch 13/30\n",
            "50/50 [==============================] - 0s 3ms/step - loss: 0.4915 - accuracy: 0.8003\n",
            "Epoch 14/30\n",
            "50/50 [==============================] - 0s 3ms/step - loss: 0.4911 - accuracy: 0.8003\n",
            "Epoch 15/30\n",
            "50/50 [==============================] - 0s 3ms/step - loss: 0.4912 - accuracy: 0.8003\n",
            "Epoch 16/30\n",
            "50/50 [==============================] - 0s 3ms/step - loss: 0.4920 - accuracy: 0.8003\n",
            "Epoch 17/30\n",
            "50/50 [==============================] - 0s 3ms/step - loss: 0.4909 - accuracy: 0.8003\n",
            "Epoch 18/30\n",
            "50/50 [==============================] - 0s 3ms/step - loss: 0.4914 - accuracy: 0.8003\n",
            "Epoch 19/30\n",
            "50/50 [==============================] - 0s 3ms/step - loss: 0.4912 - accuracy: 0.8003\n",
            "Epoch 20/30\n",
            "50/50 [==============================] - 0s 3ms/step - loss: 0.4911 - accuracy: 0.8003\n",
            "Epoch 21/30\n",
            "50/50 [==============================] - 0s 3ms/step - loss: 0.4915 - accuracy: 0.8003\n",
            "Epoch 22/30\n",
            "50/50 [==============================] - 0s 3ms/step - loss: 0.4916 - accuracy: 0.8003\n",
            "Epoch 23/30\n",
            "50/50 [==============================] - 0s 3ms/step - loss: 0.4907 - accuracy: 0.8003\n",
            "Epoch 24/30\n",
            "50/50 [==============================] - 0s 3ms/step - loss: 0.4915 - accuracy: 0.8003\n",
            "Epoch 25/30\n",
            "50/50 [==============================] - 0s 3ms/step - loss: 0.4912 - accuracy: 0.8003\n",
            "Epoch 26/30\n",
            "50/50 [==============================] - 0s 3ms/step - loss: 0.4907 - accuracy: 0.8003\n",
            "Epoch 27/30\n",
            "50/50 [==============================] - 0s 3ms/step - loss: 0.4914 - accuracy: 0.8003\n",
            "Epoch 28/30\n",
            "50/50 [==============================] - 0s 3ms/step - loss: 0.4913 - accuracy: 0.8003\n",
            "Epoch 29/30\n",
            "50/50 [==============================] - 0s 3ms/step - loss: 0.4910 - accuracy: 0.8003\n",
            "Epoch 30/30\n",
            "50/50 [==============================] - 0s 3ms/step - loss: 0.4907 - accuracy: 0.8003\n",
            "13/13 [==============================] - 0s 3ms/step - loss: 0.5224 - accuracy: 0.7800\n",
            "Epoch 1/30\n",
            "50/50 [==============================] - 1s 3ms/step - loss: 0.7814 - accuracy: 0.7928\n",
            "Epoch 2/30\n",
            "50/50 [==============================] - 0s 3ms/step - loss: 0.5058 - accuracy: 0.7928\n",
            "Epoch 3/30\n",
            "50/50 [==============================] - 0s 2ms/step - loss: 0.5045 - accuracy: 0.7928\n",
            "Epoch 4/30\n",
            "50/50 [==============================] - 0s 3ms/step - loss: 0.5046 - accuracy: 0.7928\n",
            "Epoch 5/30\n",
            "50/50 [==============================] - 0s 3ms/step - loss: 0.5038 - accuracy: 0.7928\n",
            "Epoch 6/30\n",
            "50/50 [==============================] - 0s 3ms/step - loss: 0.5041 - accuracy: 0.7928\n",
            "Epoch 7/30\n",
            "50/50 [==============================] - 0s 3ms/step - loss: 0.5041 - accuracy: 0.7928\n",
            "Epoch 8/30\n",
            "50/50 [==============================] - 0s 3ms/step - loss: 0.5046 - accuracy: 0.7928\n",
            "Epoch 9/30\n",
            "50/50 [==============================] - 0s 3ms/step - loss: 0.5039 - accuracy: 0.7928\n",
            "Epoch 10/30\n",
            "50/50 [==============================] - 0s 3ms/step - loss: 0.5045 - accuracy: 0.7928\n",
            "Epoch 11/30\n",
            "50/50 [==============================] - 0s 2ms/step - loss: 0.5032 - accuracy: 0.7928\n",
            "Epoch 12/30\n",
            "50/50 [==============================] - 0s 3ms/step - loss: 0.5041 - accuracy: 0.7928\n",
            "Epoch 13/30\n",
            "50/50 [==============================] - 0s 3ms/step - loss: 0.5036 - accuracy: 0.7928\n",
            "Epoch 14/30\n",
            "50/50 [==============================] - 0s 3ms/step - loss: 0.5037 - accuracy: 0.7928\n",
            "Epoch 15/30\n",
            "50/50 [==============================] - 0s 3ms/step - loss: 0.5036 - accuracy: 0.7928\n",
            "Epoch 16/30\n",
            "50/50 [==============================] - 0s 3ms/step - loss: 0.5035 - accuracy: 0.7928\n",
            "Epoch 17/30\n",
            "50/50 [==============================] - 0s 3ms/step - loss: 0.5034 - accuracy: 0.7928\n",
            "Epoch 18/30\n",
            "50/50 [==============================] - 0s 2ms/step - loss: 0.5035 - accuracy: 0.7928\n",
            "Epoch 19/30\n",
            "50/50 [==============================] - 0s 3ms/step - loss: 0.5033 - accuracy: 0.7928\n",
            "Epoch 20/30\n",
            "50/50 [==============================] - 0s 3ms/step - loss: 0.5035 - accuracy: 0.7928\n",
            "Epoch 21/30\n",
            "50/50 [==============================] - 0s 2ms/step - loss: 0.5036 - accuracy: 0.7928\n",
            "Epoch 22/30\n",
            "50/50 [==============================] - 0s 3ms/step - loss: 0.5039 - accuracy: 0.7928\n",
            "Epoch 23/30\n",
            "50/50 [==============================] - 0s 3ms/step - loss: 0.5043 - accuracy: 0.7928\n",
            "Epoch 24/30\n",
            "50/50 [==============================] - 0s 3ms/step - loss: 0.5035 - accuracy: 0.7928\n",
            "Epoch 25/30\n",
            "50/50 [==============================] - 0s 3ms/step - loss: 0.5033 - accuracy: 0.7928\n",
            "Epoch 26/30\n",
            "50/50 [==============================] - 0s 3ms/step - loss: 0.5033 - accuracy: 0.7928\n",
            "Epoch 27/30\n",
            "50/50 [==============================] - 0s 3ms/step - loss: 0.5039 - accuracy: 0.7928\n",
            "Epoch 28/30\n",
            "50/50 [==============================] - 0s 3ms/step - loss: 0.5034 - accuracy: 0.7928\n",
            "Epoch 29/30\n",
            "50/50 [==============================] - 0s 3ms/step - loss: 0.5033 - accuracy: 0.7928\n",
            "Epoch 30/30\n",
            "50/50 [==============================] - 0s 3ms/step - loss: 0.5035 - accuracy: 0.7928\n",
            "13/13 [==============================] - 0s 2ms/step - loss: 0.4735 - accuracy: 0.8100\n",
            "Epoch 1/30\n",
            "50/50 [==============================] - 1s 3ms/step - loss: 0.5156 - accuracy: 0.7931\n",
            "Epoch 2/30\n",
            "50/50 [==============================] - 0s 3ms/step - loss: 0.5025 - accuracy: 0.7931\n",
            "Epoch 3/30\n",
            "50/50 [==============================] - 0s 3ms/step - loss: 0.5020 - accuracy: 0.7931\n",
            "Epoch 4/30\n",
            "50/50 [==============================] - 0s 3ms/step - loss: 0.5015 - accuracy: 0.7931\n",
            "Epoch 5/30\n",
            "50/50 [==============================] - 0s 3ms/step - loss: 0.5019 - accuracy: 0.7931\n",
            "Epoch 6/30\n",
            "50/50 [==============================] - 0s 3ms/step - loss: 0.5016 - accuracy: 0.7931\n",
            "Epoch 7/30\n",
            "50/50 [==============================] - 0s 3ms/step - loss: 0.5017 - accuracy: 0.7931\n",
            "Epoch 8/30\n",
            "50/50 [==============================] - 0s 3ms/step - loss: 0.5013 - accuracy: 0.7931\n",
            "Epoch 9/30\n",
            "50/50 [==============================] - 0s 3ms/step - loss: 0.5013 - accuracy: 0.7931\n",
            "Epoch 10/30\n",
            "50/50 [==============================] - 0s 3ms/step - loss: 0.5010 - accuracy: 0.7931\n",
            "Epoch 11/30\n",
            "50/50 [==============================] - 0s 3ms/step - loss: 0.5014 - accuracy: 0.7931\n",
            "Epoch 12/30\n",
            "50/50 [==============================] - 0s 3ms/step - loss: 0.5013 - accuracy: 0.7931\n",
            "Epoch 13/30\n",
            "50/50 [==============================] - 0s 3ms/step - loss: 0.5014 - accuracy: 0.7931\n",
            "Epoch 14/30\n",
            "50/50 [==============================] - 0s 3ms/step - loss: 0.5020 - accuracy: 0.7931\n",
            "Epoch 15/30\n",
            "50/50 [==============================] - 0s 3ms/step - loss: 0.5010 - accuracy: 0.7931\n",
            "Epoch 16/30\n",
            "50/50 [==============================] - 0s 3ms/step - loss: 0.5010 - accuracy: 0.7931\n",
            "Epoch 17/30\n",
            "50/50 [==============================] - 0s 3ms/step - loss: 0.5008 - accuracy: 0.7931\n",
            "Epoch 18/30\n",
            "50/50 [==============================] - 0s 3ms/step - loss: 0.5011 - accuracy: 0.7931\n",
            "Epoch 19/30\n",
            "50/50 [==============================] - 0s 3ms/step - loss: 0.5017 - accuracy: 0.7931\n",
            "Epoch 20/30\n",
            "50/50 [==============================] - 0s 3ms/step - loss: 0.5010 - accuracy: 0.7931\n",
            "Epoch 21/30\n",
            "50/50 [==============================] - 0s 2ms/step - loss: 0.5008 - accuracy: 0.7931\n",
            "Epoch 22/30\n",
            "50/50 [==============================] - 0s 3ms/step - loss: 0.5013 - accuracy: 0.7931\n",
            "Epoch 23/30\n",
            "50/50 [==============================] - 0s 3ms/step - loss: 0.5013 - accuracy: 0.7931\n",
            "Epoch 24/30\n",
            "50/50 [==============================] - 0s 3ms/step - loss: 0.5018 - accuracy: 0.7931\n",
            "Epoch 25/30\n",
            "50/50 [==============================] - 0s 2ms/step - loss: 0.5014 - accuracy: 0.7931\n",
            "Epoch 26/30\n",
            "50/50 [==============================] - 0s 3ms/step - loss: 0.5008 - accuracy: 0.7931\n",
            "Epoch 27/30\n",
            "50/50 [==============================] - 0s 3ms/step - loss: 0.5008 - accuracy: 0.7931\n",
            "Epoch 28/30\n",
            "50/50 [==============================] - 0s 3ms/step - loss: 0.5012 - accuracy: 0.7931\n",
            "Epoch 29/30\n",
            "50/50 [==============================] - 0s 3ms/step - loss: 0.5009 - accuracy: 0.7931\n",
            "Epoch 30/30\n",
            "50/50 [==============================] - 0s 3ms/step - loss: 0.5011 - accuracy: 0.7931\n",
            "13/13 [==============================] - 0s 2ms/step - loss: 0.4845 - accuracy: 0.8087\n",
            "Epoch 1/30\n",
            "50/50 [==============================] - 1s 2ms/step - loss: 0.5439 - accuracy: 0.7997\n",
            "Epoch 2/30\n",
            "50/50 [==============================] - 0s 3ms/step - loss: 0.4933 - accuracy: 0.7997\n",
            "Epoch 3/30\n",
            "50/50 [==============================] - 0s 3ms/step - loss: 0.4928 - accuracy: 0.7997\n",
            "Epoch 4/30\n",
            "50/50 [==============================] - 0s 3ms/step - loss: 0.4925 - accuracy: 0.7997\n",
            "Epoch 5/30\n",
            "50/50 [==============================] - 0s 3ms/step - loss: 0.4924 - accuracy: 0.7997\n",
            "Epoch 6/30\n",
            "50/50 [==============================] - 0s 3ms/step - loss: 0.4924 - accuracy: 0.7997\n",
            "Epoch 7/30\n",
            "50/50 [==============================] - 0s 3ms/step - loss: 0.4922 - accuracy: 0.7997\n",
            "Epoch 8/30\n",
            "50/50 [==============================] - 0s 3ms/step - loss: 0.4925 - accuracy: 0.7997\n",
            "Epoch 9/30\n",
            "50/50 [==============================] - 0s 2ms/step - loss: 0.4920 - accuracy: 0.7997\n",
            "Epoch 10/30\n",
            "50/50 [==============================] - 0s 3ms/step - loss: 0.4925 - accuracy: 0.7997\n",
            "Epoch 11/30\n",
            "50/50 [==============================] - 0s 3ms/step - loss: 0.4921 - accuracy: 0.7997\n",
            "Epoch 12/30\n",
            "50/50 [==============================] - 0s 3ms/step - loss: 0.4920 - accuracy: 0.7997\n",
            "Epoch 13/30\n",
            "50/50 [==============================] - 0s 3ms/step - loss: 0.4919 - accuracy: 0.7997\n",
            "Epoch 14/30\n",
            "50/50 [==============================] - 0s 3ms/step - loss: 0.4919 - accuracy: 0.7997\n",
            "Epoch 15/30\n",
            "50/50 [==============================] - 0s 3ms/step - loss: 0.4923 - accuracy: 0.7997\n",
            "Epoch 16/30\n",
            "50/50 [==============================] - 0s 4ms/step - loss: 0.4922 - accuracy: 0.7997\n",
            "Epoch 17/30\n",
            "50/50 [==============================] - 0s 3ms/step - loss: 0.4920 - accuracy: 0.7997\n",
            "Epoch 18/30\n",
            "50/50 [==============================] - 0s 3ms/step - loss: 0.4918 - accuracy: 0.7997\n",
            "Epoch 19/30\n",
            "50/50 [==============================] - 0s 3ms/step - loss: 0.4920 - accuracy: 0.7997\n",
            "Epoch 20/30\n",
            "50/50 [==============================] - 0s 3ms/step - loss: 0.4917 - accuracy: 0.7997\n",
            "Epoch 21/30\n",
            "50/50 [==============================] - 0s 3ms/step - loss: 0.4920 - accuracy: 0.7997\n",
            "Epoch 22/30\n",
            "50/50 [==============================] - 0s 3ms/step - loss: 0.4918 - accuracy: 0.7997\n",
            "Epoch 23/30\n",
            "50/50 [==============================] - 0s 3ms/step - loss: 0.4920 - accuracy: 0.7997\n",
            "Epoch 24/30\n",
            "50/50 [==============================] - 0s 3ms/step - loss: 0.4918 - accuracy: 0.7997\n",
            "Epoch 25/30\n",
            "50/50 [==============================] - 0s 3ms/step - loss: 0.4918 - accuracy: 0.7997\n",
            "Epoch 26/30\n",
            "50/50 [==============================] - 0s 3ms/step - loss: 0.4924 - accuracy: 0.7997\n",
            "Epoch 27/30\n",
            "50/50 [==============================] - 0s 3ms/step - loss: 0.4917 - accuracy: 0.7997\n",
            "Epoch 28/30\n",
            "50/50 [==============================] - 0s 3ms/step - loss: 0.4917 - accuracy: 0.7997\n",
            "Epoch 29/30\n",
            "50/50 [==============================] - 0s 3ms/step - loss: 0.4920 - accuracy: 0.7997\n",
            "Epoch 30/30\n",
            "50/50 [==============================] - 0s 3ms/step - loss: 0.4916 - accuracy: 0.7997\n",
            "13/13 [==============================] - 0s 2ms/step - loss: 0.5222 - accuracy: 0.7825\n",
            "Epoch 1/30\n",
            "50/50 [==============================] - 1s 3ms/step - loss: 0.5453 - accuracy: 0.7953\n",
            "Epoch 2/30\n",
            "50/50 [==============================] - 0s 3ms/step - loss: 0.5026 - accuracy: 0.7953\n",
            "Epoch 3/30\n",
            "50/50 [==============================] - 0s 3ms/step - loss: 0.5000 - accuracy: 0.7953\n",
            "Epoch 4/30\n",
            "50/50 [==============================] - 0s 3ms/step - loss: 0.4993 - accuracy: 0.7953\n",
            "Epoch 5/30\n",
            "50/50 [==============================] - 0s 3ms/step - loss: 0.4989 - accuracy: 0.7953\n",
            "Epoch 6/30\n",
            "50/50 [==============================] - 0s 3ms/step - loss: 0.4992 - accuracy: 0.7953\n",
            "Epoch 7/30\n",
            "50/50 [==============================] - 0s 3ms/step - loss: 0.4990 - accuracy: 0.7953\n",
            "Epoch 8/30\n",
            "50/50 [==============================] - 0s 3ms/step - loss: 0.4988 - accuracy: 0.7953\n",
            "Epoch 9/30\n",
            "50/50 [==============================] - 0s 3ms/step - loss: 0.4991 - accuracy: 0.7953\n",
            "Epoch 10/30\n",
            "50/50 [==============================] - 0s 3ms/step - loss: 0.4986 - accuracy: 0.7953\n",
            "Epoch 11/30\n",
            "50/50 [==============================] - 0s 3ms/step - loss: 0.4987 - accuracy: 0.7953\n",
            "Epoch 12/30\n",
            "50/50 [==============================] - 0s 3ms/step - loss: 0.4994 - accuracy: 0.7953\n",
            "Epoch 13/30\n",
            "50/50 [==============================] - 0s 3ms/step - loss: 0.4984 - accuracy: 0.7953\n",
            "Epoch 14/30\n",
            "50/50 [==============================] - 0s 3ms/step - loss: 0.4987 - accuracy: 0.7953\n",
            "Epoch 15/30\n",
            "50/50 [==============================] - 0s 3ms/step - loss: 0.4991 - accuracy: 0.7953\n",
            "Epoch 16/30\n",
            "50/50 [==============================] - 0s 3ms/step - loss: 0.4986 - accuracy: 0.7953\n",
            "Epoch 17/30\n",
            "50/50 [==============================] - 0s 3ms/step - loss: 0.4986 - accuracy: 0.7953\n",
            "Epoch 18/30\n",
            "50/50 [==============================] - 0s 3ms/step - loss: 0.4990 - accuracy: 0.7953\n",
            "Epoch 19/30\n",
            "50/50 [==============================] - 0s 3ms/step - loss: 0.4987 - accuracy: 0.7953\n",
            "Epoch 20/30\n",
            "50/50 [==============================] - 0s 2ms/step - loss: 0.4988 - accuracy: 0.7953\n",
            "Epoch 21/30\n",
            "50/50 [==============================] - 0s 3ms/step - loss: 0.4991 - accuracy: 0.7953\n",
            "Epoch 22/30\n",
            "50/50 [==============================] - 0s 3ms/step - loss: 0.4990 - accuracy: 0.7953\n",
            "Epoch 23/30\n",
            "50/50 [==============================] - 0s 3ms/step - loss: 0.4982 - accuracy: 0.7953\n",
            "Epoch 24/30\n",
            "50/50 [==============================] - 0s 3ms/step - loss: 0.4982 - accuracy: 0.7953\n",
            "Epoch 25/30\n",
            "50/50 [==============================] - 0s 3ms/step - loss: 0.4984 - accuracy: 0.7953\n",
            "Epoch 26/30\n",
            "50/50 [==============================] - 0s 3ms/step - loss: 0.4984 - accuracy: 0.7953\n",
            "Epoch 27/30\n",
            "50/50 [==============================] - 0s 3ms/step - loss: 0.4982 - accuracy: 0.7953\n",
            "Epoch 28/30\n",
            "50/50 [==============================] - 0s 3ms/step - loss: 0.4985 - accuracy: 0.7953\n",
            "Epoch 29/30\n",
            "50/50 [==============================] - 0s 3ms/step - loss: 0.4982 - accuracy: 0.7953\n",
            "Epoch 30/30\n",
            "50/50 [==============================] - 0s 3ms/step - loss: 0.4987 - accuracy: 0.7953\n",
            "13/13 [==============================] - 0s 2ms/step - loss: 0.4941 - accuracy: 0.8000\n",
            "Epoch 1/30\n",
            "50/50 [==============================] - 1s 3ms/step - loss: 3.0802 - accuracy: 0.8003\n",
            "Epoch 2/30\n",
            "50/50 [==============================] - 0s 3ms/step - loss: 3.0802 - accuracy: 0.8003\n",
            "Epoch 3/30\n",
            "50/50 [==============================] - 0s 3ms/step - loss: 3.0802 - accuracy: 0.8003\n",
            "Epoch 4/30\n",
            "50/50 [==============================] - 0s 3ms/step - loss: 3.0802 - accuracy: 0.8003\n",
            "Epoch 5/30\n",
            "50/50 [==============================] - 0s 3ms/step - loss: 3.0802 - accuracy: 0.8003\n",
            "Epoch 6/30\n",
            "50/50 [==============================] - 0s 3ms/step - loss: 3.0802 - accuracy: 0.8003\n",
            "Epoch 7/30\n",
            "50/50 [==============================] - 0s 3ms/step - loss: 3.0802 - accuracy: 0.8003\n",
            "Epoch 8/30\n",
            "50/50 [==============================] - 0s 3ms/step - loss: 3.0802 - accuracy: 0.8003\n",
            "Epoch 9/30\n",
            "50/50 [==============================] - 0s 3ms/step - loss: 3.0802 - accuracy: 0.8003\n",
            "Epoch 10/30\n",
            "50/50 [==============================] - 0s 3ms/step - loss: 3.0802 - accuracy: 0.8003\n",
            "Epoch 11/30\n",
            "50/50 [==============================] - 0s 3ms/step - loss: 3.0802 - accuracy: 0.8003\n",
            "Epoch 12/30\n",
            "50/50 [==============================] - 0s 3ms/step - loss: 3.0802 - accuracy: 0.8003\n",
            "Epoch 13/30\n",
            "50/50 [==============================] - 0s 3ms/step - loss: 3.0802 - accuracy: 0.8003\n",
            "Epoch 14/30\n",
            "50/50 [==============================] - 0s 3ms/step - loss: 3.0802 - accuracy: 0.8003\n",
            "Epoch 15/30\n",
            "50/50 [==============================] - 0s 3ms/step - loss: 3.0802 - accuracy: 0.8003\n",
            "Epoch 16/30\n",
            "50/50 [==============================] - 0s 3ms/step - loss: 3.0802 - accuracy: 0.8003\n",
            "Epoch 17/30\n",
            "50/50 [==============================] - 0s 3ms/step - loss: 3.0802 - accuracy: 0.8003\n",
            "Epoch 18/30\n",
            "50/50 [==============================] - 0s 3ms/step - loss: 3.0802 - accuracy: 0.8003\n",
            "Epoch 19/30\n",
            "50/50 [==============================] - 0s 3ms/step - loss: 3.0802 - accuracy: 0.8003\n",
            "Epoch 20/30\n",
            "50/50 [==============================] - 0s 3ms/step - loss: 3.0802 - accuracy: 0.8003\n",
            "Epoch 21/30\n",
            "50/50 [==============================] - 0s 3ms/step - loss: 3.0802 - accuracy: 0.8003\n",
            "Epoch 22/30\n",
            "50/50 [==============================] - 0s 3ms/step - loss: 3.0802 - accuracy: 0.8003\n",
            "Epoch 23/30\n",
            "50/50 [==============================] - 0s 3ms/step - loss: 3.0802 - accuracy: 0.8003\n",
            "Epoch 24/30\n",
            "50/50 [==============================] - 0s 3ms/step - loss: 3.0802 - accuracy: 0.8003\n",
            "Epoch 25/30\n",
            "50/50 [==============================] - 0s 3ms/step - loss: 3.0802 - accuracy: 0.8003\n",
            "Epoch 26/30\n",
            "50/50 [==============================] - 0s 3ms/step - loss: 3.0802 - accuracy: 0.8003\n",
            "Epoch 27/30\n",
            "50/50 [==============================] - 0s 3ms/step - loss: 3.0802 - accuracy: 0.8003\n",
            "Epoch 28/30\n",
            "50/50 [==============================] - 0s 3ms/step - loss: 3.0802 - accuracy: 0.8003\n",
            "Epoch 29/30\n",
            "50/50 [==============================] - 0s 3ms/step - loss: 3.0802 - accuracy: 0.8003\n",
            "Epoch 30/30\n",
            "50/50 [==============================] - 0s 3ms/step - loss: 3.0802 - accuracy: 0.8003\n",
            "13/13 [==============================] - 0s 2ms/step - loss: 3.3935 - accuracy: 0.7800\n",
            "Epoch 1/30\n",
            "50/50 [==============================] - 1s 3ms/step - loss: 0.5284 - accuracy: 0.7928\n",
            "Epoch 2/30\n",
            "50/50 [==============================] - 0s 3ms/step - loss: 0.5043 - accuracy: 0.7928\n",
            "Epoch 3/30\n",
            "50/50 [==============================] - 0s 3ms/step - loss: 0.5038 - accuracy: 0.7928\n",
            "Epoch 4/30\n",
            "50/50 [==============================] - 0s 3ms/step - loss: 0.5039 - accuracy: 0.7928\n",
            "Epoch 5/30\n",
            "50/50 [==============================] - 0s 3ms/step - loss: 0.5043 - accuracy: 0.7928\n",
            "Epoch 6/30\n",
            "50/50 [==============================] - 0s 3ms/step - loss: 0.5043 - accuracy: 0.7928\n",
            "Epoch 7/30\n",
            "50/50 [==============================] - 0s 3ms/step - loss: 0.5036 - accuracy: 0.7928\n",
            "Epoch 8/30\n",
            "50/50 [==============================] - 0s 3ms/step - loss: 0.5035 - accuracy: 0.7928\n",
            "Epoch 9/30\n",
            "50/50 [==============================] - 0s 3ms/step - loss: 0.5041 - accuracy: 0.7928\n",
            "Epoch 10/30\n",
            "50/50 [==============================] - 0s 3ms/step - loss: 0.5036 - accuracy: 0.7928\n",
            "Epoch 11/30\n",
            "50/50 [==============================] - 0s 3ms/step - loss: 0.5037 - accuracy: 0.7928\n",
            "Epoch 12/30\n",
            "50/50 [==============================] - 0s 3ms/step - loss: 0.5038 - accuracy: 0.7928\n",
            "Epoch 13/30\n",
            "50/50 [==============================] - 0s 3ms/step - loss: 0.5042 - accuracy: 0.7928\n",
            "Epoch 14/30\n",
            "50/50 [==============================] - 0s 3ms/step - loss: 0.5036 - accuracy: 0.7928\n",
            "Epoch 15/30\n",
            "50/50 [==============================] - 0s 3ms/step - loss: 0.5037 - accuracy: 0.7928\n",
            "Epoch 16/30\n",
            "50/50 [==============================] - 0s 3ms/step - loss: 0.5039 - accuracy: 0.7928\n",
            "Epoch 17/30\n",
            "50/50 [==============================] - 0s 3ms/step - loss: 0.5039 - accuracy: 0.7928\n",
            "Epoch 18/30\n",
            "50/50 [==============================] - 0s 3ms/step - loss: 0.5036 - accuracy: 0.7928\n",
            "Epoch 19/30\n",
            "50/50 [==============================] - 0s 3ms/step - loss: 0.5041 - accuracy: 0.7928\n",
            "Epoch 20/30\n",
            "50/50 [==============================] - 0s 3ms/step - loss: 0.5034 - accuracy: 0.7928\n",
            "Epoch 21/30\n",
            "50/50 [==============================] - 0s 3ms/step - loss: 0.5034 - accuracy: 0.7928\n",
            "Epoch 22/30\n",
            "50/50 [==============================] - 0s 3ms/step - loss: 0.5035 - accuracy: 0.7928\n",
            "Epoch 23/30\n",
            "50/50 [==============================] - 0s 3ms/step - loss: 0.5034 - accuracy: 0.7928\n",
            "Epoch 24/30\n",
            "50/50 [==============================] - 0s 3ms/step - loss: 0.5046 - accuracy: 0.7928\n",
            "Epoch 25/30\n",
            "50/50 [==============================] - 0s 3ms/step - loss: 0.5036 - accuracy: 0.7928\n",
            "Epoch 26/30\n",
            "50/50 [==============================] - 0s 3ms/step - loss: 0.5034 - accuracy: 0.7928\n",
            "Epoch 27/30\n",
            "50/50 [==============================] - 0s 3ms/step - loss: 0.5041 - accuracy: 0.7928\n",
            "Epoch 28/30\n",
            "50/50 [==============================] - 0s 3ms/step - loss: 0.5036 - accuracy: 0.7928\n",
            "Epoch 29/30\n",
            "50/50 [==============================] - 0s 3ms/step - loss: 0.5035 - accuracy: 0.7928\n",
            "Epoch 30/30\n",
            "50/50 [==============================] - 0s 3ms/step - loss: 0.5035 - accuracy: 0.7928\n",
            "13/13 [==============================] - 0s 2ms/step - loss: 0.4728 - accuracy: 0.8100\n",
            "Epoch 1/30\n",
            "50/50 [==============================] - 1s 3ms/step - loss: 3.1910 - accuracy: 0.7931\n",
            "Epoch 2/30\n",
            "50/50 [==============================] - 0s 3ms/step - loss: 3.1910 - accuracy: 0.7931\n",
            "Epoch 3/30\n",
            "50/50 [==============================] - 0s 3ms/step - loss: 3.1910 - accuracy: 0.7931\n",
            "Epoch 4/30\n",
            "50/50 [==============================] - 0s 3ms/step - loss: 3.1910 - accuracy: 0.7931\n",
            "Epoch 5/30\n",
            "50/50 [==============================] - 0s 3ms/step - loss: 3.1910 - accuracy: 0.7931\n",
            "Epoch 6/30\n",
            "50/50 [==============================] - 0s 3ms/step - loss: 3.1910 - accuracy: 0.7931\n",
            "Epoch 7/30\n",
            "50/50 [==============================] - 0s 3ms/step - loss: 3.1910 - accuracy: 0.7931\n",
            "Epoch 8/30\n",
            "50/50 [==============================] - 0s 3ms/step - loss: 3.1910 - accuracy: 0.7931\n",
            "Epoch 9/30\n",
            "50/50 [==============================] - 0s 3ms/step - loss: 3.1910 - accuracy: 0.7931\n",
            "Epoch 10/30\n",
            "50/50 [==============================] - 0s 3ms/step - loss: 3.1910 - accuracy: 0.7931\n",
            "Epoch 11/30\n",
            "50/50 [==============================] - 0s 3ms/step - loss: 3.1910 - accuracy: 0.7931\n",
            "Epoch 12/30\n",
            "50/50 [==============================] - 0s 3ms/step - loss: 3.1910 - accuracy: 0.7931\n",
            "Epoch 13/30\n",
            "50/50 [==============================] - 0s 3ms/step - loss: 3.1910 - accuracy: 0.7931\n",
            "Epoch 14/30\n",
            "50/50 [==============================] - 0s 3ms/step - loss: 3.1910 - accuracy: 0.7931\n",
            "Epoch 15/30\n",
            "50/50 [==============================] - 0s 3ms/step - loss: 3.1910 - accuracy: 0.7931\n",
            "Epoch 16/30\n",
            "50/50 [==============================] - 0s 3ms/step - loss: 3.1910 - accuracy: 0.7931\n",
            "Epoch 17/30\n",
            "50/50 [==============================] - 0s 3ms/step - loss: 3.1910 - accuracy: 0.7931\n",
            "Epoch 18/30\n",
            "50/50 [==============================] - 0s 3ms/step - loss: 3.1910 - accuracy: 0.7931\n",
            "Epoch 19/30\n",
            "50/50 [==============================] - 0s 3ms/step - loss: 3.1910 - accuracy: 0.7931\n",
            "Epoch 20/30\n",
            "50/50 [==============================] - 0s 3ms/step - loss: 3.1910 - accuracy: 0.7931\n",
            "Epoch 21/30\n",
            "50/50 [==============================] - 0s 3ms/step - loss: 3.1910 - accuracy: 0.7931\n",
            "Epoch 22/30\n",
            "50/50 [==============================] - 0s 3ms/step - loss: 3.1910 - accuracy: 0.7931\n",
            "Epoch 23/30\n",
            "50/50 [==============================] - 0s 3ms/step - loss: 3.1910 - accuracy: 0.7931\n",
            "Epoch 24/30\n",
            "50/50 [==============================] - 0s 3ms/step - loss: 3.1910 - accuracy: 0.7931\n",
            "Epoch 25/30\n",
            "50/50 [==============================] - 0s 3ms/step - loss: 3.1910 - accuracy: 0.7931\n",
            "Epoch 26/30\n",
            "50/50 [==============================] - 0s 3ms/step - loss: 3.1910 - accuracy: 0.7931\n",
            "Epoch 27/30\n",
            "50/50 [==============================] - 0s 3ms/step - loss: 3.1910 - accuracy: 0.7931\n",
            "Epoch 28/30\n",
            "50/50 [==============================] - 0s 4ms/step - loss: 3.1910 - accuracy: 0.7931\n",
            "Epoch 29/30\n",
            "50/50 [==============================] - 0s 3ms/step - loss: 3.1910 - accuracy: 0.7931\n",
            "Epoch 30/30\n",
            "50/50 [==============================] - 0s 3ms/step - loss: 3.1910 - accuracy: 0.7931\n",
            "13/13 [==============================] - 0s 3ms/step - loss: 2.9500 - accuracy: 0.8087\n",
            "Epoch 1/30\n",
            "50/50 [==============================] - 1s 3ms/step - loss: 0.5036 - accuracy: 0.7997\n",
            "Epoch 2/30\n",
            "50/50 [==============================] - 0s 3ms/step - loss: 0.4937 - accuracy: 0.7997\n",
            "Epoch 3/30\n",
            "50/50 [==============================] - 0s 4ms/step - loss: 0.4928 - accuracy: 0.7997\n",
            "Epoch 4/30\n",
            "50/50 [==============================] - 0s 3ms/step - loss: 0.4927 - accuracy: 0.7997\n",
            "Epoch 5/30\n",
            "50/50 [==============================] - 0s 3ms/step - loss: 0.4929 - accuracy: 0.7997\n",
            "Epoch 6/30\n",
            "50/50 [==============================] - 0s 3ms/step - loss: 0.4928 - accuracy: 0.7997\n",
            "Epoch 7/30\n",
            "50/50 [==============================] - 0s 3ms/step - loss: 0.4931 - accuracy: 0.7997\n",
            "Epoch 8/30\n",
            "50/50 [==============================] - 0s 3ms/step - loss: 0.4923 - accuracy: 0.7997\n",
            "Epoch 9/30\n",
            "50/50 [==============================] - 0s 4ms/step - loss: 0.4921 - accuracy: 0.7997\n",
            "Epoch 10/30\n",
            "50/50 [==============================] - 0s 3ms/step - loss: 0.4933 - accuracy: 0.7997\n",
            "Epoch 11/30\n",
            "50/50 [==============================] - 0s 3ms/step - loss: 0.4926 - accuracy: 0.7997\n",
            "Epoch 12/30\n",
            "50/50 [==============================] - 0s 3ms/step - loss: 0.4927 - accuracy: 0.7997\n",
            "Epoch 13/30\n",
            "50/50 [==============================] - 0s 3ms/step - loss: 0.4923 - accuracy: 0.7997\n",
            "Epoch 14/30\n",
            "50/50 [==============================] - 0s 3ms/step - loss: 0.4926 - accuracy: 0.7997\n",
            "Epoch 15/30\n",
            "50/50 [==============================] - 0s 3ms/step - loss: 0.4930 - accuracy: 0.7997\n",
            "Epoch 16/30\n",
            "50/50 [==============================] - 0s 4ms/step - loss: 0.4916 - accuracy: 0.7997\n",
            "Epoch 17/30\n",
            "50/50 [==============================] - 0s 3ms/step - loss: 0.4927 - accuracy: 0.7997\n",
            "Epoch 18/30\n",
            "50/50 [==============================] - 0s 3ms/step - loss: 0.4920 - accuracy: 0.7997\n",
            "Epoch 19/30\n",
            "50/50 [==============================] - 0s 3ms/step - loss: 0.4922 - accuracy: 0.7997\n",
            "Epoch 20/30\n",
            "50/50 [==============================] - 0s 3ms/step - loss: 0.4922 - accuracy: 0.7997\n",
            "Epoch 21/30\n",
            "50/50 [==============================] - 0s 3ms/step - loss: 0.4921 - accuracy: 0.7997\n",
            "Epoch 22/30\n",
            "50/50 [==============================] - 0s 4ms/step - loss: 0.4924 - accuracy: 0.7997\n",
            "Epoch 23/30\n",
            "50/50 [==============================] - 0s 3ms/step - loss: 0.4926 - accuracy: 0.7997\n",
            "Epoch 24/30\n",
            "50/50 [==============================] - 0s 3ms/step - loss: 0.4923 - accuracy: 0.7997\n",
            "Epoch 25/30\n",
            "50/50 [==============================] - 0s 3ms/step - loss: 0.4923 - accuracy: 0.7997\n",
            "Epoch 26/30\n",
            "50/50 [==============================] - 0s 3ms/step - loss: 0.4923 - accuracy: 0.7997\n",
            "Epoch 27/30\n",
            "50/50 [==============================] - 0s 3ms/step - loss: 0.4921 - accuracy: 0.7997\n",
            "Epoch 28/30\n",
            "50/50 [==============================] - 0s 4ms/step - loss: 0.4928 - accuracy: 0.7997\n",
            "Epoch 29/30\n",
            "50/50 [==============================] - 0s 3ms/step - loss: 0.4926 - accuracy: 0.7997\n",
            "Epoch 30/30\n",
            "50/50 [==============================] - 0s 3ms/step - loss: 0.4927 - accuracy: 0.7997\n",
            "13/13 [==============================] - 0s 2ms/step - loss: 0.5185 - accuracy: 0.7825\n",
            "Epoch 1/30\n",
            "50/50 [==============================] - 1s 3ms/step - loss: 0.5219 - accuracy: 0.7953\n",
            "Epoch 2/30\n",
            "50/50 [==============================] - 0s 3ms/step - loss: 0.4993 - accuracy: 0.7953\n",
            "Epoch 3/30\n",
            "50/50 [==============================] - 0s 3ms/step - loss: 0.4991 - accuracy: 0.7953\n",
            "Epoch 4/30\n",
            "50/50 [==============================] - 0s 3ms/step - loss: 0.4988 - accuracy: 0.7953\n",
            "Epoch 5/30\n",
            "50/50 [==============================] - 0s 4ms/step - loss: 0.4990 - accuracy: 0.7953\n",
            "Epoch 6/30\n",
            "50/50 [==============================] - 0s 3ms/step - loss: 0.4990 - accuracy: 0.7953\n",
            "Epoch 7/30\n",
            "50/50 [==============================] - 0s 3ms/step - loss: 0.4987 - accuracy: 0.7953\n",
            "Epoch 8/30\n",
            "50/50 [==============================] - 0s 4ms/step - loss: 0.4986 - accuracy: 0.7953\n",
            "Epoch 9/30\n",
            "50/50 [==============================] - 0s 3ms/step - loss: 0.4992 - accuracy: 0.7953\n",
            "Epoch 10/30\n",
            "50/50 [==============================] - 0s 4ms/step - loss: 0.4986 - accuracy: 0.7953\n",
            "Epoch 11/30\n",
            "50/50 [==============================] - 0s 3ms/step - loss: 0.4988 - accuracy: 0.7953\n",
            "Epoch 12/30\n",
            "50/50 [==============================] - 0s 3ms/step - loss: 0.4989 - accuracy: 0.7953\n",
            "Epoch 13/30\n",
            "50/50 [==============================] - 0s 3ms/step - loss: 0.4991 - accuracy: 0.7953\n",
            "Epoch 14/30\n",
            "50/50 [==============================] - 0s 4ms/step - loss: 0.4985 - accuracy: 0.7953\n",
            "Epoch 15/30\n",
            "50/50 [==============================] - 0s 4ms/step - loss: 0.4985 - accuracy: 0.7953\n",
            "Epoch 16/30\n",
            "50/50 [==============================] - 0s 3ms/step - loss: 0.4984 - accuracy: 0.7953\n",
            "Epoch 17/30\n",
            "50/50 [==============================] - 0s 3ms/step - loss: 0.4989 - accuracy: 0.7953\n",
            "Epoch 18/30\n",
            "50/50 [==============================] - 0s 3ms/step - loss: 0.4986 - accuracy: 0.7953\n",
            "Epoch 19/30\n",
            "50/50 [==============================] - 0s 3ms/step - loss: 0.4985 - accuracy: 0.7953\n",
            "Epoch 20/30\n",
            "50/50 [==============================] - 0s 3ms/step - loss: 0.4986 - accuracy: 0.7953\n",
            "Epoch 21/30\n",
            "50/50 [==============================] - 0s 3ms/step - loss: 0.4989 - accuracy: 0.7953\n",
            "Epoch 22/30\n",
            "50/50 [==============================] - 0s 3ms/step - loss: 0.4982 - accuracy: 0.7953\n",
            "Epoch 23/30\n",
            "50/50 [==============================] - 0s 3ms/step - loss: 0.4984 - accuracy: 0.7953\n",
            "Epoch 24/30\n",
            "50/50 [==============================] - 0s 3ms/step - loss: 0.4984 - accuracy: 0.7953\n",
            "Epoch 25/30\n",
            "50/50 [==============================] - 0s 3ms/step - loss: 0.4983 - accuracy: 0.7953\n",
            "Epoch 26/30\n",
            "50/50 [==============================] - 0s 3ms/step - loss: 0.4987 - accuracy: 0.7953\n",
            "Epoch 27/30\n",
            "50/50 [==============================] - 0s 3ms/step - loss: 0.4986 - accuracy: 0.7953\n",
            "Epoch 28/30\n",
            "50/50 [==============================] - 0s 3ms/step - loss: 0.4987 - accuracy: 0.7953\n",
            "Epoch 29/30\n",
            "50/50 [==============================] - 0s 3ms/step - loss: 0.4989 - accuracy: 0.7953\n",
            "Epoch 30/30\n",
            "50/50 [==============================] - 0s 3ms/step - loss: 0.4988 - accuracy: 0.7953\n",
            "13/13 [==============================] - 0s 2ms/step - loss: 0.4929 - accuracy: 0.8000\n",
            "Epoch 1/30\n",
            "25/25 [==============================] - 1s 2ms/step - loss: 0.5760 - accuracy: 0.7344\n",
            "Epoch 2/30\n",
            "25/25 [==============================] - 0s 3ms/step - loss: 0.5359 - accuracy: 0.7983\n",
            "Epoch 3/30\n",
            "25/25 [==============================] - 0s 3ms/step - loss: 0.5109 - accuracy: 0.8003\n",
            "Epoch 4/30\n",
            "25/25 [==============================] - 0s 3ms/step - loss: 0.5010 - accuracy: 0.8003\n",
            "Epoch 5/30\n",
            "25/25 [==============================] - 0s 3ms/step - loss: 0.4960 - accuracy: 0.8003\n",
            "Epoch 6/30\n",
            "25/25 [==============================] - 0s 3ms/step - loss: 0.4938 - accuracy: 0.8003\n",
            "Epoch 7/30\n",
            "25/25 [==============================] - 0s 3ms/step - loss: 0.4929 - accuracy: 0.8003\n",
            "Epoch 8/30\n",
            "25/25 [==============================] - 0s 3ms/step - loss: 0.4923 - accuracy: 0.8003\n",
            "Epoch 9/30\n",
            "25/25 [==============================] - 0s 3ms/step - loss: 0.4924 - accuracy: 0.8003\n",
            "Epoch 10/30\n",
            "25/25 [==============================] - 0s 3ms/step - loss: 0.4918 - accuracy: 0.8003\n",
            "Epoch 11/30\n",
            "25/25 [==============================] - 0s 4ms/step - loss: 0.4918 - accuracy: 0.8003\n",
            "Epoch 12/30\n",
            "25/25 [==============================] - 0s 4ms/step - loss: 0.4918 - accuracy: 0.8003\n",
            "Epoch 13/30\n",
            "25/25 [==============================] - 0s 3ms/step - loss: 0.4919 - accuracy: 0.8003\n",
            "Epoch 14/30\n",
            "25/25 [==============================] - 0s 3ms/step - loss: 0.4918 - accuracy: 0.8003\n",
            "Epoch 15/30\n",
            "25/25 [==============================] - 0s 3ms/step - loss: 0.4921 - accuracy: 0.8003\n",
            "Epoch 16/30\n",
            "25/25 [==============================] - 0s 4ms/step - loss: 0.4917 - accuracy: 0.8003\n",
            "Epoch 17/30\n",
            "25/25 [==============================] - 0s 3ms/step - loss: 0.4921 - accuracy: 0.8003\n",
            "Epoch 18/30\n",
            "25/25 [==============================] - 0s 3ms/step - loss: 0.4920 - accuracy: 0.8003\n",
            "Epoch 19/30\n",
            "25/25 [==============================] - 0s 4ms/step - loss: 0.4923 - accuracy: 0.8003\n",
            "Epoch 20/30\n",
            "25/25 [==============================] - 0s 3ms/step - loss: 0.4916 - accuracy: 0.8003\n",
            "Epoch 21/30\n",
            "25/25 [==============================] - 0s 3ms/step - loss: 0.4919 - accuracy: 0.8003\n",
            "Epoch 22/30\n",
            "25/25 [==============================] - 0s 4ms/step - loss: 0.4920 - accuracy: 0.8003\n",
            "Epoch 23/30\n",
            "25/25 [==============================] - 0s 3ms/step - loss: 0.4917 - accuracy: 0.8003\n",
            "Epoch 24/30\n",
            "25/25 [==============================] - 0s 3ms/step - loss: 0.4913 - accuracy: 0.8003\n",
            "Epoch 25/30\n",
            "25/25 [==============================] - 0s 3ms/step - loss: 0.4913 - accuracy: 0.8003\n",
            "Epoch 26/30\n",
            "25/25 [==============================] - 0s 3ms/step - loss: 0.4919 - accuracy: 0.8003\n",
            "Epoch 27/30\n",
            "25/25 [==============================] - 0s 3ms/step - loss: 0.4913 - accuracy: 0.8003\n",
            "Epoch 28/30\n",
            "25/25 [==============================] - 0s 3ms/step - loss: 0.4916 - accuracy: 0.8003\n",
            "Epoch 29/30\n",
            "25/25 [==============================] - 0s 3ms/step - loss: 0.4914 - accuracy: 0.8003\n",
            "Epoch 30/30\n",
            "25/25 [==============================] - 0s 3ms/step - loss: 0.4914 - accuracy: 0.8003\n",
            "7/7 [==============================] - 0s 2ms/step - loss: 0.5218 - accuracy: 0.7800\n",
            "Epoch 1/30\n",
            "25/25 [==============================] - 0s 2ms/step - loss: 3.1959 - accuracy: 0.7928\n",
            "Epoch 2/30\n",
            "25/25 [==============================] - 0s 3ms/step - loss: 3.1959 - accuracy: 0.7928\n",
            "Epoch 3/30\n",
            "25/25 [==============================] - 0s 4ms/step - loss: 3.1959 - accuracy: 0.7928\n",
            "Epoch 4/30\n",
            "25/25 [==============================] - 0s 3ms/step - loss: 3.1959 - accuracy: 0.7928\n",
            "Epoch 5/30\n",
            "25/25 [==============================] - 0s 3ms/step - loss: 3.1959 - accuracy: 0.7928\n",
            "Epoch 6/30\n",
            "25/25 [==============================] - 0s 3ms/step - loss: 3.1959 - accuracy: 0.7928\n",
            "Epoch 7/30\n",
            "25/25 [==============================] - 0s 3ms/step - loss: 3.1959 - accuracy: 0.7928\n",
            "Epoch 8/30\n",
            "25/25 [==============================] - 0s 3ms/step - loss: 3.1959 - accuracy: 0.7928\n",
            "Epoch 9/30\n",
            "25/25 [==============================] - 0s 4ms/step - loss: 3.1959 - accuracy: 0.7928\n",
            "Epoch 10/30\n",
            "25/25 [==============================] - 0s 3ms/step - loss: 3.1959 - accuracy: 0.7928\n",
            "Epoch 11/30\n",
            "25/25 [==============================] - 0s 3ms/step - loss: 3.1959 - accuracy: 0.7928\n",
            "Epoch 12/30\n",
            "25/25 [==============================] - 0s 3ms/step - loss: 3.1959 - accuracy: 0.7928\n",
            "Epoch 13/30\n",
            "25/25 [==============================] - 0s 4ms/step - loss: 3.1959 - accuracy: 0.7928\n",
            "Epoch 14/30\n",
            "25/25 [==============================] - 0s 4ms/step - loss: 3.1959 - accuracy: 0.7928\n",
            "Epoch 15/30\n",
            "25/25 [==============================] - 0s 3ms/step - loss: 3.1959 - accuracy: 0.7928\n",
            "Epoch 16/30\n",
            "25/25 [==============================] - 0s 3ms/step - loss: 3.1959 - accuracy: 0.7928\n",
            "Epoch 17/30\n",
            "25/25 [==============================] - 0s 3ms/step - loss: 3.1959 - accuracy: 0.7928\n",
            "Epoch 18/30\n",
            "25/25 [==============================] - 0s 3ms/step - loss: 3.1959 - accuracy: 0.7928\n",
            "Epoch 19/30\n",
            "25/25 [==============================] - 0s 3ms/step - loss: 3.1959 - accuracy: 0.7928\n",
            "Epoch 20/30\n",
            "25/25 [==============================] - 0s 4ms/step - loss: 3.1959 - accuracy: 0.7928\n",
            "Epoch 21/30\n",
            "25/25 [==============================] - 0s 3ms/step - loss: 3.1959 - accuracy: 0.7928\n",
            "Epoch 22/30\n",
            "25/25 [==============================] - 0s 3ms/step - loss: 3.1959 - accuracy: 0.7928\n",
            "Epoch 23/30\n",
            "25/25 [==============================] - 0s 3ms/step - loss: 3.1959 - accuracy: 0.7928\n",
            "Epoch 24/30\n",
            "25/25 [==============================] - 0s 3ms/step - loss: 3.1959 - accuracy: 0.7928\n",
            "Epoch 25/30\n",
            "25/25 [==============================] - 0s 4ms/step - loss: 3.1959 - accuracy: 0.7928\n",
            "Epoch 26/30\n",
            "25/25 [==============================] - 0s 3ms/step - loss: 3.1959 - accuracy: 0.7928\n",
            "Epoch 27/30\n",
            "25/25 [==============================] - 0s 3ms/step - loss: 3.1959 - accuracy: 0.7928\n",
            "Epoch 28/30\n",
            "25/25 [==============================] - 0s 3ms/step - loss: 3.1959 - accuracy: 0.7928\n",
            "Epoch 29/30\n",
            "25/25 [==============================] - 0s 3ms/step - loss: 3.1959 - accuracy: 0.7928\n",
            "Epoch 30/30\n",
            "25/25 [==============================] - 0s 3ms/step - loss: 3.1959 - accuracy: 0.7928\n",
            "7/7 [==============================] - 0s 5ms/step - loss: 2.9307 - accuracy: 0.8100\n",
            "Epoch 1/30\n",
            "25/25 [==============================] - 0s 3ms/step - loss: 0.5201 - accuracy: 0.7931\n",
            "Epoch 2/30\n",
            "25/25 [==============================] - 0s 3ms/step - loss: 0.5127 - accuracy: 0.7931\n",
            "Epoch 3/30\n",
            "25/25 [==============================] - 0s 3ms/step - loss: 0.5080 - accuracy: 0.7931\n",
            "Epoch 4/30\n",
            "25/25 [==============================] - 0s 4ms/step - loss: 0.5052 - accuracy: 0.7931\n",
            "Epoch 5/30\n",
            "25/25 [==============================] - 0s 3ms/step - loss: 0.5037 - accuracy: 0.7931\n",
            "Epoch 6/30\n",
            "25/25 [==============================] - 0s 3ms/step - loss: 0.5029 - accuracy: 0.7931\n",
            "Epoch 7/30\n",
            "25/25 [==============================] - 0s 3ms/step - loss: 0.5026 - accuracy: 0.7931\n",
            "Epoch 8/30\n",
            "25/25 [==============================] - 0s 3ms/step - loss: 0.5023 - accuracy: 0.7931\n",
            "Epoch 9/30\n",
            "25/25 [==============================] - 0s 3ms/step - loss: 0.5020 - accuracy: 0.7931\n",
            "Epoch 10/30\n",
            "25/25 [==============================] - 0s 3ms/step - loss: 0.5020 - accuracy: 0.7931\n",
            "Epoch 11/30\n",
            "25/25 [==============================] - 0s 3ms/step - loss: 0.5016 - accuracy: 0.7931\n",
            "Epoch 12/30\n",
            "25/25 [==============================] - 0s 3ms/step - loss: 0.5017 - accuracy: 0.7931\n",
            "Epoch 13/30\n",
            "25/25 [==============================] - 0s 3ms/step - loss: 0.5018 - accuracy: 0.7931\n",
            "Epoch 14/30\n",
            "25/25 [==============================] - 0s 2ms/step - loss: 0.5018 - accuracy: 0.7931\n",
            "Epoch 15/30\n",
            "25/25 [==============================] - 0s 3ms/step - loss: 0.5016 - accuracy: 0.7931\n",
            "Epoch 16/30\n",
            "25/25 [==============================] - 0s 3ms/step - loss: 0.5019 - accuracy: 0.7931\n",
            "Epoch 17/30\n",
            "25/25 [==============================] - 0s 3ms/step - loss: 0.5015 - accuracy: 0.7931\n",
            "Epoch 18/30\n",
            "25/25 [==============================] - 0s 3ms/step - loss: 0.5015 - accuracy: 0.7931\n",
            "Epoch 19/30\n",
            "25/25 [==============================] - 0s 2ms/step - loss: 0.5014 - accuracy: 0.7931\n",
            "Epoch 20/30\n",
            "25/25 [==============================] - 0s 3ms/step - loss: 0.5014 - accuracy: 0.7931\n",
            "Epoch 21/30\n",
            "25/25 [==============================] - 0s 3ms/step - loss: 0.5014 - accuracy: 0.7931\n",
            "Epoch 22/30\n",
            "25/25 [==============================] - 0s 3ms/step - loss: 0.5013 - accuracy: 0.7931\n",
            "Epoch 23/30\n",
            "25/25 [==============================] - 0s 3ms/step - loss: 0.5015 - accuracy: 0.7931\n",
            "Epoch 24/30\n",
            "25/25 [==============================] - 0s 3ms/step - loss: 0.5013 - accuracy: 0.7931\n",
            "Epoch 25/30\n",
            "25/25 [==============================] - 0s 3ms/step - loss: 0.5016 - accuracy: 0.7931\n",
            "Epoch 26/30\n",
            "25/25 [==============================] - 0s 3ms/step - loss: 0.5014 - accuracy: 0.7931\n",
            "Epoch 27/30\n",
            "25/25 [==============================] - 0s 3ms/step - loss: 0.5013 - accuracy: 0.7931\n",
            "Epoch 28/30\n",
            "25/25 [==============================] - 0s 3ms/step - loss: 0.5013 - accuracy: 0.7931\n",
            "Epoch 29/30\n",
            "25/25 [==============================] - 0s 3ms/step - loss: 0.5013 - accuracy: 0.7931\n",
            "Epoch 30/30\n",
            "25/25 [==============================] - 0s 4ms/step - loss: 0.5014 - accuracy: 0.7931\n",
            "7/7 [==============================] - 0s 4ms/step - loss: 0.4837 - accuracy: 0.8087\n",
            "Epoch 1/30\n",
            "25/25 [==============================] - 0s 2ms/step - loss: 2.2223 - accuracy: 0.7997\n",
            "Epoch 2/30\n",
            "25/25 [==============================] - 0s 3ms/step - loss: 1.0051 - accuracy: 0.7997\n",
            "Epoch 3/30\n",
            "25/25 [==============================] - 0s 3ms/step - loss: 0.5620 - accuracy: 0.7997\n",
            "Epoch 4/30\n",
            "25/25 [==============================] - 0s 3ms/step - loss: 0.5362 - accuracy: 0.7997\n",
            "Epoch 5/30\n",
            "25/25 [==============================] - 0s 3ms/step - loss: 0.5233 - accuracy: 0.7997\n",
            "Epoch 6/30\n",
            "25/25 [==============================] - 0s 3ms/step - loss: 0.5129 - accuracy: 0.7997\n",
            "Epoch 7/30\n",
            "25/25 [==============================] - 0s 3ms/step - loss: 0.5051 - accuracy: 0.7997\n",
            "Epoch 8/30\n",
            "25/25 [==============================] - 0s 3ms/step - loss: 0.5002 - accuracy: 0.7997\n",
            "Epoch 9/30\n",
            "25/25 [==============================] - 0s 3ms/step - loss: 0.4975 - accuracy: 0.7997\n",
            "Epoch 10/30\n",
            "25/25 [==============================] - 0s 4ms/step - loss: 0.4961 - accuracy: 0.7997\n",
            "Epoch 11/30\n",
            "25/25 [==============================] - 0s 3ms/step - loss: 0.4954 - accuracy: 0.7997\n",
            "Epoch 12/30\n",
            "25/25 [==============================] - 0s 3ms/step - loss: 0.4950 - accuracy: 0.7997\n",
            "Epoch 13/30\n",
            "25/25 [==============================] - 0s 3ms/step - loss: 0.4948 - accuracy: 0.7997\n",
            "Epoch 14/30\n",
            "25/25 [==============================] - 0s 3ms/step - loss: 0.4946 - accuracy: 0.7997\n",
            "Epoch 15/30\n",
            "25/25 [==============================] - 0s 3ms/step - loss: 0.4945 - accuracy: 0.7997\n",
            "Epoch 16/30\n",
            "25/25 [==============================] - 0s 3ms/step - loss: 0.4944 - accuracy: 0.7997\n",
            "Epoch 17/30\n",
            "25/25 [==============================] - 0s 3ms/step - loss: 0.4943 - accuracy: 0.7997\n",
            "Epoch 18/30\n",
            "25/25 [==============================] - 0s 2ms/step - loss: 0.4942 - accuracy: 0.7997\n",
            "Epoch 19/30\n",
            "25/25 [==============================] - 0s 3ms/step - loss: 0.4941 - accuracy: 0.7997\n",
            "Epoch 20/30\n",
            "25/25 [==============================] - 0s 2ms/step - loss: 0.4940 - accuracy: 0.7997\n",
            "Epoch 21/30\n",
            "25/25 [==============================] - 0s 3ms/step - loss: 0.4939 - accuracy: 0.7997\n",
            "Epoch 22/30\n",
            "25/25 [==============================] - 0s 3ms/step - loss: 0.4939 - accuracy: 0.7997\n",
            "Epoch 23/30\n",
            "25/25 [==============================] - 0s 3ms/step - loss: 0.4937 - accuracy: 0.7997\n",
            "Epoch 24/30\n",
            "25/25 [==============================] - 0s 3ms/step - loss: 0.4936 - accuracy: 0.7997\n",
            "Epoch 25/30\n",
            "25/25 [==============================] - 0s 3ms/step - loss: 0.4936 - accuracy: 0.7997\n",
            "Epoch 26/30\n",
            "25/25 [==============================] - 0s 3ms/step - loss: 0.4935 - accuracy: 0.7997\n",
            "Epoch 27/30\n",
            "25/25 [==============================] - 0s 3ms/step - loss: 0.4934 - accuracy: 0.7997\n",
            "Epoch 28/30\n",
            "25/25 [==============================] - 0s 4ms/step - loss: 0.4934 - accuracy: 0.7997\n",
            "Epoch 29/30\n",
            "25/25 [==============================] - 0s 5ms/step - loss: 0.4934 - accuracy: 0.7997\n",
            "Epoch 30/30\n",
            "25/25 [==============================] - 0s 4ms/step - loss: 0.4932 - accuracy: 0.7997\n",
            "7/7 [==============================] - 0s 2ms/step - loss: 0.5210 - accuracy: 0.7825\n",
            "Epoch 1/30\n",
            "25/25 [==============================] - 0s 2ms/step - loss: 2.0261 - accuracy: 0.7953\n",
            "Epoch 2/30\n",
            "25/25 [==============================] - 0s 3ms/step - loss: 1.0997 - accuracy: 0.7953\n",
            "Epoch 3/30\n",
            "25/25 [==============================] - 0s 4ms/step - loss: 0.9152 - accuracy: 0.7953\n",
            "Epoch 4/30\n",
            "25/25 [==============================] - 0s 3ms/step - loss: 0.7844 - accuracy: 0.7953\n",
            "Epoch 5/30\n",
            "25/25 [==============================] - 0s 3ms/step - loss: 0.6144 - accuracy: 0.7953\n",
            "Epoch 6/30\n",
            "25/25 [==============================] - 0s 3ms/step - loss: 0.5363 - accuracy: 0.7953\n",
            "Epoch 7/30\n",
            "25/25 [==============================] - 0s 3ms/step - loss: 0.5142 - accuracy: 0.7953\n",
            "Epoch 8/30\n",
            "25/25 [==============================] - 0s 3ms/step - loss: 0.5039 - accuracy: 0.7953\n",
            "Epoch 9/30\n",
            "25/25 [==============================] - 0s 3ms/step - loss: 0.5015 - accuracy: 0.7953\n",
            "Epoch 10/30\n",
            "25/25 [==============================] - 0s 3ms/step - loss: 0.5012 - accuracy: 0.7953\n",
            "Epoch 11/30\n",
            "25/25 [==============================] - 0s 3ms/step - loss: 0.5011 - accuracy: 0.7953\n",
            "Epoch 12/30\n",
            "25/25 [==============================] - 0s 3ms/step - loss: 0.5010 - accuracy: 0.7953\n",
            "Epoch 13/30\n",
            "25/25 [==============================] - 0s 3ms/step - loss: 0.5008 - accuracy: 0.7953\n",
            "Epoch 14/30\n",
            "25/25 [==============================] - 0s 3ms/step - loss: 0.5007 - accuracy: 0.7953\n",
            "Epoch 15/30\n",
            "25/25 [==============================] - 0s 3ms/step - loss: 0.5006 - accuracy: 0.7953\n",
            "Epoch 16/30\n",
            "25/25 [==============================] - 0s 3ms/step - loss: 0.5005 - accuracy: 0.7953\n",
            "Epoch 17/30\n",
            "25/25 [==============================] - 0s 3ms/step - loss: 0.5004 - accuracy: 0.7953\n",
            "Epoch 18/30\n",
            "25/25 [==============================] - 0s 4ms/step - loss: 0.5003 - accuracy: 0.7953\n",
            "Epoch 19/30\n",
            "25/25 [==============================] - 0s 3ms/step - loss: 0.5003 - accuracy: 0.7953\n",
            "Epoch 20/30\n",
            "25/25 [==============================] - 0s 3ms/step - loss: 0.5002 - accuracy: 0.7953\n",
            "Epoch 21/30\n",
            "25/25 [==============================] - 0s 3ms/step - loss: 0.5001 - accuracy: 0.7953\n",
            "Epoch 22/30\n",
            "25/25 [==============================] - 0s 3ms/step - loss: 0.5001 - accuracy: 0.7953\n",
            "Epoch 23/30\n",
            "25/25 [==============================] - 0s 3ms/step - loss: 0.5000 - accuracy: 0.7953\n",
            "Epoch 24/30\n",
            "25/25 [==============================] - 0s 3ms/step - loss: 0.5000 - accuracy: 0.7953\n",
            "Epoch 25/30\n",
            "25/25 [==============================] - 0s 3ms/step - loss: 0.4999 - accuracy: 0.7953\n",
            "Epoch 26/30\n",
            "25/25 [==============================] - 0s 3ms/step - loss: 0.4999 - accuracy: 0.7953\n",
            "Epoch 27/30\n",
            "25/25 [==============================] - 0s 3ms/step - loss: 0.4998 - accuracy: 0.7953\n",
            "Epoch 28/30\n",
            "25/25 [==============================] - 0s 3ms/step - loss: 0.4998 - accuracy: 0.7953\n",
            "Epoch 29/30\n",
            "25/25 [==============================] - 0s 2ms/step - loss: 0.4997 - accuracy: 0.7953\n",
            "Epoch 30/30\n",
            "25/25 [==============================] - 0s 3ms/step - loss: 0.4997 - accuracy: 0.7953\n",
            "7/7 [==============================] - 0s 3ms/step - loss: 0.4924 - accuracy: 0.8000\n",
            "Epoch 1/30\n",
            "25/25 [==============================] - 1s 3ms/step - loss: 0.9143 - accuracy: 0.8003\n",
            "Epoch 2/30\n",
            "25/25 [==============================] - 0s 3ms/step - loss: 0.4927 - accuracy: 0.8003\n",
            "Epoch 3/30\n",
            "25/25 [==============================] - 0s 4ms/step - loss: 0.4923 - accuracy: 0.8003\n",
            "Epoch 4/30\n",
            "25/25 [==============================] - 0s 3ms/step - loss: 0.4917 - accuracy: 0.8003\n",
            "Epoch 5/30\n",
            "25/25 [==============================] - 0s 3ms/step - loss: 0.4915 - accuracy: 0.8003\n",
            "Epoch 6/30\n",
            "25/25 [==============================] - 0s 3ms/step - loss: 0.4914 - accuracy: 0.8003\n",
            "Epoch 7/30\n",
            "25/25 [==============================] - 0s 3ms/step - loss: 0.4914 - accuracy: 0.8003\n",
            "Epoch 8/30\n",
            "25/25 [==============================] - 0s 4ms/step - loss: 0.4913 - accuracy: 0.8003\n",
            "Epoch 9/30\n",
            "25/25 [==============================] - 0s 4ms/step - loss: 0.4913 - accuracy: 0.8003\n",
            "Epoch 10/30\n",
            "25/25 [==============================] - 0s 4ms/step - loss: 0.4913 - accuracy: 0.8003\n",
            "Epoch 11/30\n",
            "25/25 [==============================] - 0s 3ms/step - loss: 0.4912 - accuracy: 0.8003\n",
            "Epoch 12/30\n",
            "25/25 [==============================] - 0s 4ms/step - loss: 0.4912 - accuracy: 0.8003\n",
            "Epoch 13/30\n",
            "25/25 [==============================] - 0s 4ms/step - loss: 0.4912 - accuracy: 0.8003\n",
            "Epoch 14/30\n",
            "25/25 [==============================] - 0s 3ms/step - loss: 0.4912 - accuracy: 0.8003\n",
            "Epoch 15/30\n",
            "25/25 [==============================] - 0s 3ms/step - loss: 0.4910 - accuracy: 0.8003\n",
            "Epoch 16/30\n",
            "25/25 [==============================] - 0s 4ms/step - loss: 0.4910 - accuracy: 0.8003\n",
            "Epoch 17/30\n",
            "25/25 [==============================] - 0s 3ms/step - loss: 0.4911 - accuracy: 0.8003\n",
            "Epoch 18/30\n",
            "25/25 [==============================] - 0s 4ms/step - loss: 0.4910 - accuracy: 0.8003\n",
            "Epoch 19/30\n",
            "25/25 [==============================] - 0s 4ms/step - loss: 0.4910 - accuracy: 0.8003\n",
            "Epoch 20/30\n",
            "25/25 [==============================] - 0s 4ms/step - loss: 0.4910 - accuracy: 0.8003\n",
            "Epoch 21/30\n",
            "25/25 [==============================] - 0s 3ms/step - loss: 0.4910 - accuracy: 0.8003\n",
            "Epoch 22/30\n",
            "25/25 [==============================] - 0s 3ms/step - loss: 0.4910 - accuracy: 0.8003\n",
            "Epoch 23/30\n",
            "25/25 [==============================] - 0s 3ms/step - loss: 0.4910 - accuracy: 0.8003\n",
            "Epoch 24/30\n",
            "25/25 [==============================] - 0s 3ms/step - loss: 0.4910 - accuracy: 0.8003\n",
            "Epoch 25/30\n",
            "25/25 [==============================] - 0s 4ms/step - loss: 0.4910 - accuracy: 0.8003\n",
            "Epoch 26/30\n",
            "25/25 [==============================] - 0s 4ms/step - loss: 0.4910 - accuracy: 0.8003\n",
            "Epoch 27/30\n",
            "25/25 [==============================] - 0s 3ms/step - loss: 0.4909 - accuracy: 0.8003\n",
            "Epoch 28/30\n",
            "25/25 [==============================] - 0s 3ms/step - loss: 0.4910 - accuracy: 0.8003\n",
            "Epoch 29/30\n",
            "25/25 [==============================] - 0s 4ms/step - loss: 0.4909 - accuracy: 0.8003\n",
            "Epoch 30/30\n",
            "25/25 [==============================] - 0s 4ms/step - loss: 0.4909 - accuracy: 0.8003\n",
            "7/7 [==============================] - 0s 3ms/step - loss: 0.5227 - accuracy: 0.7800\n",
            "Epoch 1/30\n",
            "25/25 [==============================] - 1s 2ms/step - loss: 3.1959 - accuracy: 0.7928\n",
            "Epoch 2/30\n",
            "25/25 [==============================] - 0s 3ms/step - loss: 3.1959 - accuracy: 0.7928\n",
            "Epoch 3/30\n",
            "25/25 [==============================] - 0s 3ms/step - loss: 3.1959 - accuracy: 0.7928\n",
            "Epoch 4/30\n",
            "25/25 [==============================] - 0s 4ms/step - loss: 3.1959 - accuracy: 0.7928\n",
            "Epoch 5/30\n",
            "25/25 [==============================] - 0s 3ms/step - loss: 3.1959 - accuracy: 0.7928\n",
            "Epoch 6/30\n",
            "25/25 [==============================] - 0s 4ms/step - loss: 3.1959 - accuracy: 0.7928\n",
            "Epoch 7/30\n",
            "25/25 [==============================] - 0s 4ms/step - loss: 3.1959 - accuracy: 0.7928\n",
            "Epoch 8/30\n",
            "25/25 [==============================] - 0s 4ms/step - loss: 3.1959 - accuracy: 0.7928\n",
            "Epoch 9/30\n",
            "25/25 [==============================] - 0s 3ms/step - loss: 3.1959 - accuracy: 0.7928\n",
            "Epoch 10/30\n",
            "25/25 [==============================] - 0s 3ms/step - loss: 3.1959 - accuracy: 0.7928\n",
            "Epoch 11/30\n",
            "25/25 [==============================] - 0s 3ms/step - loss: 3.1959 - accuracy: 0.7928\n",
            "Epoch 12/30\n",
            "25/25 [==============================] - 0s 4ms/step - loss: 3.1959 - accuracy: 0.7928\n",
            "Epoch 13/30\n",
            "25/25 [==============================] - 0s 3ms/step - loss: 3.1959 - accuracy: 0.7928\n",
            "Epoch 14/30\n",
            "25/25 [==============================] - 0s 4ms/step - loss: 3.1959 - accuracy: 0.7928\n",
            "Epoch 15/30\n",
            "25/25 [==============================] - 0s 4ms/step - loss: 3.1959 - accuracy: 0.7928\n",
            "Epoch 16/30\n",
            "25/25 [==============================] - 0s 4ms/step - loss: 3.1959 - accuracy: 0.7928\n",
            "Epoch 17/30\n",
            "25/25 [==============================] - 0s 3ms/step - loss: 3.1959 - accuracy: 0.7928\n",
            "Epoch 18/30\n",
            "25/25 [==============================] - 0s 4ms/step - loss: 3.1959 - accuracy: 0.7928\n",
            "Epoch 19/30\n",
            "25/25 [==============================] - 0s 3ms/step - loss: 3.1959 - accuracy: 0.7928\n",
            "Epoch 20/30\n",
            "25/25 [==============================] - 0s 3ms/step - loss: 3.1959 - accuracy: 0.7928\n",
            "Epoch 21/30\n",
            "25/25 [==============================] - 0s 3ms/step - loss: 3.1959 - accuracy: 0.7928\n",
            "Epoch 22/30\n",
            "25/25 [==============================] - 0s 3ms/step - loss: 3.1959 - accuracy: 0.7928\n",
            "Epoch 23/30\n",
            "25/25 [==============================] - 0s 3ms/step - loss: 3.1959 - accuracy: 0.7928\n",
            "Epoch 24/30\n",
            "25/25 [==============================] - 0s 3ms/step - loss: 3.1959 - accuracy: 0.7928\n",
            "Epoch 25/30\n",
            "25/25 [==============================] - 0s 3ms/step - loss: 3.1959 - accuracy: 0.7928\n",
            "Epoch 26/30\n",
            "25/25 [==============================] - 0s 4ms/step - loss: 3.1959 - accuracy: 0.7928\n",
            "Epoch 27/30\n",
            "25/25 [==============================] - 0s 5ms/step - loss: 3.1959 - accuracy: 0.7928\n",
            "Epoch 28/30\n",
            "25/25 [==============================] - 0s 4ms/step - loss: 3.1959 - accuracy: 0.7928\n",
            "Epoch 29/30\n",
            "25/25 [==============================] - 0s 3ms/step - loss: 3.1959 - accuracy: 0.7928\n",
            "Epoch 30/30\n",
            "25/25 [==============================] - 0s 3ms/step - loss: 3.1959 - accuracy: 0.7928\n",
            "7/7 [==============================] - 0s 4ms/step - loss: 2.9307 - accuracy: 0.8100\n",
            "Epoch 1/30\n",
            "25/25 [==============================] - 1s 3ms/step - loss: 0.5192 - accuracy: 0.7931\n",
            "Epoch 2/30\n",
            "25/25 [==============================] - 0s 3ms/step - loss: 0.5042 - accuracy: 0.7931\n",
            "Epoch 3/30\n",
            "25/25 [==============================] - 0s 3ms/step - loss: 0.5024 - accuracy: 0.7931\n",
            "Epoch 4/30\n",
            "25/25 [==============================] - 0s 3ms/step - loss: 0.5022 - accuracy: 0.7931\n",
            "Epoch 5/30\n",
            "25/25 [==============================] - 0s 4ms/step - loss: 0.5015 - accuracy: 0.7931\n",
            "Epoch 6/30\n",
            "25/25 [==============================] - 0s 3ms/step - loss: 0.5017 - accuracy: 0.7931\n",
            "Epoch 7/30\n",
            "25/25 [==============================] - 0s 4ms/step - loss: 0.5015 - accuracy: 0.7931\n",
            "Epoch 8/30\n",
            "25/25 [==============================] - 0s 4ms/step - loss: 0.5011 - accuracy: 0.7931\n",
            "Epoch 9/30\n",
            "25/25 [==============================] - 0s 4ms/step - loss: 0.5013 - accuracy: 0.7931\n",
            "Epoch 10/30\n",
            "25/25 [==============================] - 0s 4ms/step - loss: 0.5013 - accuracy: 0.7931\n",
            "Epoch 11/30\n",
            "25/25 [==============================] - 0s 4ms/step - loss: 0.5011 - accuracy: 0.7931\n",
            "Epoch 12/30\n",
            "25/25 [==============================] - 0s 3ms/step - loss: 0.5015 - accuracy: 0.7931\n",
            "Epoch 13/30\n",
            "25/25 [==============================] - 0s 4ms/step - loss: 0.5015 - accuracy: 0.7931\n",
            "Epoch 14/30\n",
            "25/25 [==============================] - 0s 3ms/step - loss: 0.5009 - accuracy: 0.7931\n",
            "Epoch 15/30\n",
            "25/25 [==============================] - 0s 4ms/step - loss: 0.5012 - accuracy: 0.7931\n",
            "Epoch 16/30\n",
            "25/25 [==============================] - 0s 3ms/step - loss: 0.5012 - accuracy: 0.7931\n",
            "Epoch 17/30\n",
            "25/25 [==============================] - 0s 3ms/step - loss: 0.5011 - accuracy: 0.7931\n",
            "Epoch 18/30\n",
            "25/25 [==============================] - 0s 4ms/step - loss: 0.5011 - accuracy: 0.7931\n",
            "Epoch 19/30\n",
            "25/25 [==============================] - 0s 4ms/step - loss: 0.5023 - accuracy: 0.7931\n",
            "Epoch 20/30\n",
            "25/25 [==============================] - 0s 3ms/step - loss: 0.5007 - accuracy: 0.7931\n",
            "Epoch 21/30\n",
            "25/25 [==============================] - 0s 3ms/step - loss: 0.5012 - accuracy: 0.7931\n",
            "Epoch 22/30\n",
            "25/25 [==============================] - 0s 3ms/step - loss: 0.5015 - accuracy: 0.7931\n",
            "Epoch 23/30\n",
            "25/25 [==============================] - 0s 3ms/step - loss: 0.5009 - accuracy: 0.7931\n",
            "Epoch 24/30\n",
            "25/25 [==============================] - 0s 3ms/step - loss: 0.5009 - accuracy: 0.7931\n",
            "Epoch 25/30\n",
            "25/25 [==============================] - 0s 4ms/step - loss: 0.5010 - accuracy: 0.7931\n",
            "Epoch 26/30\n",
            "25/25 [==============================] - 0s 3ms/step - loss: 0.5008 - accuracy: 0.7931\n",
            "Epoch 27/30\n",
            "25/25 [==============================] - 0s 3ms/step - loss: 0.5009 - accuracy: 0.7931\n",
            "Epoch 28/30\n",
            "25/25 [==============================] - 0s 3ms/step - loss: 0.5008 - accuracy: 0.7931\n",
            "Epoch 29/30\n",
            "25/25 [==============================] - 0s 3ms/step - loss: 0.5014 - accuracy: 0.7931\n",
            "Epoch 30/30\n",
            "25/25 [==============================] - 0s 3ms/step - loss: 0.5009 - accuracy: 0.7931\n",
            "7/7 [==============================] - 0s 3ms/step - loss: 0.4826 - accuracy: 0.8087\n",
            "Epoch 1/30\n",
            "25/25 [==============================] - 1s 3ms/step - loss: 1.1693 - accuracy: 0.7997\n",
            "Epoch 2/30\n",
            "25/25 [==============================] - 0s 4ms/step - loss: 0.5092 - accuracy: 0.7997\n",
            "Epoch 3/30\n",
            "25/25 [==============================] - 0s 4ms/step - loss: 0.4977 - accuracy: 0.7997\n",
            "Epoch 4/30\n",
            "25/25 [==============================] - 0s 4ms/step - loss: 0.4950 - accuracy: 0.7997\n",
            "Epoch 5/30\n",
            "25/25 [==============================] - 0s 3ms/step - loss: 0.4940 - accuracy: 0.7997\n",
            "Epoch 6/30\n",
            "25/25 [==============================] - 0s 4ms/step - loss: 0.4933 - accuracy: 0.7997\n",
            "Epoch 7/30\n",
            "25/25 [==============================] - 0s 4ms/step - loss: 0.4931 - accuracy: 0.7997\n",
            "Epoch 8/30\n",
            "25/25 [==============================] - 0s 3ms/step - loss: 0.4928 - accuracy: 0.7997\n",
            "Epoch 9/30\n",
            "25/25 [==============================] - 0s 3ms/step - loss: 0.4927 - accuracy: 0.7997\n",
            "Epoch 10/30\n",
            "25/25 [==============================] - 0s 3ms/step - loss: 0.4925 - accuracy: 0.7997\n",
            "Epoch 11/30\n",
            "25/25 [==============================] - 0s 3ms/step - loss: 0.4924 - accuracy: 0.7997\n",
            "Epoch 12/30\n",
            "25/25 [==============================] - 0s 3ms/step - loss: 0.4923 - accuracy: 0.7997\n",
            "Epoch 13/30\n",
            "25/25 [==============================] - 0s 3ms/step - loss: 0.4922 - accuracy: 0.7997\n",
            "Epoch 14/30\n",
            "25/25 [==============================] - 0s 4ms/step - loss: 0.4921 - accuracy: 0.7997\n",
            "Epoch 15/30\n",
            "25/25 [==============================] - 0s 4ms/step - loss: 0.4920 - accuracy: 0.7997\n",
            "Epoch 16/30\n",
            "25/25 [==============================] - 0s 3ms/step - loss: 0.4920 - accuracy: 0.7997\n",
            "Epoch 17/30\n",
            "25/25 [==============================] - 0s 5ms/step - loss: 0.4920 - accuracy: 0.7997\n",
            "Epoch 18/30\n",
            "25/25 [==============================] - 0s 4ms/step - loss: 0.4920 - accuracy: 0.7997\n",
            "Epoch 19/30\n",
            "25/25 [==============================] - 0s 4ms/step - loss: 0.4919 - accuracy: 0.7997\n",
            "Epoch 20/30\n",
            "25/25 [==============================] - 0s 4ms/step - loss: 0.4919 - accuracy: 0.7997\n",
            "Epoch 21/30\n",
            "25/25 [==============================] - 0s 4ms/step - loss: 0.4919 - accuracy: 0.7997\n",
            "Epoch 22/30\n",
            "25/25 [==============================] - 0s 3ms/step - loss: 0.4919 - accuracy: 0.7997\n",
            "Epoch 23/30\n",
            "25/25 [==============================] - 0s 4ms/step - loss: 0.4918 - accuracy: 0.7997\n",
            "Epoch 24/30\n",
            "25/25 [==============================] - 0s 3ms/step - loss: 0.4919 - accuracy: 0.7997\n",
            "Epoch 25/30\n",
            "25/25 [==============================] - 0s 3ms/step - loss: 0.4918 - accuracy: 0.7997\n",
            "Epoch 26/30\n",
            "25/25 [==============================] - 0s 3ms/step - loss: 0.4918 - accuracy: 0.7997\n",
            "Epoch 27/30\n",
            "25/25 [==============================] - 0s 3ms/step - loss: 0.4919 - accuracy: 0.7997\n",
            "Epoch 28/30\n",
            "25/25 [==============================] - 0s 3ms/step - loss: 0.4917 - accuracy: 0.7997\n",
            "Epoch 29/30\n",
            "25/25 [==============================] - 0s 4ms/step - loss: 0.4918 - accuracy: 0.7997\n",
            "Epoch 30/30\n",
            "25/25 [==============================] - 0s 4ms/step - loss: 0.4918 - accuracy: 0.7997\n",
            "7/7 [==============================] - 0s 4ms/step - loss: 0.5198 - accuracy: 0.7825\n",
            "Epoch 1/30\n",
            "25/25 [==============================] - 1s 3ms/step - loss: 3.1573 - accuracy: 0.7953\n",
            "Epoch 2/30\n",
            "25/25 [==============================] - 0s 3ms/step - loss: 3.1573 - accuracy: 0.7953\n",
            "Epoch 3/30\n",
            "25/25 [==============================] - 0s 4ms/step - loss: 3.1573 - accuracy: 0.7953\n",
            "Epoch 4/30\n",
            "25/25 [==============================] - 0s 4ms/step - loss: 3.1573 - accuracy: 0.7953\n",
            "Epoch 5/30\n",
            "25/25 [==============================] - 0s 4ms/step - loss: 3.1573 - accuracy: 0.7953\n",
            "Epoch 6/30\n",
            "25/25 [==============================] - 0s 3ms/step - loss: 3.1573 - accuracy: 0.7953\n",
            "Epoch 7/30\n",
            "25/25 [==============================] - 0s 3ms/step - loss: 3.1573 - accuracy: 0.7953\n",
            "Epoch 8/30\n",
            "25/25 [==============================] - 0s 4ms/step - loss: 3.1573 - accuracy: 0.7953\n",
            "Epoch 9/30\n",
            "25/25 [==============================] - 0s 4ms/step - loss: 3.1573 - accuracy: 0.7953\n",
            "Epoch 10/30\n",
            "25/25 [==============================] - 0s 3ms/step - loss: 3.1573 - accuracy: 0.7953\n",
            "Epoch 11/30\n",
            "25/25 [==============================] - 0s 4ms/step - loss: 3.1573 - accuracy: 0.7953\n",
            "Epoch 12/30\n",
            "25/25 [==============================] - 0s 4ms/step - loss: 3.1573 - accuracy: 0.7953\n",
            "Epoch 13/30\n",
            "25/25 [==============================] - 0s 3ms/step - loss: 3.1573 - accuracy: 0.7953\n",
            "Epoch 14/30\n",
            "25/25 [==============================] - 0s 4ms/step - loss: 3.1573 - accuracy: 0.7953\n",
            "Epoch 15/30\n",
            "25/25 [==============================] - 0s 4ms/step - loss: 3.1573 - accuracy: 0.7953\n",
            "Epoch 16/30\n",
            "25/25 [==============================] - 0s 4ms/step - loss: 3.1573 - accuracy: 0.7953\n",
            "Epoch 17/30\n",
            "25/25 [==============================] - 0s 4ms/step - loss: 3.1573 - accuracy: 0.7953\n",
            "Epoch 18/30\n",
            "25/25 [==============================] - 0s 3ms/step - loss: 3.1573 - accuracy: 0.7953\n",
            "Epoch 19/30\n",
            "25/25 [==============================] - 0s 3ms/step - loss: 3.1573 - accuracy: 0.7953\n",
            "Epoch 20/30\n",
            "25/25 [==============================] - 0s 5ms/step - loss: 3.1573 - accuracy: 0.7953\n",
            "Epoch 21/30\n",
            "25/25 [==============================] - 0s 4ms/step - loss: 3.1573 - accuracy: 0.7953\n",
            "Epoch 22/30\n",
            "25/25 [==============================] - 0s 4ms/step - loss: 3.1573 - accuracy: 0.7953\n",
            "Epoch 23/30\n",
            "25/25 [==============================] - 0s 4ms/step - loss: 3.1573 - accuracy: 0.7953\n",
            "Epoch 24/30\n",
            "25/25 [==============================] - 0s 4ms/step - loss: 3.1573 - accuracy: 0.7953\n",
            "Epoch 25/30\n",
            "25/25 [==============================] - 0s 3ms/step - loss: 3.1573 - accuracy: 0.7953\n",
            "Epoch 26/30\n",
            "25/25 [==============================] - 0s 4ms/step - loss: 3.1573 - accuracy: 0.7953\n",
            "Epoch 27/30\n",
            "25/25 [==============================] - 0s 3ms/step - loss: 3.1573 - accuracy: 0.7953\n",
            "Epoch 28/30\n",
            "25/25 [==============================] - 0s 3ms/step - loss: 3.1573 - accuracy: 0.7953\n",
            "Epoch 29/30\n",
            "25/25 [==============================] - 0s 3ms/step - loss: 3.1573 - accuracy: 0.7953\n",
            "Epoch 30/30\n",
            "25/25 [==============================] - 0s 5ms/step - loss: 3.1573 - accuracy: 0.7953\n",
            "7/7 [==============================] - 0s 4ms/step - loss: 3.0850 - accuracy: 0.8000\n",
            "Epoch 1/30\n",
            "25/25 [==============================] - 1s 4ms/step - loss: 0.8011 - accuracy: 0.8003\n",
            "Epoch 2/30\n",
            "25/25 [==============================] - 0s 4ms/step - loss: 0.5504 - accuracy: 0.8003\n",
            "Epoch 3/30\n",
            "25/25 [==============================] - 0s 4ms/step - loss: 0.5175 - accuracy: 0.8003\n",
            "Epoch 4/30\n",
            "25/25 [==============================] - 0s 4ms/step - loss: 0.4974 - accuracy: 0.8003\n",
            "Epoch 5/30\n",
            "25/25 [==============================] - 0s 4ms/step - loss: 0.4933 - accuracy: 0.8003\n",
            "Epoch 6/30\n",
            "25/25 [==============================] - 0s 4ms/step - loss: 0.4929 - accuracy: 0.8003\n",
            "Epoch 7/30\n",
            "25/25 [==============================] - 0s 4ms/step - loss: 0.4927 - accuracy: 0.8003\n",
            "Epoch 8/30\n",
            "25/25 [==============================] - 0s 4ms/step - loss: 0.4926 - accuracy: 0.8003\n",
            "Epoch 9/30\n",
            "25/25 [==============================] - 0s 4ms/step - loss: 0.4925 - accuracy: 0.8003\n",
            "Epoch 10/30\n",
            "25/25 [==============================] - 0s 4ms/step - loss: 0.4923 - accuracy: 0.8003\n",
            "Epoch 11/30\n",
            "25/25 [==============================] - 0s 4ms/step - loss: 0.4923 - accuracy: 0.8003\n",
            "Epoch 12/30\n",
            "25/25 [==============================] - 0s 4ms/step - loss: 0.4922 - accuracy: 0.8003\n",
            "Epoch 13/30\n",
            "25/25 [==============================] - 0s 4ms/step - loss: 0.4920 - accuracy: 0.8003\n",
            "Epoch 14/30\n",
            "25/25 [==============================] - 0s 4ms/step - loss: 0.4919 - accuracy: 0.8003\n",
            "Epoch 15/30\n",
            "25/25 [==============================] - 0s 4ms/step - loss: 0.4918 - accuracy: 0.8003\n",
            "Epoch 16/30\n",
            "25/25 [==============================] - 0s 4ms/step - loss: 0.4919 - accuracy: 0.8003\n",
            "Epoch 17/30\n",
            "25/25 [==============================] - 0s 4ms/step - loss: 0.4919 - accuracy: 0.8003\n",
            "Epoch 18/30\n",
            "25/25 [==============================] - 0s 4ms/step - loss: 0.4917 - accuracy: 0.8003\n",
            "Epoch 19/30\n",
            "25/25 [==============================] - 0s 4ms/step - loss: 0.4920 - accuracy: 0.8003\n",
            "Epoch 20/30\n",
            "25/25 [==============================] - 0s 5ms/step - loss: 0.4917 - accuracy: 0.8003\n",
            "Epoch 21/30\n",
            "25/25 [==============================] - 0s 4ms/step - loss: 0.4918 - accuracy: 0.8003\n",
            "Epoch 22/30\n",
            "25/25 [==============================] - 0s 4ms/step - loss: 0.4916 - accuracy: 0.8003\n",
            "Epoch 23/30\n",
            "25/25 [==============================] - 0s 5ms/step - loss: 0.4917 - accuracy: 0.8003\n",
            "Epoch 24/30\n",
            "25/25 [==============================] - 0s 4ms/step - loss: 0.4916 - accuracy: 0.8003\n",
            "Epoch 25/30\n",
            "25/25 [==============================] - 0s 4ms/step - loss: 0.4916 - accuracy: 0.8003\n",
            "Epoch 26/30\n",
            "25/25 [==============================] - 0s 4ms/step - loss: 0.4916 - accuracy: 0.8003\n",
            "Epoch 27/30\n",
            "25/25 [==============================] - 0s 4ms/step - loss: 0.4915 - accuracy: 0.8003\n",
            "Epoch 28/30\n",
            "25/25 [==============================] - 0s 3ms/step - loss: 0.4915 - accuracy: 0.8003\n",
            "Epoch 29/30\n",
            "25/25 [==============================] - 0s 4ms/step - loss: 0.4915 - accuracy: 0.8003\n",
            "Epoch 30/30\n",
            "25/25 [==============================] - 0s 4ms/step - loss: 0.4916 - accuracy: 0.8003\n",
            "7/7 [==============================] - 0s 2ms/step - loss: 0.5215 - accuracy: 0.7800\n",
            "Epoch 1/30\n",
            "25/25 [==============================] - 1s 3ms/step - loss: 0.5241 - accuracy: 0.7928\n",
            "Epoch 2/30\n",
            "25/25 [==============================] - 0s 3ms/step - loss: 0.5068 - accuracy: 0.7928\n",
            "Epoch 3/30\n",
            "25/25 [==============================] - 0s 5ms/step - loss: 0.5046 - accuracy: 0.7928\n",
            "Epoch 4/30\n",
            "25/25 [==============================] - 0s 4ms/step - loss: 0.5041 - accuracy: 0.7928\n",
            "Epoch 5/30\n",
            "25/25 [==============================] - 0s 4ms/step - loss: 0.5044 - accuracy: 0.7928\n",
            "Epoch 6/30\n",
            "25/25 [==============================] - 0s 4ms/step - loss: 0.5040 - accuracy: 0.7928\n",
            "Epoch 7/30\n",
            "25/25 [==============================] - 0s 4ms/step - loss: 0.5037 - accuracy: 0.7928\n",
            "Epoch 8/30\n",
            "25/25 [==============================] - 0s 3ms/step - loss: 0.5037 - accuracy: 0.7928\n",
            "Epoch 9/30\n",
            "25/25 [==============================] - 0s 4ms/step - loss: 0.5036 - accuracy: 0.7928\n",
            "Epoch 10/30\n",
            "25/25 [==============================] - 0s 4ms/step - loss: 0.5037 - accuracy: 0.7928\n",
            "Epoch 11/30\n",
            "25/25 [==============================] - 0s 4ms/step - loss: 0.5038 - accuracy: 0.7928\n",
            "Epoch 12/30\n",
            "25/25 [==============================] - 0s 4ms/step - loss: 0.5038 - accuracy: 0.7928\n",
            "Epoch 13/30\n",
            "25/25 [==============================] - 0s 5ms/step - loss: 0.5039 - accuracy: 0.7928\n",
            "Epoch 14/30\n",
            "25/25 [==============================] - 0s 4ms/step - loss: 0.5039 - accuracy: 0.7928\n",
            "Epoch 15/30\n",
            "25/25 [==============================] - 0s 4ms/step - loss: 0.5035 - accuracy: 0.7928\n",
            "Epoch 16/30\n",
            "25/25 [==============================] - 0s 4ms/step - loss: 0.5043 - accuracy: 0.7928\n",
            "Epoch 17/30\n",
            "25/25 [==============================] - 0s 4ms/step - loss: 0.5034 - accuracy: 0.7928\n",
            "Epoch 18/30\n",
            "25/25 [==============================] - 0s 4ms/step - loss: 0.5036 - accuracy: 0.7928\n",
            "Epoch 19/30\n",
            "25/25 [==============================] - 0s 3ms/step - loss: 0.5037 - accuracy: 0.7928\n",
            "Epoch 20/30\n",
            "25/25 [==============================] - 0s 4ms/step - loss: 0.5034 - accuracy: 0.7928\n",
            "Epoch 21/30\n",
            "25/25 [==============================] - 0s 5ms/step - loss: 0.5036 - accuracy: 0.7928\n",
            "Epoch 22/30\n",
            "25/25 [==============================] - 0s 4ms/step - loss: 0.5036 - accuracy: 0.7928\n",
            "Epoch 23/30\n",
            "25/25 [==============================] - 0s 5ms/step - loss: 0.5035 - accuracy: 0.7928\n",
            "Epoch 24/30\n",
            "25/25 [==============================] - 0s 4ms/step - loss: 0.5033 - accuracy: 0.7928\n",
            "Epoch 25/30\n",
            "25/25 [==============================] - 0s 4ms/step - loss: 0.5038 - accuracy: 0.7928\n",
            "Epoch 26/30\n",
            "25/25 [==============================] - 0s 4ms/step - loss: 0.5039 - accuracy: 0.7928\n",
            "Epoch 27/30\n",
            "25/25 [==============================] - 0s 4ms/step - loss: 0.5034 - accuracy: 0.7928\n",
            "Epoch 28/30\n",
            "25/25 [==============================] - 0s 4ms/step - loss: 0.5037 - accuracy: 0.7928\n",
            "Epoch 29/30\n",
            "25/25 [==============================] - 0s 4ms/step - loss: 0.5034 - accuracy: 0.7928\n",
            "Epoch 30/30\n",
            "25/25 [==============================] - 0s 4ms/step - loss: 0.5035 - accuracy: 0.7928\n",
            "7/7 [==============================] - 0s 3ms/step - loss: 0.4738 - accuracy: 0.8100\n",
            "Epoch 1/30\n",
            "25/25 [==============================] - 1s 3ms/step - loss: 0.5259 - accuracy: 0.7931\n",
            "Epoch 2/30\n",
            "25/25 [==============================] - 0s 4ms/step - loss: 0.5037 - accuracy: 0.7931\n",
            "Epoch 3/30\n",
            "25/25 [==============================] - 0s 4ms/step - loss: 0.5024 - accuracy: 0.7931\n",
            "Epoch 4/30\n",
            "25/25 [==============================] - 0s 4ms/step - loss: 0.5018 - accuracy: 0.7931\n",
            "Epoch 5/30\n",
            "25/25 [==============================] - 0s 4ms/step - loss: 0.5015 - accuracy: 0.7931\n",
            "Epoch 6/30\n",
            "25/25 [==============================] - 0s 4ms/step - loss: 0.5012 - accuracy: 0.7931\n",
            "Epoch 7/30\n",
            "25/25 [==============================] - 0s 4ms/step - loss: 0.5012 - accuracy: 0.7931\n",
            "Epoch 8/30\n",
            "25/25 [==============================] - 0s 4ms/step - loss: 0.5012 - accuracy: 0.7931\n",
            "Epoch 9/30\n",
            "25/25 [==============================] - 0s 4ms/step - loss: 0.5012 - accuracy: 0.7931\n",
            "Epoch 10/30\n",
            "25/25 [==============================] - 0s 4ms/step - loss: 0.5011 - accuracy: 0.7931\n",
            "Epoch 11/30\n",
            "25/25 [==============================] - 0s 4ms/step - loss: 0.5014 - accuracy: 0.7931\n",
            "Epoch 12/30\n",
            "25/25 [==============================] - 0s 4ms/step - loss: 0.5009 - accuracy: 0.7931\n",
            "Epoch 13/30\n",
            "25/25 [==============================] - 0s 4ms/step - loss: 0.5011 - accuracy: 0.7931\n",
            "Epoch 14/30\n",
            "25/25 [==============================] - 0s 4ms/step - loss: 0.5011 - accuracy: 0.7931\n",
            "Epoch 15/30\n",
            "25/25 [==============================] - 0s 4ms/step - loss: 0.5010 - accuracy: 0.7931\n",
            "Epoch 16/30\n",
            "25/25 [==============================] - 0s 4ms/step - loss: 0.5009 - accuracy: 0.7931\n",
            "Epoch 17/30\n",
            "25/25 [==============================] - 0s 4ms/step - loss: 0.5011 - accuracy: 0.7931\n",
            "Epoch 18/30\n",
            "25/25 [==============================] - 0s 3ms/step - loss: 0.5011 - accuracy: 0.7931\n",
            "Epoch 19/30\n",
            "25/25 [==============================] - 0s 4ms/step - loss: 0.5011 - accuracy: 0.7931\n",
            "Epoch 20/30\n",
            "25/25 [==============================] - 0s 4ms/step - loss: 0.5010 - accuracy: 0.7931\n",
            "Epoch 21/30\n",
            "25/25 [==============================] - 0s 4ms/step - loss: 0.5008 - accuracy: 0.7931\n",
            "Epoch 22/30\n",
            "25/25 [==============================] - 0s 4ms/step - loss: 0.5012 - accuracy: 0.7931\n",
            "Epoch 23/30\n",
            "25/25 [==============================] - 0s 6ms/step - loss: 0.5023 - accuracy: 0.7931\n",
            "Epoch 24/30\n",
            "25/25 [==============================] - 0s 5ms/step - loss: 0.5013 - accuracy: 0.7931\n",
            "Epoch 25/30\n",
            "25/25 [==============================] - 0s 4ms/step - loss: 0.5007 - accuracy: 0.7931\n",
            "Epoch 26/30\n",
            "25/25 [==============================] - 0s 4ms/step - loss: 0.5013 - accuracy: 0.7931\n",
            "Epoch 27/30\n",
            "25/25 [==============================] - 0s 4ms/step - loss: 0.5011 - accuracy: 0.7931\n",
            "Epoch 28/30\n",
            "25/25 [==============================] - 0s 3ms/step - loss: 0.5013 - accuracy: 0.7931\n",
            "Epoch 29/30\n",
            "25/25 [==============================] - 0s 3ms/step - loss: 0.5010 - accuracy: 0.7931\n",
            "Epoch 30/30\n",
            "25/25 [==============================] - 0s 4ms/step - loss: 0.5020 - accuracy: 0.7931\n",
            "7/7 [==============================] - 0s 4ms/step - loss: 0.4840 - accuracy: 0.8087\n",
            "Epoch 1/30\n",
            "25/25 [==============================] - 1s 3ms/step - loss: 3.0898 - accuracy: 0.7997\n",
            "Epoch 2/30\n",
            "25/25 [==============================] - 0s 4ms/step - loss: 3.0898 - accuracy: 0.7997\n",
            "Epoch 3/30\n",
            "25/25 [==============================] - 0s 4ms/step - loss: 3.0898 - accuracy: 0.7997\n",
            "Epoch 4/30\n",
            "25/25 [==============================] - 0s 4ms/step - loss: 3.0898 - accuracy: 0.7997\n",
            "Epoch 5/30\n",
            "25/25 [==============================] - 0s 4ms/step - loss: 3.0898 - accuracy: 0.7997\n",
            "Epoch 6/30\n",
            "25/25 [==============================] - 0s 4ms/step - loss: 3.0898 - accuracy: 0.7997\n",
            "Epoch 7/30\n",
            "25/25 [==============================] - 0s 5ms/step - loss: 3.0898 - accuracy: 0.7997\n",
            "Epoch 8/30\n",
            "25/25 [==============================] - 0s 4ms/step - loss: 3.0898 - accuracy: 0.7997\n",
            "Epoch 9/30\n",
            "25/25 [==============================] - 0s 4ms/step - loss: 3.0898 - accuracy: 0.7997\n",
            "Epoch 10/30\n",
            "25/25 [==============================] - 0s 4ms/step - loss: 3.0898 - accuracy: 0.7997\n",
            "Epoch 11/30\n",
            "25/25 [==============================] - 0s 4ms/step - loss: 3.0898 - accuracy: 0.7997\n",
            "Epoch 12/30\n",
            "25/25 [==============================] - 0s 4ms/step - loss: 3.0898 - accuracy: 0.7997\n",
            "Epoch 13/30\n",
            "25/25 [==============================] - 0s 4ms/step - loss: 3.0898 - accuracy: 0.7997\n",
            "Epoch 14/30\n",
            "25/25 [==============================] - 0s 5ms/step - loss: 3.0898 - accuracy: 0.7997\n",
            "Epoch 15/30\n",
            "25/25 [==============================] - 0s 4ms/step - loss: 3.0898 - accuracy: 0.7997\n",
            "Epoch 16/30\n",
            "25/25 [==============================] - 0s 4ms/step - loss: 3.0898 - accuracy: 0.7997\n",
            "Epoch 17/30\n",
            "25/25 [==============================] - 0s 4ms/step - loss: 3.0898 - accuracy: 0.7997\n",
            "Epoch 18/30\n",
            "25/25 [==============================] - 0s 4ms/step - loss: 3.0898 - accuracy: 0.7997\n",
            "Epoch 19/30\n",
            "25/25 [==============================] - 0s 4ms/step - loss: 3.0898 - accuracy: 0.7997\n",
            "Epoch 20/30\n",
            "25/25 [==============================] - 0s 4ms/step - loss: 3.0898 - accuracy: 0.7997\n",
            "Epoch 21/30\n",
            "25/25 [==============================] - 0s 4ms/step - loss: 3.0898 - accuracy: 0.7997\n",
            "Epoch 22/30\n",
            "25/25 [==============================] - 0s 4ms/step - loss: 3.0898 - accuracy: 0.7997\n",
            "Epoch 23/30\n",
            "25/25 [==============================] - 0s 4ms/step - loss: 3.0898 - accuracy: 0.7997\n",
            "Epoch 24/30\n",
            "25/25 [==============================] - 0s 4ms/step - loss: 3.0898 - accuracy: 0.7997\n",
            "Epoch 25/30\n",
            "25/25 [==============================] - 0s 4ms/step - loss: 3.0898 - accuracy: 0.7997\n",
            "Epoch 26/30\n",
            "25/25 [==============================] - 0s 4ms/step - loss: 3.0898 - accuracy: 0.7997\n",
            "Epoch 27/30\n",
            "25/25 [==============================] - 0s 3ms/step - loss: 3.0898 - accuracy: 0.7997\n",
            "Epoch 28/30\n",
            "25/25 [==============================] - 0s 5ms/step - loss: 3.0898 - accuracy: 0.7997\n",
            "Epoch 29/30\n",
            "25/25 [==============================] - 0s 4ms/step - loss: 3.0898 - accuracy: 0.7997\n",
            "Epoch 30/30\n",
            "25/25 [==============================] - 0s 4ms/step - loss: 3.0898 - accuracy: 0.7997\n",
            "7/7 [==============================] - 0s 4ms/step - loss: 3.3549 - accuracy: 0.7825\n",
            "Epoch 1/30\n",
            "25/25 [==============================] - 1s 4ms/step - loss: 3.1573 - accuracy: 0.7953\n",
            "Epoch 2/30\n",
            "25/25 [==============================] - 0s 3ms/step - loss: 3.1573 - accuracy: 0.7953\n",
            "Epoch 3/30\n",
            "25/25 [==============================] - 0s 5ms/step - loss: 3.1573 - accuracy: 0.7953\n",
            "Epoch 4/30\n",
            "25/25 [==============================] - 0s 4ms/step - loss: 3.1573 - accuracy: 0.7953\n",
            "Epoch 5/30\n",
            "25/25 [==============================] - 0s 4ms/step - loss: 3.1573 - accuracy: 0.7953\n",
            "Epoch 6/30\n",
            "25/25 [==============================] - 0s 4ms/step - loss: 3.1573 - accuracy: 0.7953\n",
            "Epoch 7/30\n",
            "25/25 [==============================] - 0s 5ms/step - loss: 3.1573 - accuracy: 0.7953\n",
            "Epoch 8/30\n",
            "25/25 [==============================] - 0s 4ms/step - loss: 3.1573 - accuracy: 0.7953\n",
            "Epoch 9/30\n",
            "25/25 [==============================] - 0s 3ms/step - loss: 3.1573 - accuracy: 0.7953\n",
            "Epoch 10/30\n",
            "25/25 [==============================] - 0s 4ms/step - loss: 3.1573 - accuracy: 0.7953\n",
            "Epoch 11/30\n",
            "25/25 [==============================] - 0s 4ms/step - loss: 3.1573 - accuracy: 0.7953\n",
            "Epoch 12/30\n",
            "25/25 [==============================] - 0s 4ms/step - loss: 3.1573 - accuracy: 0.7953\n",
            "Epoch 13/30\n",
            "25/25 [==============================] - 0s 5ms/step - loss: 3.1573 - accuracy: 0.7953\n",
            "Epoch 14/30\n",
            "25/25 [==============================] - 0s 4ms/step - loss: 3.1573 - accuracy: 0.7953\n",
            "Epoch 15/30\n",
            "25/25 [==============================] - 0s 4ms/step - loss: 3.1573 - accuracy: 0.7953\n",
            "Epoch 16/30\n",
            "25/25 [==============================] - 0s 4ms/step - loss: 3.1573 - accuracy: 0.7953\n",
            "Epoch 17/30\n",
            "25/25 [==============================] - 0s 4ms/step - loss: 3.1573 - accuracy: 0.7953\n",
            "Epoch 18/30\n",
            "25/25 [==============================] - 0s 4ms/step - loss: 3.1573 - accuracy: 0.7953\n",
            "Epoch 19/30\n",
            "25/25 [==============================] - 0s 4ms/step - loss: 3.1573 - accuracy: 0.7953\n",
            "Epoch 20/30\n",
            "25/25 [==============================] - 0s 3ms/step - loss: 3.1573 - accuracy: 0.7953\n",
            "Epoch 21/30\n",
            "25/25 [==============================] - 0s 3ms/step - loss: 3.1573 - accuracy: 0.7953\n",
            "Epoch 22/30\n",
            "25/25 [==============================] - 0s 4ms/step - loss: 3.1573 - accuracy: 0.7953\n",
            "Epoch 23/30\n",
            "25/25 [==============================] - 0s 4ms/step - loss: 3.1573 - accuracy: 0.7953\n",
            "Epoch 24/30\n",
            "25/25 [==============================] - 0s 3ms/step - loss: 3.1573 - accuracy: 0.7953\n",
            "Epoch 25/30\n",
            "25/25 [==============================] - 0s 4ms/step - loss: 3.1573 - accuracy: 0.7953\n",
            "Epoch 26/30\n",
            "25/25 [==============================] - 0s 4ms/step - loss: 3.1573 - accuracy: 0.7953\n",
            "Epoch 27/30\n",
            "25/25 [==============================] - 0s 5ms/step - loss: 3.1573 - accuracy: 0.7953\n",
            "Epoch 28/30\n",
            "25/25 [==============================] - 0s 4ms/step - loss: 3.1573 - accuracy: 0.7953\n",
            "Epoch 29/30\n",
            "25/25 [==============================] - 0s 4ms/step - loss: 3.1573 - accuracy: 0.7953\n",
            "Epoch 30/30\n",
            "25/25 [==============================] - 0s 4ms/step - loss: 3.1573 - accuracy: 0.7953\n",
            "7/7 [==============================] - 0s 3ms/step - loss: 3.0850 - accuracy: 0.8000\n",
            "Epoch 1/30\n",
            "63/63 [==============================] - 1s 3ms/step - loss: 0.5164 - accuracy: 0.7962\n",
            "Epoch 2/30\n",
            "63/63 [==============================] - 0s 3ms/step - loss: 0.5111 - accuracy: 0.7962\n",
            "Epoch 3/30\n",
            "63/63 [==============================] - 0s 3ms/step - loss: 0.5072 - accuracy: 0.7962\n",
            "Epoch 4/30\n",
            "63/63 [==============================] - 0s 3ms/step - loss: 0.5045 - accuracy: 0.7962\n",
            "Epoch 5/30\n",
            "63/63 [==============================] - 0s 3ms/step - loss: 0.5029 - accuracy: 0.7962\n",
            "Epoch 6/30\n",
            "63/63 [==============================] - 0s 3ms/step - loss: 0.5012 - accuracy: 0.7962\n",
            "Epoch 7/30\n",
            "63/63 [==============================] - 0s 3ms/step - loss: 0.5016 - accuracy: 0.7962\n",
            "Epoch 8/30\n",
            "63/63 [==============================] - 0s 3ms/step - loss: 0.4995 - accuracy: 0.7962\n",
            "Epoch 9/30\n",
            "63/63 [==============================] - 0s 3ms/step - loss: 0.4985 - accuracy: 0.7962\n",
            "Epoch 10/30\n",
            "63/63 [==============================] - 0s 3ms/step - loss: 0.4991 - accuracy: 0.7962\n",
            "Epoch 11/30\n",
            "63/63 [==============================] - 0s 3ms/step - loss: 0.4990 - accuracy: 0.7962\n",
            "Epoch 12/30\n",
            "63/63 [==============================] - 0s 3ms/step - loss: 0.4982 - accuracy: 0.7962\n",
            "Epoch 13/30\n",
            "63/63 [==============================] - 0s 3ms/step - loss: 0.4981 - accuracy: 0.7962\n",
            "Epoch 14/30\n",
            "63/63 [==============================] - 0s 3ms/step - loss: 0.4989 - accuracy: 0.7962\n",
            "Epoch 15/30\n",
            "63/63 [==============================] - 0s 3ms/step - loss: 0.4978 - accuracy: 0.7962\n",
            "Epoch 16/30\n",
            "63/63 [==============================] - 0s 3ms/step - loss: 0.4980 - accuracy: 0.7962\n",
            "Epoch 17/30\n",
            "63/63 [==============================] - 0s 3ms/step - loss: 0.4983 - accuracy: 0.7962\n",
            "Epoch 18/30\n",
            "63/63 [==============================] - 0s 3ms/step - loss: 0.4980 - accuracy: 0.7962\n",
            "Epoch 19/30\n",
            "63/63 [==============================] - 0s 3ms/step - loss: 0.4978 - accuracy: 0.7962\n",
            "Epoch 20/30\n",
            "63/63 [==============================] - 0s 3ms/step - loss: 0.4986 - accuracy: 0.7962\n",
            "Epoch 21/30\n",
            "63/63 [==============================] - 0s 3ms/step - loss: 0.4981 - accuracy: 0.7962\n",
            "Epoch 22/30\n",
            "63/63 [==============================] - 0s 3ms/step - loss: 0.4980 - accuracy: 0.7962\n",
            "Epoch 23/30\n",
            "63/63 [==============================] - 0s 3ms/step - loss: 0.4983 - accuracy: 0.7962\n",
            "Epoch 24/30\n",
            "63/63 [==============================] - 0s 3ms/step - loss: 0.4983 - accuracy: 0.7962\n",
            "Epoch 25/30\n",
            "63/63 [==============================] - 0s 3ms/step - loss: 0.4980 - accuracy: 0.7962\n",
            "Epoch 26/30\n",
            "63/63 [==============================] - 0s 3ms/step - loss: 0.4980 - accuracy: 0.7962\n",
            "Epoch 27/30\n",
            "63/63 [==============================] - 0s 3ms/step - loss: 0.4995 - accuracy: 0.7962\n",
            "Epoch 28/30\n",
            "63/63 [==============================] - 0s 3ms/step - loss: 0.4978 - accuracy: 0.7962\n",
            "Epoch 29/30\n",
            "63/63 [==============================] - 0s 3ms/step - loss: 0.4981 - accuracy: 0.7962\n",
            "Epoch 30/30\n",
            "63/63 [==============================] - 0s 3ms/step - loss: 0.4983 - accuracy: 0.7962\n"
          ]
        }
      ]
    },
    {
      "cell_type": "markdown",
      "metadata": {
        "id": "0xP_x-2KvBwS"
      },
      "source": [
        "Applying `best_score_` and `best_params_` over the grid-searched object returns the best combination of hyper-parameters and the accuracy they reached. The output below shows that a model with a Dense layer with 15 nodes, with \"sigmoid\" activation, trained on a batches of 128 samples for 30 epochs attained accuracy of almost 80%."
      ],
      "id": "0xP_x-2KvBwS"
    },
    {
      "cell_type": "code",
      "metadata": {
        "colab": {
          "base_uri": "https://localhost:8080/"
        },
        "id": "wWZOHkLNM-sU",
        "outputId": "01e327d0-f8a4-4239-b5b6-313a5f8c192f"
      },
      "source": [
        "grid_result.best_score_, grid_result.best_params_"
      ],
      "id": "wWZOHkLNM-sU",
      "execution_count": 65,
      "outputs": [
        {
          "output_type": "execute_result",
          "data": {
            "text/plain": [
              "(0.7962499976158142,\n",
              " {'activation': 'sigmoid', 'batch_size': 128, 'epochs': 30, 'layers': [15]})"
            ]
          },
          "metadata": {},
          "execution_count": 65
        }
      ]
    },
    {
      "cell_type": "markdown",
      "metadata": {
        "id": "TENDITwZxEYc"
      },
      "source": [
        "#### Model evaluation"
      ],
      "id": "TENDITwZxEYc"
    },
    {
      "cell_type": "markdown",
      "metadata": {
        "id": "8Hy1qhutv2YX"
      },
      "source": [
        "A classification model's performance is usually evaluated in terms of its accuracy, precision, recall, and f1 score (all classification metrics). These are returned by `classification_report`, `accuracy_score`, etc. The `confusion_matrix` displays properly and wrongly predicted samples. Some of these functions need predicted values on the testing data. Therefore, these are computed and stored in `pred`."
      ],
      "id": "8Hy1qhutv2YX"
    },
    {
      "cell_type": "code",
      "metadata": {
        "id": "KZbXnArSNC0E"
      },
      "source": [
        "pred = grid.predict(bank_features_test)"
      ],
      "id": "KZbXnArSNC0E",
      "execution_count": 66,
      "outputs": []
    },
    {
      "cell_type": "markdown",
      "metadata": {
        "id": "hGAu_6o_04lW"
      },
      "source": [
        "##### Confusion matrix"
      ],
      "id": "hGAu_6o_04lW"
    },
    {
      "cell_type": "markdown",
      "metadata": {
        "id": "R0zOXJs6wISw"
      },
      "source": [
        "The confusion matrix is used more than once; thus, its computations are placed in a function."
      ],
      "id": "R0zOXJs6wISw"
    },
    {
      "cell_type": "code",
      "metadata": {
        "id": "dIP8igF5wJqx"
      },
      "source": [
        "def plot_confusion_matix(estimator, features, labels, title = None):\n",
        "    \"\"\"\n",
        "    Function: Computes and displays confusion matrix.\n",
        "    \n",
        "    Parameters: Estimator, features, labels, and title (the latter is optional).\n",
        "    \n",
        "    Returns: Displays confusion matrix.\n",
        "    \"\"\"\n",
        "    predictions = estimator.predict(features)\n",
        "    cm = confusion_matrix(labels, predictions)\n",
        "    \n",
        "    plt.figure(figsize = (2, 2))\n",
        "    if title is not None:\n",
        "        plt.title(title)\n",
        "    sns.heatmap(\n",
        "        cm,\n",
        "        annot = True,\n",
        "        fmt = \".0f\",\n",
        "        cmap = \"Blues\",\n",
        "        linewidths = 2, \n",
        "        linecolor = \"white\",\n",
        "        xticklabels = estimator.classes_,\n",
        "        yticklabels = estimator.classes_)\n",
        "    plt.show()"
      ],
      "id": "dIP8igF5wJqx",
      "execution_count": 67,
      "outputs": []
    },
    {
      "cell_type": "markdown",
      "metadata": {
        "id": "0DPZA0NM0kg_"
      },
      "source": [
        "All samples of class \"0\" were predicted properly. However, all examples of class \"1\" seem to be misclassified."
      ],
      "id": "0DPZA0NM0kg_"
    },
    {
      "cell_type": "code",
      "metadata": {
        "colab": {
          "base_uri": "https://localhost:8080/",
          "height": 157
        },
        "id": "yKDmLh_X0Ele",
        "outputId": "8d336814-ee07-41f6-efc1-e1faea566676"
      },
      "source": [
        "plot_confusion_matix(grid, bank_features_test.values, bank_labels_test)"
      ],
      "id": "yKDmLh_X0Ele",
      "execution_count": 68,
      "outputs": [
        {
          "output_type": "display_data",
          "data": {
            "image/png": "[encoded data removed]",
            "text/plain": [
              "<Figure size 144x144 with 2 Axes>"
            ]
          },
          "metadata": {
            "needs_background": "light"
          }
        }
      ]
    },
    {
      "cell_type": "markdown",
      "metadata": {
        "id": "5qIRMzUK092y"
      },
      "source": [
        "##### Accuracy"
      ],
      "id": "5qIRMzUK092y"
    },
    {
      "cell_type": "markdown",
      "metadata": {
        "id": "ZlR33nmf1VkA"
      },
      "source": [
        "Accuracy on the testing data is 79.65% - the same as that attained on the training set."
      ],
      "id": "ZlR33nmf1VkA"
    },
    {
      "cell_type": "code",
      "metadata": {
        "id": "Ok8ZZP63P021",
        "colab": {
          "base_uri": "https://localhost:8080/"
        },
        "outputId": "690f3e33-5399-407e-fe68-4ad8534a3613"
      },
      "source": [
        "score = accuracy_score(bank_labels_test, pred)\n",
        "score"
      ],
      "id": "Ok8ZZP63P021",
      "execution_count": 69,
      "outputs": [
        {
          "output_type": "execute_result",
          "data": {
            "text/plain": [
              "0.7965"
            ]
          },
          "metadata": {},
          "execution_count": 69
        }
      ]
    },
    {
      "cell_type": "markdown",
      "metadata": {
        "id": "eP9Uy3QH1egw"
      },
      "source": [
        "##### Classification report"
      ],
      "id": "eP9Uy3QH1egw"
    },
    {
      "cell_type": "markdown",
      "metadata": {
        "id": "Mvp04SJZ1joK"
      },
      "source": [
        "The classification report prints precision, recall and f1 score for all classes, and accuracy for the whole dataset. The figures below confirm the model couldn't recognise cases when a bank client is closing his or her account. Thus, accuracy of almost 80% does not reveal the hidden problems of the model, namely it's inability to properly predict a given outcome."
      ],
      "id": "Mvp04SJZ1joK"
    },
    {
      "cell_type": "code",
      "metadata": {
        "colab": {
          "base_uri": "https://localhost:8080/"
        },
        "id": "3VckxeK0QCCU",
        "outputId": "b850d444-d6ca-4d58-a8c5-f04fc2efd4a3"
      },
      "source": [
        "print(classification_report(bank_labels_test, pred, zero_division = 0))"
      ],
      "id": "3VckxeK0QCCU",
      "execution_count": 70,
      "outputs": [
        {
          "output_type": "stream",
          "name": "stdout",
          "text": [
            "              precision    recall  f1-score   support\n",
            "\n",
            "           0       0.80      1.00      0.89      1593\n",
            "           1       0.00      0.00      0.00       407\n",
            "\n",
            "    accuracy                           0.80      2000\n",
            "   macro avg       0.40      0.50      0.44      2000\n",
            "weighted avg       0.63      0.80      0.71      2000\n",
            "\n"
          ]
        }
      ]
    },
    {
      "cell_type": "markdown",
      "metadata": {
        "id": "kbYaco2G2OdY"
      },
      "source": [
        "Two other algorithms were tried and tested to remedy this failure. Their implementation is presented below. "
      ],
      "id": "kbYaco2G2OdY"
    },
    {
      "cell_type": "markdown",
      "metadata": {
        "id": "MxWss0p-2bSs"
      },
      "source": [
        "## V. Build and Train a model with ensemble algorithms"
      ],
      "id": "MxWss0p-2bSs"
    },
    {
      "cell_type": "markdown",
      "metadata": {
        "id": "xvrvGwkx6-Lb"
      },
      "source": [
        "### 1. Random Forest"
      ],
      "id": "xvrvGwkx6-Lb"
    },
    {
      "cell_type": "markdown",
      "metadata": {
        "id": "ECFPFrZX26xo"
      },
      "source": [
        "The first step is to prepare f1 as a scoring metric for placing in the GridSearchCV algorthm."
      ],
      "id": "ECFPFrZX26xo"
    },
    {
      "cell_type": "code",
      "metadata": {
        "id": "uL3L9-ryaSFf"
      },
      "source": [
        "f1 = make_scorer(f1_score , average = \"weighted\")"
      ],
      "id": "uL3L9-ryaSFf",
      "execution_count": 71,
      "outputs": []
    },
    {
      "cell_type": "markdown",
      "metadata": {
        "id": "1jlpQFXW3I0e"
      },
      "source": [
        "`RandomForestClassifier()` has several hyper-parameters. The most important ones are the number of estimators (trees) and their maximum depth. These are stored in a dictionary with a range of values. Grid Search should find the combination returning the highest f1 score and the lowest error rate."
      ],
      "id": "1jlpQFXW3I0e"
    },
    {
      "cell_type": "code",
      "metadata": {
        "id": "DRoWIojeaMj5"
      },
      "source": [
        "rf_params = {\n",
        "    \"n_estimators\": [10, 15, 20, 25, 30],\n",
        "    \"max_depth\": [6, 8, 10, 12, 14]\n",
        "}"
      ],
      "id": "DRoWIojeaMj5",
      "execution_count": 72,
      "outputs": []
    },
    {
      "cell_type": "code",
      "metadata": {
        "id": "k74svcY8ax2v"
      },
      "source": [
        "rf_grid_search = GridSearchCV(RandomForestClassifier(random_state = 42), param_grid = rf_params, scoring = f1, cv = 5)"
      ],
      "id": "k74svcY8ax2v",
      "execution_count": 73,
      "outputs": []
    },
    {
      "cell_type": "code",
      "metadata": {
        "colab": {
          "base_uri": "https://localhost:8080/"
        },
        "id": "3PyxkUrJbF2I",
        "outputId": "3915e135-d83d-4508-8038-f32a8f6e1f93"
      },
      "source": [
        "rf_grid_search.fit(bank_features_train, bank_labels_train)"
      ],
      "id": "3PyxkUrJbF2I",
      "execution_count": 74,
      "outputs": [
        {
          "output_type": "execute_result",
          "data": {
            "text/plain": [
              "GridSearchCV(cv=5, error_score=nan,\n",
              "             estimator=RandomForestClassifier(bootstrap=True, ccp_alpha=0.0,\n",
              "                                              class_weight=None,\n",
              "                                              criterion='gini', max_depth=None,\n",
              "                                              max_features='auto',\n",
              "                                              max_leaf_nodes=None,\n",
              "                                              max_samples=None,\n",
              "                                              min_impurity_decrease=0.0,\n",
              "                                              min_impurity_split=None,\n",
              "                                              min_samples_leaf=1,\n",
              "                                              min_samples_split=2,\n",
              "                                              min_weight_fraction_leaf=0.0,\n",
              "                                              n_estimators=100, n_jobs=None,\n",
              "                                              oob_score=False, random_state=42,\n",
              "                                              verbose=0, warm_start=False),\n",
              "             iid='deprecated', n_jobs=None,\n",
              "             param_grid={'max_depth': [6, 8, 10, 12, 14],\n",
              "                         'n_estimators': [10, 15, 20, 25, 30]},\n",
              "             pre_dispatch='2*n_jobs', refit=True, return_train_score=False,\n",
              "             scoring=make_scorer(f1_score, average=weighted), verbose=0)"
            ]
          },
          "metadata": {},
          "execution_count": 74
        }
      ]
    },
    {
      "cell_type": "markdown",
      "metadata": {
        "id": "SJ7m3fqO4Okh"
      },
      "source": [
        "The best combination of hyper-parameters are 30 estimators 12 nodes deep."
      ],
      "id": "SJ7m3fqO4Okh"
    },
    {
      "cell_type": "code",
      "metadata": {
        "colab": {
          "base_uri": "https://localhost:8080/"
        },
        "id": "_UoZsvJfbbis",
        "outputId": "ef85fd65-a228-4c33-8e84-bbc9f31936c4"
      },
      "source": [
        "rf_grid_search.best_params_"
      ],
      "id": "_UoZsvJfbbis",
      "execution_count": 75,
      "outputs": [
        {
          "output_type": "execute_result",
          "data": {
            "text/plain": [
              "{'max_depth': 12, 'n_estimators': 30}"
            ]
          },
          "metadata": {},
          "execution_count": 75
        }
      ]
    },
    {
      "cell_type": "markdown",
      "metadata": {
        "id": "4TR-kqjR4e_7"
      },
      "source": [
        "These figures are provided to the algorithm."
      ],
      "id": "4TR-kqjR4e_7"
    },
    {
      "cell_type": "code",
      "metadata": {
        "id": "ynyQGSpbZMYs"
      },
      "source": [
        "random_forest = RandomForestClassifier(n_estimators = 30, max_depth = 12)"
      ],
      "id": "ynyQGSpbZMYs",
      "execution_count": 76,
      "outputs": []
    },
    {
      "cell_type": "markdown",
      "metadata": {
        "id": "bZUD-u_Z4rwj"
      },
      "source": [
        "#### Model evaluation"
      ],
      "id": "bZUD-u_Z4rwj"
    },
    {
      "cell_type": "markdown",
      "metadata": {
        "id": "09Jm-BXLxHZT"
      },
      "source": [
        "To speed up and to simplify model evalutaion, \"fit\", \"predict\", and \"score\" are placed in a function. It returns model's accuracy and f1 score on the chosen dataset. "
      ],
      "id": "09Jm-BXLxHZT"
    },
    {
      "cell_type": "code",
      "metadata": {
        "id": "XzIBj4dLZUgR"
      },
      "source": [
        "def model_evaluate(estimator, features, labels):\n",
        "    \"\"\"\n",
        "    Function: Evaluate model by \"fit\", \"predict\" and \"score\" values of an estimator.\n",
        "    \n",
        "    Parameters: estimator, features (X) and labels (y).\n",
        "    \n",
        "    Returns: model's performance measured in terms of accuracy and f1_score.\n",
        "    \"\"\"\n",
        "    estimator.fit(features, labels)\n",
        "    predictions = estimator.predict(features)\n",
        "    \n",
        "    print(f\"Accuracy: {accuracy_score(labels, predictions)}\")\n",
        "    print(f\"F1 score: {f1_score(labels, predictions, average = 'weighted')}\")"
      ],
      "id": "XzIBj4dLZUgR",
      "execution_count": 77,
      "outputs": []
    },
    {
      "cell_type": "markdown",
      "metadata": {
        "id": "3HVFoZ3p481b"
      },
      "source": [
        "##### Accuracy and f1 score"
      ],
      "id": "3HVFoZ3p481b"
    },
    {
      "cell_type": "markdown",
      "metadata": {
        "id": "j7MiFv2Z5G3p"
      },
      "source": [
        "Accuracy and f1 score on the testing data are much higher than those reached by the previous model. This could be explained with the small amount of samples in the testing set and/or with the fact that they were easier for the estimator."
      ],
      "id": "j7MiFv2Z5G3p"
    },
    {
      "cell_type": "code",
      "metadata": {
        "colab": {
          "base_uri": "https://localhost:8080/"
        },
        "id": "TrTtoCZBZ0Lf",
        "outputId": "f187f0c2-b135-4254-9798-16015e7320b9"
      },
      "source": [
        "model_evaluate(random_forest, bank_features_train, bank_labels_train)"
      ],
      "id": "TrTtoCZBZ0Lf",
      "execution_count": 78,
      "outputs": [
        {
          "output_type": "stream",
          "name": "stdout",
          "text": [
            "Accuracy: 0.92975\n",
            "F1 score: 0.9247381840441562\n"
          ]
        }
      ]
    },
    {
      "cell_type": "code",
      "metadata": {
        "colab": {
          "base_uri": "https://localhost:8080/"
        },
        "id": "KMEhByiwZ5CF",
        "outputId": "c1b83657-d418-41c1-8711-5c5dfac3fc72"
      },
      "source": [
        "model_evaluate(random_forest, bank_features_test, bank_labels_test)"
      ],
      "id": "KMEhByiwZ5CF",
      "execution_count": 79,
      "outputs": [
        {
          "output_type": "stream",
          "name": "stdout",
          "text": [
            "Accuracy: 0.9775\n",
            "F1 score: 0.9769983627400197\n"
          ]
        }
      ]
    },
    {
      "cell_type": "markdown",
      "metadata": {
        "id": "a6ojGIbj5gDG"
      },
      "source": [
        "##### Confusion matrix"
      ],
      "id": "a6ojGIbj5gDG"
    },
    {
      "cell_type": "markdown",
      "metadata": {
        "id": "XbPjSBxE5uvB"
      },
      "source": [
        "As earlier, all samples of class \"0\" are properly classified. On the other hand, only around 10% of class \"1\" were mistaken."
      ],
      "id": "XbPjSBxE5uvB"
    },
    {
      "cell_type": "code",
      "metadata": {
        "colab": {
          "base_uri": "https://localhost:8080/",
          "height": 157
        },
        "id": "6BN0cHZe5lLt",
        "outputId": "4a3e18eb-f0b0-4cc8-85e0-52ecdf458f16"
      },
      "source": [
        "plot_confusion_matix(random_forest, bank_features_test, bank_labels_test)"
      ],
      "id": "6BN0cHZe5lLt",
      "execution_count": 80,
      "outputs": [
        {
          "output_type": "display_data",
          "data": {
            "image/png": "[encoded data removed]",
            "text/plain": [
              "<Figure size 144x144 with 2 Axes>"
            ]
          },
          "metadata": {
            "needs_background": "light"
          }
        }
      ]
    },
    {
      "cell_type": "markdown",
      "metadata": {
        "id": "48z501Gh6LMd"
      },
      "source": [
        "##### Classification report"
      ],
      "id": "48z501Gh6LMd"
    },
    {
      "cell_type": "code",
      "metadata": {
        "colab": {
          "base_uri": "https://localhost:8080/"
        },
        "id": "AIJvxzUnaHfg",
        "outputId": "6bc1402c-716c-4a82-ab11-4a423ae552a7"
      },
      "source": [
        "print(classification_report(bank_labels_test, random_forest.predict(bank_features_test)))"
      ],
      "id": "AIJvxzUnaHfg",
      "execution_count": 81,
      "outputs": [
        {
          "output_type": "stream",
          "name": "stdout",
          "text": [
            "              precision    recall  f1-score   support\n",
            "\n",
            "           0       0.97      1.00      0.99      1593\n",
            "           1       1.00      0.89      0.94       407\n",
            "\n",
            "    accuracy                           0.98      2000\n",
            "   macro avg       0.99      0.94      0.96      2000\n",
            "weighted avg       0.98      0.98      0.98      2000\n",
            "\n"
          ]
        }
      ]
    },
    {
      "cell_type": "markdown",
      "metadata": {
        "id": "GKoQEuRA63P3"
      },
      "source": [
        "### 2. Adaptive Boosting"
      ],
      "id": "GKoQEuRA63P3"
    },
    {
      "cell_type": "markdown",
      "metadata": {
        "id": "g9E26Niq7Gxs"
      },
      "source": [
        "The same computations were made with AdaBoost - a much stronger algorithm, described as a meta-estimator that begins by fitting a classifier on the original dataset and then fits additional copies of the classifier on the same dataset but where the weights of incorrectly classified instances are adjusted such that subsequent classifiers focus more on difficult cases. It works with a base estimator, i.e., an algorithm which should be improved. Although Random Forest performed really well, it is interesting to see if AdaBoost would be able to lift the results up. Its \"learning_rate\" is tuned and number of estimators are fine-tuned."
      ],
      "id": "g9E26Niq7Gxs"
    },
    {
      "cell_type": "code",
      "metadata": {
        "id": "Yb2MUYDCbz1P"
      },
      "source": [
        "ada_params = {\n",
        "    \"n_estimators\": [10, 15, 20, 25],\n",
        "    \"learning_rate\": [0.4, 0.6, 0.8, 1.0]\n",
        "}"
      ],
      "id": "Yb2MUYDCbz1P",
      "execution_count": 82,
      "outputs": []
    },
    {
      "cell_type": "code",
      "metadata": {
        "id": "k9RTiK8fdU6-"
      },
      "source": [
        "ada_grid = GridSearchCV(AdaBoostClassifier(RandomForestClassifier(n_estimators = 20, max_depth = 10)), param_grid = ada_params, scoring = f1, cv = 5)"
      ],
      "id": "k9RTiK8fdU6-",
      "execution_count": 83,
      "outputs": []
    },
    {
      "cell_type": "code",
      "metadata": {
        "colab": {
          "base_uri": "https://localhost:8080/"
        },
        "id": "qEvcn443c3QY",
        "outputId": "445029be-a8b5-48b4-ec61-e2cd7a5e00c1"
      },
      "source": [
        "ada_grid.fit(bank_features_train, bank_labels_train)"
      ],
      "id": "qEvcn443c3QY",
      "execution_count": 84,
      "outputs": [
        {
          "output_type": "execute_result",
          "data": {
            "text/plain": [
              "GridSearchCV(cv=5, error_score=nan,\n",
              "             estimator=AdaBoostClassifier(algorithm='SAMME.R',\n",
              "                                          base_estimator=RandomForestClassifier(bootstrap=True,\n",
              "                                                                                ccp_alpha=0.0,\n",
              "                                                                                class_weight=None,\n",
              "                                                                                criterion='gini',\n",
              "                                                                                max_depth=10,\n",
              "                                                                                max_features='auto',\n",
              "                                                                                max_leaf_nodes=None,\n",
              "                                                                                max_samples=None,\n",
              "                                                                                min_impurity_decrease=0.0,\n",
              "                                                                                min_impurity_split=None,\n",
              "                                                                                min_samples_leaf=1,\n",
              "                                                                                min_samples_split=2,\n",
              "                                                                                min_we...\n",
              "                                                                                n_estimators=20,\n",
              "                                                                                n_jobs=None,\n",
              "                                                                                oob_score=False,\n",
              "                                                                                random_state=None,\n",
              "                                                                                verbose=0,\n",
              "                                                                                warm_start=False),\n",
              "                                          learning_rate=1.0, n_estimators=50,\n",
              "                                          random_state=None),\n",
              "             iid='deprecated', n_jobs=None,\n",
              "             param_grid={'learning_rate': [0.4, 0.6, 0.8, 1.0],\n",
              "                         'n_estimators': [10, 15, 20, 25]},\n",
              "             pre_dispatch='2*n_jobs', refit=True, return_train_score=False,\n",
              "             scoring=make_scorer(f1_score, average=weighted), verbose=0)"
            ]
          },
          "metadata": {},
          "execution_count": 84
        }
      ]
    },
    {
      "cell_type": "markdown",
      "metadata": {
        "id": "A4FaMhTz9WH1"
      },
      "source": [
        "Grid Search suggests an AdaBoost of 10 estimators trained with learning rate of 0.4 will return the highest accuracy. Random Forest is used with the hyper-parameters found earlier to perform best."
      ],
      "id": "A4FaMhTz9WH1"
    },
    {
      "cell_type": "code",
      "metadata": {
        "colab": {
          "base_uri": "https://localhost:8080/"
        },
        "id": "Fgz3ar1UemT9",
        "outputId": "45caa91c-78aa-4791-d66a-3a3e2c022741"
      },
      "source": [
        "ada_grid.best_params_"
      ],
      "id": "Fgz3ar1UemT9",
      "execution_count": 85,
      "outputs": [
        {
          "output_type": "execute_result",
          "data": {
            "text/plain": [
              "{'learning_rate': 0.4, 'n_estimators': 10}"
            ]
          },
          "metadata": {},
          "execution_count": 85
        }
      ]
    },
    {
      "cell_type": "code",
      "metadata": {
        "id": "fpErhiBZfdzX"
      },
      "source": [
        "ada = AdaBoostClassifier(RandomForestClassifier(n_estimators = 20, max_depth = 10, random_state = 42), \n",
        "                         n_estimators = 10, learning_rate = 0.4)"
      ],
      "id": "fpErhiBZfdzX",
      "execution_count": 86,
      "outputs": []
    },
    {
      "cell_type": "markdown",
      "metadata": {
        "id": "VTaZQ-gu94Dw"
      },
      "source": [
        "#### Model evaluation"
      ],
      "id": "VTaZQ-gu94Dw"
    },
    {
      "cell_type": "markdown",
      "metadata": {
        "id": "zMBiB9iA99kB"
      },
      "source": [
        "##### Accuracy and f1 score"
      ],
      "id": "zMBiB9iA99kB"
    },
    {
      "cell_type": "markdown",
      "metadata": {
        "id": "Pc10ijVe-Gwe"
      },
      "source": [
        "AdaBoost returns slightly higher accuracy and f1 score on the testing data than Random Forest alone."
      ],
      "id": "Pc10ijVe-Gwe"
    },
    {
      "cell_type": "code",
      "metadata": {
        "colab": {
          "base_uri": "https://localhost:8080/"
        },
        "id": "ykd9Kwa2fp0D",
        "outputId": "a07227ed-e92e-486e-d8bb-2d33a82c00b4"
      },
      "source": [
        "model_evaluate(ada, bank_features_train, bank_labels_train)"
      ],
      "id": "ykd9Kwa2fp0D",
      "execution_count": 87,
      "outputs": [
        {
          "output_type": "stream",
          "name": "stdout",
          "text": [
            "Accuracy: 0.9395\n",
            "F1 score: 0.9360715591596271\n"
          ]
        }
      ]
    },
    {
      "cell_type": "code",
      "metadata": {
        "colab": {
          "base_uri": "https://localhost:8080/"
        },
        "id": "m7KkIam3fvs1",
        "outputId": "1766d06f-f93f-452a-f7a5-92e602663d47"
      },
      "source": [
        "model_evaluate(ada, bank_features_test, bank_labels_test)"
      ],
      "id": "m7KkIam3fvs1",
      "execution_count": 88,
      "outputs": [
        {
          "output_type": "stream",
          "name": "stdout",
          "text": [
            "Accuracy: 0.995\n",
            "F1 score: 0.9949767277504842\n"
          ]
        }
      ]
    },
    {
      "cell_type": "markdown",
      "metadata": {
        "id": "_ReX-1Mh-W48"
      },
      "source": [
        "##### Confusion matrix"
      ],
      "id": "_ReX-1Mh-W48"
    },
    {
      "cell_type": "markdown",
      "metadata": {
        "id": "e5BtQpdg-gbw"
      },
      "source": [
        "This time, only 10 samples of class \"1\" are misclassified."
      ],
      "id": "e5BtQpdg-gbw"
    },
    {
      "cell_type": "code",
      "metadata": {
        "colab": {
          "base_uri": "https://localhost:8080/",
          "height": 157
        },
        "id": "JTq-qTkN-Z_N",
        "outputId": "677366ec-87f2-432d-a217-24be0bf270df"
      },
      "source": [
        "plot_confusion_matix(ada, bank_features_test, bank_labels_test)"
      ],
      "id": "JTq-qTkN-Z_N",
      "execution_count": 89,
      "outputs": [
        {
          "output_type": "display_data",
          "data": {
            "image/png": "[encoded data removed]",
            "text/plain": [
              "<Figure size 144x144 with 2 Axes>"
            ]
          },
          "metadata": {
            "needs_background": "light"
          }
        }
      ]
    },
    {
      "cell_type": "markdown",
      "metadata": {
        "id": "mg6k20jk-oTY"
      },
      "source": [
        "##### Classification report"
      ],
      "id": "mg6k20jk-oTY"
    },
    {
      "cell_type": "markdown",
      "metadata": {
        "id": "wEqPBMCs-uZr"
      },
      "source": [
        "Better performace is visible in the Classification report, too."
      ],
      "id": "wEqPBMCs-uZr"
    },
    {
      "cell_type": "code",
      "metadata": {
        "colab": {
          "base_uri": "https://localhost:8080/"
        },
        "id": "lSDbH-qpf1Be",
        "outputId": "6b2c0782-5e52-40a6-9709-ba6103f449a3"
      },
      "source": [
        "print(classification_report(bank_labels_test, ada.predict(bank_features_test)))"
      ],
      "id": "lSDbH-qpf1Be",
      "execution_count": 90,
      "outputs": [
        {
          "output_type": "stream",
          "name": "stdout",
          "text": [
            "              precision    recall  f1-score   support\n",
            "\n",
            "           0       0.99      1.00      1.00      1593\n",
            "           1       1.00      0.98      0.99       407\n",
            "\n",
            "    accuracy                           0.99      2000\n",
            "   macro avg       1.00      0.99      0.99      2000\n",
            "weighted avg       1.00      0.99      0.99      2000\n",
            "\n"
          ]
        }
      ]
    },
    {
      "cell_type": "markdown",
      "metadata": {
        "id": "kcECPTg--3rm"
      },
      "source": [
        "## Conclusion"
      ],
      "id": "kcECPTg--3rm"
    },
    {
      "cell_type": "markdown",
      "metadata": {
        "id": "j25h9Nrp-6R5"
      },
      "source": [
        "To sum up, although accuracy is the most widely used success metric for classification tasks, it is far from perfect. High accuracy, especially on disbalanced and/or small datasets, might hide model problems such as inability to predict a under-represented class. And lastly, Neural Networks could be really powerful algorithms but sometimes, especially for smaller datasets, standard estimators such as Decision Trees and Random Forests, are preferred."
      ],
      "id": "j25h9Nrp-6R5"
    }
  ]
}